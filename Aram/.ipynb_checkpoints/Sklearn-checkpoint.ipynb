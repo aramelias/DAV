{
 "cells": [
  {
   "cell_type": "markdown",
   "metadata": {
    "collapsed": true
   },
   "source": [
    "# Scikit-learn\n",
    "\n",
    "Machine learning is a very broad field, and you will get a more detailed course on this in your second year. We will provide some minor background information, but as time is limited we will only focus on Linear regression and K-means Clustering.\n",
    "\n",
    "Most techniques within Machine Learning can be divided within two groups (although there are many of these splits that you could make, e.g. supervised vs. unsupervised). Those being Regression algorithms and Classification algorithims. These two type of algorithms tackle two distinct problems.\n",
    "\n",
    "Throughout the notebook you will find some links to videos of Andrew Ng (some of his videos can safely be viewed at 1.5x speed). Here they use $\\theta$ to refer to the parameters you learn, so apart from notation, the material is the same.\n",
    "\n",
    "## Regression\n",
    "With regression you assume that the values come from some sort of function, and you try to find this function. Most techniques will try to fit some mathematical function that describes a curve, such that the curve passes as close as possible to all the data points. \n",
    "\n",
    "## Classification\n",
    "Classification is discrete, an object belongs to precisely one class, and the set of all classes covers all posibilities. You have no values in-between classes. \n",
    "\n",
    "## Supervised Learning\n",
    "Can be applied to data that has both features and labels. Your task usually exsits of contructing an estimator which is able to predict the label of an object given its features.\n",
    "\n",
    "Useful video: \n",
    "* [Supervised Learning](https://www.youtube.com/watch?v=ls7Ke48jCt8&list=PLZ9qNFMHZ-A4rycgrgOYma6zxF4BZGGPW&index=3)\n",
    "* [Linear Regression](https://www.youtube.com/watch?v=PBZUjnGuXjA&index=5&list=PLZ9qNFMHZ-A4rycgrgOYma6zxF4BZGGPW)\n",
    "\n",
    "## Unsupervised Learning\n",
    "Can be applies to data that has no labels, and with these techniques we attempt to find interesting similarities between the objects. You are essentially trying to discover labels yourself.\n",
    "\n",
    "Useful video: [Unsupervised Learning](https://www.youtube.com/watch?v=qHfUlFHGG08&index=4&list=PLZ9qNFMHZ-A4rycgrgOYma6zxF4BZGGPW)"
   ]
  },
  {
   "cell_type": "markdown",
   "metadata": {},
   "source": [
    "# Linear Regression\n",
    "\n",
    "We will be going over how to use the scikit-learn regression model, as well as how to train the regressor using the `fit()` method, and how to predict new labels using the `predict()` method. From time to time we might introduce some mathematics as well, but the intention is to focus on implementation details.\n",
    "\n",
    "If you're interested in the deeper mathematics of linear regession methods, check out the [wikipedia page](http://en.wikipedia.org/wiki/Linear_regression)."
   ]
  },
  {
   "cell_type": "markdown",
   "metadata": {},
   "source": [
    "## Setup and Data\n",
    "For the following examples we will be using a built-in data set (quite convenient) containing housing prices of Boston. The following code will contain the imports for numpy, bokeh, pandas and the dataset from sklearn."
   ]
  },
  {
   "cell_type": "code",
   "execution_count": 23,
   "metadata": {},
   "outputs": [
    {
     "data": {
      "text/html": [
       "\n",
       "    <div class=\"bk-root\">\n",
       "        <a href=\"https://bokeh.pydata.org\" target=\"_blank\" class=\"bk-logo bk-logo-small bk-logo-notebook\"></a>\n",
       "        <span id=\"ca67cde6-1188-4415-8e15-6269b26b6e7d\">Loading BokehJS ...</span>\n",
       "    </div>"
      ]
     },
     "metadata": {},
     "output_type": "display_data"
    },
    {
     "data": {
      "application/javascript": [
       "\n",
       "(function(root) {\n",
       "  function now() {\n",
       "    return new Date();\n",
       "  }\n",
       "\n",
       "  var force = true;\n",
       "\n",
       "  if (typeof (root._bokeh_onload_callbacks) === \"undefined\" || force === true) {\n",
       "    root._bokeh_onload_callbacks = [];\n",
       "    root._bokeh_is_loading = undefined;\n",
       "  }\n",
       "\n",
       "  var JS_MIME_TYPE = 'application/javascript';\n",
       "  var HTML_MIME_TYPE = 'text/html';\n",
       "  var EXEC_MIME_TYPE = 'application/vnd.bokehjs_exec.v0+json';\n",
       "  var CLASS_NAME = 'output_bokeh rendered_html';\n",
       "\n",
       "  /**\n",
       "   * Render data to the DOM node\n",
       "   */\n",
       "  function render(props, node) {\n",
       "    var script = document.createElement(\"script\");\n",
       "    node.appendChild(script);\n",
       "  }\n",
       "\n",
       "  /**\n",
       "   * Handle when an output is cleared or removed\n",
       "   */\n",
       "  function handleClearOutput(event, handle) {\n",
       "    var cell = handle.cell;\n",
       "\n",
       "    var id = cell.output_area._bokeh_element_id;\n",
       "    var server_id = cell.output_area._bokeh_server_id;\n",
       "    // Clean up Bokeh references\n",
       "    if (id != null && id in Bokeh.index) {\n",
       "      Bokeh.index[id].model.document.clear();\n",
       "      delete Bokeh.index[id];\n",
       "    }\n",
       "\n",
       "    if (server_id !== undefined) {\n",
       "      // Clean up Bokeh references\n",
       "      var cmd = \"from bokeh.io.state import curstate; print(curstate().uuid_to_server['\" + server_id + \"'].get_sessions()[0].document.roots[0]._id)\";\n",
       "      cell.notebook.kernel.execute(cmd, {\n",
       "        iopub: {\n",
       "          output: function(msg) {\n",
       "            var id = msg.content.text.trim();\n",
       "            if (id in Bokeh.index) {\n",
       "              Bokeh.index[id].model.document.clear();\n",
       "              delete Bokeh.index[id];\n",
       "            }\n",
       "          }\n",
       "        }\n",
       "      });\n",
       "      // Destroy server and session\n",
       "      var cmd = \"import bokeh.io.notebook as ion; ion.destroy_server('\" + server_id + \"')\";\n",
       "      cell.notebook.kernel.execute(cmd);\n",
       "    }\n",
       "  }\n",
       "\n",
       "  /**\n",
       "   * Handle when a new output is added\n",
       "   */\n",
       "  function handleAddOutput(event, handle) {\n",
       "    var output_area = handle.output_area;\n",
       "    var output = handle.output;\n",
       "\n",
       "    // limit handleAddOutput to display_data with EXEC_MIME_TYPE content only\n",
       "    if ((output.output_type != \"display_data\") || (!output.data.hasOwnProperty(EXEC_MIME_TYPE))) {\n",
       "      return\n",
       "    }\n",
       "\n",
       "    var toinsert = output_area.element.find(\".\" + CLASS_NAME.split(' ')[0]);\n",
       "\n",
       "    if (output.metadata[EXEC_MIME_TYPE][\"id\"] !== undefined) {\n",
       "      toinsert[toinsert.length - 1].firstChild.textContent = output.data[JS_MIME_TYPE];\n",
       "      // store reference to embed id on output_area\n",
       "      output_area._bokeh_element_id = output.metadata[EXEC_MIME_TYPE][\"id\"];\n",
       "    }\n",
       "    if (output.metadata[EXEC_MIME_TYPE][\"server_id\"] !== undefined) {\n",
       "      var bk_div = document.createElement(\"div\");\n",
       "      bk_div.innerHTML = output.data[HTML_MIME_TYPE];\n",
       "      var script_attrs = bk_div.children[0].attributes;\n",
       "      for (var i = 0; i < script_attrs.length; i++) {\n",
       "        toinsert[toinsert.length - 1].firstChild.setAttribute(script_attrs[i].name, script_attrs[i].value);\n",
       "      }\n",
       "      // store reference to server id on output_area\n",
       "      output_area._bokeh_server_id = output.metadata[EXEC_MIME_TYPE][\"server_id\"];\n",
       "    }\n",
       "  }\n",
       "\n",
       "  function register_renderer(events, OutputArea) {\n",
       "\n",
       "    function append_mime(data, metadata, element) {\n",
       "      // create a DOM node to render to\n",
       "      var toinsert = this.create_output_subarea(\n",
       "        metadata,\n",
       "        CLASS_NAME,\n",
       "        EXEC_MIME_TYPE\n",
       "      );\n",
       "      this.keyboard_manager.register_events(toinsert);\n",
       "      // Render to node\n",
       "      var props = {data: data, metadata: metadata[EXEC_MIME_TYPE]};\n",
       "      render(props, toinsert[toinsert.length - 1]);\n",
       "      element.append(toinsert);\n",
       "      return toinsert\n",
       "    }\n",
       "\n",
       "    /* Handle when an output is cleared or removed */\n",
       "    events.on('clear_output.CodeCell', handleClearOutput);\n",
       "    events.on('delete.Cell', handleClearOutput);\n",
       "\n",
       "    /* Handle when a new output is added */\n",
       "    events.on('output_added.OutputArea', handleAddOutput);\n",
       "\n",
       "    /**\n",
       "     * Register the mime type and append_mime function with output_area\n",
       "     */\n",
       "    OutputArea.prototype.register_mime_type(EXEC_MIME_TYPE, append_mime, {\n",
       "      /* Is output safe? */\n",
       "      safe: true,\n",
       "      /* Index of renderer in `output_area.display_order` */\n",
       "      index: 0\n",
       "    });\n",
       "  }\n",
       "\n",
       "  // register the mime type if in Jupyter Notebook environment and previously unregistered\n",
       "  if (root.Jupyter !== undefined) {\n",
       "    var events = require('base/js/events');\n",
       "    var OutputArea = require('notebook/js/outputarea').OutputArea;\n",
       "\n",
       "    if (OutputArea.prototype.mime_types().indexOf(EXEC_MIME_TYPE) == -1) {\n",
       "      register_renderer(events, OutputArea);\n",
       "    }\n",
       "  }\n",
       "\n",
       "  \n",
       "  if (typeof (root._bokeh_timeout) === \"undefined\" || force === true) {\n",
       "    root._bokeh_timeout = Date.now() + 5000;\n",
       "    root._bokeh_failed_load = false;\n",
       "  }\n",
       "\n",
       "  var NB_LOAD_WARNING = {'data': {'text/html':\n",
       "     \"<div style='background-color: #fdd'>\\n\"+\n",
       "     \"<p>\\n\"+\n",
       "     \"BokehJS does not appear to have successfully loaded. If loading BokehJS from CDN, this \\n\"+\n",
       "     \"may be due to a slow or bad network connection. Possible fixes:\\n\"+\n",
       "     \"</p>\\n\"+\n",
       "     \"<ul>\\n\"+\n",
       "     \"<li>re-rerun `output_notebook()` to attempt to load from CDN again, or</li>\\n\"+\n",
       "     \"<li>use INLINE resources instead, as so:</li>\\n\"+\n",
       "     \"</ul>\\n\"+\n",
       "     \"<code>\\n\"+\n",
       "     \"from bokeh.resources import INLINE\\n\"+\n",
       "     \"output_notebook(resources=INLINE)\\n\"+\n",
       "     \"</code>\\n\"+\n",
       "     \"</div>\"}};\n",
       "\n",
       "  function display_loaded() {\n",
       "    var el = document.getElementById(\"ca67cde6-1188-4415-8e15-6269b26b6e7d\");\n",
       "    if (el != null) {\n",
       "      el.textContent = \"BokehJS is loading...\";\n",
       "    }\n",
       "    if (root.Bokeh !== undefined) {\n",
       "      if (el != null) {\n",
       "        el.textContent = \"BokehJS \" + root.Bokeh.version + \" successfully loaded.\";\n",
       "      }\n",
       "    } else if (Date.now() < root._bokeh_timeout) {\n",
       "      setTimeout(display_loaded, 100)\n",
       "    }\n",
       "  }\n",
       "\n",
       "\n",
       "  function run_callbacks() {\n",
       "    try {\n",
       "      root._bokeh_onload_callbacks.forEach(function(callback) { callback() });\n",
       "    }\n",
       "    finally {\n",
       "      delete root._bokeh_onload_callbacks\n",
       "    }\n",
       "    console.info(\"Bokeh: all callbacks have finished\");\n",
       "  }\n",
       "\n",
       "  function load_libs(js_urls, callback) {\n",
       "    root._bokeh_onload_callbacks.push(callback);\n",
       "    if (root._bokeh_is_loading > 0) {\n",
       "      console.log(\"Bokeh: BokehJS is being loaded, scheduling callback at\", now());\n",
       "      return null;\n",
       "    }\n",
       "    if (js_urls == null || js_urls.length === 0) {\n",
       "      run_callbacks();\n",
       "      return null;\n",
       "    }\n",
       "    console.log(\"Bokeh: BokehJS not loaded, scheduling load and callback at\", now());\n",
       "    root._bokeh_is_loading = js_urls.length;\n",
       "    for (var i = 0; i < js_urls.length; i++) {\n",
       "      var url = js_urls[i];\n",
       "      var s = document.createElement('script');\n",
       "      s.src = url;\n",
       "      s.async = false;\n",
       "      s.onreadystatechange = s.onload = function() {\n",
       "        root._bokeh_is_loading--;\n",
       "        if (root._bokeh_is_loading === 0) {\n",
       "          console.log(\"Bokeh: all BokehJS libraries loaded\");\n",
       "          run_callbacks()\n",
       "        }\n",
       "      };\n",
       "      s.onerror = function() {\n",
       "        console.warn(\"failed to load library \" + url);\n",
       "      };\n",
       "      console.log(\"Bokeh: injecting script tag for BokehJS library: \", url);\n",
       "      document.getElementsByTagName(\"head\")[0].appendChild(s);\n",
       "    }\n",
       "  };var element = document.getElementById(\"ca67cde6-1188-4415-8e15-6269b26b6e7d\");\n",
       "  if (element == null) {\n",
       "    console.log(\"Bokeh: ERROR: autoload.js configured with elementid 'ca67cde6-1188-4415-8e15-6269b26b6e7d' but no matching script tag was found. \")\n",
       "    return false;\n",
       "  }\n",
       "\n",
       "  var js_urls = [\"https://cdn.pydata.org/bokeh/release/bokeh-0.13.0.min.js\", \"https://cdn.pydata.org/bokeh/release/bokeh-widgets-0.13.0.min.js\", \"https://cdn.pydata.org/bokeh/release/bokeh-tables-0.13.0.min.js\", \"https://cdn.pydata.org/bokeh/release/bokeh-gl-0.13.0.min.js\"];\n",
       "\n",
       "  var inline_js = [\n",
       "    function(Bokeh) {\n",
       "      Bokeh.set_log_level(\"info\");\n",
       "    },\n",
       "    \n",
       "    function(Bokeh) {\n",
       "      \n",
       "    },\n",
       "    function(Bokeh) {\n",
       "      console.log(\"Bokeh: injecting CSS: https://cdn.pydata.org/bokeh/release/bokeh-0.13.0.min.css\");\n",
       "      Bokeh.embed.inject_css(\"https://cdn.pydata.org/bokeh/release/bokeh-0.13.0.min.css\");\n",
       "      console.log(\"Bokeh: injecting CSS: https://cdn.pydata.org/bokeh/release/bokeh-widgets-0.13.0.min.css\");\n",
       "      Bokeh.embed.inject_css(\"https://cdn.pydata.org/bokeh/release/bokeh-widgets-0.13.0.min.css\");\n",
       "      console.log(\"Bokeh: injecting CSS: https://cdn.pydata.org/bokeh/release/bokeh-tables-0.13.0.min.css\");\n",
       "      Bokeh.embed.inject_css(\"https://cdn.pydata.org/bokeh/release/bokeh-tables-0.13.0.min.css\");\n",
       "    }\n",
       "  ];\n",
       "\n",
       "  function run_inline_js() {\n",
       "    \n",
       "    if ((root.Bokeh !== undefined) || (force === true)) {\n",
       "      for (var i = 0; i < inline_js.length; i++) {\n",
       "        inline_js[i].call(root, root.Bokeh);\n",
       "      }if (force === true) {\n",
       "        display_loaded();\n",
       "      }} else if (Date.now() < root._bokeh_timeout) {\n",
       "      setTimeout(run_inline_js, 100);\n",
       "    } else if (!root._bokeh_failed_load) {\n",
       "      console.log(\"Bokeh: BokehJS failed to load within specified timeout.\");\n",
       "      root._bokeh_failed_load = true;\n",
       "    } else if (force !== true) {\n",
       "      var cell = $(document.getElementById(\"ca67cde6-1188-4415-8e15-6269b26b6e7d\")).parents('.cell').data().cell;\n",
       "      cell.output_area.append_execute_result(NB_LOAD_WARNING)\n",
       "    }\n",
       "\n",
       "  }\n",
       "\n",
       "  if (root._bokeh_is_loading === 0) {\n",
       "    console.log(\"Bokeh: BokehJS loaded, going straight to plotting\");\n",
       "    run_inline_js();\n",
       "  } else {\n",
       "    load_libs(js_urls, function() {\n",
       "      console.log(\"Bokeh: BokehJS plotting callback run at\", now());\n",
       "      run_inline_js();\n",
       "    });\n",
       "  }\n",
       "}(window));"
      ],
      "application/vnd.bokehjs_load.v0+json": "\n(function(root) {\n  function now() {\n    return new Date();\n  }\n\n  var force = true;\n\n  if (typeof (root._bokeh_onload_callbacks) === \"undefined\" || force === true) {\n    root._bokeh_onload_callbacks = [];\n    root._bokeh_is_loading = undefined;\n  }\n\n  \n\n  \n  if (typeof (root._bokeh_timeout) === \"undefined\" || force === true) {\n    root._bokeh_timeout = Date.now() + 5000;\n    root._bokeh_failed_load = false;\n  }\n\n  var NB_LOAD_WARNING = {'data': {'text/html':\n     \"<div style='background-color: #fdd'>\\n\"+\n     \"<p>\\n\"+\n     \"BokehJS does not appear to have successfully loaded. If loading BokehJS from CDN, this \\n\"+\n     \"may be due to a slow or bad network connection. Possible fixes:\\n\"+\n     \"</p>\\n\"+\n     \"<ul>\\n\"+\n     \"<li>re-rerun `output_notebook()` to attempt to load from CDN again, or</li>\\n\"+\n     \"<li>use INLINE resources instead, as so:</li>\\n\"+\n     \"</ul>\\n\"+\n     \"<code>\\n\"+\n     \"from bokeh.resources import INLINE\\n\"+\n     \"output_notebook(resources=INLINE)\\n\"+\n     \"</code>\\n\"+\n     \"</div>\"}};\n\n  function display_loaded() {\n    var el = document.getElementById(\"ca67cde6-1188-4415-8e15-6269b26b6e7d\");\n    if (el != null) {\n      el.textContent = \"BokehJS is loading...\";\n    }\n    if (root.Bokeh !== undefined) {\n      if (el != null) {\n        el.textContent = \"BokehJS \" + root.Bokeh.version + \" successfully loaded.\";\n      }\n    } else if (Date.now() < root._bokeh_timeout) {\n      setTimeout(display_loaded, 100)\n    }\n  }\n\n\n  function run_callbacks() {\n    try {\n      root._bokeh_onload_callbacks.forEach(function(callback) { callback() });\n    }\n    finally {\n      delete root._bokeh_onload_callbacks\n    }\n    console.info(\"Bokeh: all callbacks have finished\");\n  }\n\n  function load_libs(js_urls, callback) {\n    root._bokeh_onload_callbacks.push(callback);\n    if (root._bokeh_is_loading > 0) {\n      console.log(\"Bokeh: BokehJS is being loaded, scheduling callback at\", now());\n      return null;\n    }\n    if (js_urls == null || js_urls.length === 0) {\n      run_callbacks();\n      return null;\n    }\n    console.log(\"Bokeh: BokehJS not loaded, scheduling load and callback at\", now());\n    root._bokeh_is_loading = js_urls.length;\n    for (var i = 0; i < js_urls.length; i++) {\n      var url = js_urls[i];\n      var s = document.createElement('script');\n      s.src = url;\n      s.async = false;\n      s.onreadystatechange = s.onload = function() {\n        root._bokeh_is_loading--;\n        if (root._bokeh_is_loading === 0) {\n          console.log(\"Bokeh: all BokehJS libraries loaded\");\n          run_callbacks()\n        }\n      };\n      s.onerror = function() {\n        console.warn(\"failed to load library \" + url);\n      };\n      console.log(\"Bokeh: injecting script tag for BokehJS library: \", url);\n      document.getElementsByTagName(\"head\")[0].appendChild(s);\n    }\n  };var element = document.getElementById(\"ca67cde6-1188-4415-8e15-6269b26b6e7d\");\n  if (element == null) {\n    console.log(\"Bokeh: ERROR: autoload.js configured with elementid 'ca67cde6-1188-4415-8e15-6269b26b6e7d' but no matching script tag was found. \")\n    return false;\n  }\n\n  var js_urls = [\"https://cdn.pydata.org/bokeh/release/bokeh-0.13.0.min.js\", \"https://cdn.pydata.org/bokeh/release/bokeh-widgets-0.13.0.min.js\", \"https://cdn.pydata.org/bokeh/release/bokeh-tables-0.13.0.min.js\", \"https://cdn.pydata.org/bokeh/release/bokeh-gl-0.13.0.min.js\"];\n\n  var inline_js = [\n    function(Bokeh) {\n      Bokeh.set_log_level(\"info\");\n    },\n    \n    function(Bokeh) {\n      \n    },\n    function(Bokeh) {\n      console.log(\"Bokeh: injecting CSS: https://cdn.pydata.org/bokeh/release/bokeh-0.13.0.min.css\");\n      Bokeh.embed.inject_css(\"https://cdn.pydata.org/bokeh/release/bokeh-0.13.0.min.css\");\n      console.log(\"Bokeh: injecting CSS: https://cdn.pydata.org/bokeh/release/bokeh-widgets-0.13.0.min.css\");\n      Bokeh.embed.inject_css(\"https://cdn.pydata.org/bokeh/release/bokeh-widgets-0.13.0.min.css\");\n      console.log(\"Bokeh: injecting CSS: https://cdn.pydata.org/bokeh/release/bokeh-tables-0.13.0.min.css\");\n      Bokeh.embed.inject_css(\"https://cdn.pydata.org/bokeh/release/bokeh-tables-0.13.0.min.css\");\n    }\n  ];\n\n  function run_inline_js() {\n    \n    if ((root.Bokeh !== undefined) || (force === true)) {\n      for (var i = 0; i < inline_js.length; i++) {\n        inline_js[i].call(root, root.Bokeh);\n      }if (force === true) {\n        display_loaded();\n      }} else if (Date.now() < root._bokeh_timeout) {\n      setTimeout(run_inline_js, 100);\n    } else if (!root._bokeh_failed_load) {\n      console.log(\"Bokeh: BokehJS failed to load within specified timeout.\");\n      root._bokeh_failed_load = true;\n    } else if (force !== true) {\n      var cell = $(document.getElementById(\"ca67cde6-1188-4415-8e15-6269b26b6e7d\")).parents('.cell').data().cell;\n      cell.output_area.append_execute_result(NB_LOAD_WARNING)\n    }\n\n  }\n\n  if (root._bokeh_is_loading === 0) {\n    console.log(\"Bokeh: BokehJS loaded, going straight to plotting\");\n    run_inline_js();\n  } else {\n    load_libs(js_urls, function() {\n      console.log(\"Bokeh: BokehJS plotting callback run at\", now());\n      run_inline_js();\n    });\n  }\n}(window));"
     },
     "metadata": {},
     "output_type": "display_data"
    }
   ],
   "source": [
    "import numpy as np\n",
    "\n",
    "import pandas as pd\n",
    "from pandas import Series,DataFrame\n",
    "from bokeh.layouts import gridplot, row, column\n",
    "\n",
    "from bokeh.io import push_notebook, show, output_notebook\n",
    "from bokeh.plotting import figure\n",
    "\n",
    "from sklearn.datasets import load_boston\n",
    "\n",
    "# For very simple visualizations (without too much interaction, output_notebook works too, which we enable here)\n",
    "output_notebook()"
   ]
  },
  {
   "cell_type": "code",
   "execution_count": 5,
   "metadata": {},
   "outputs": [
    {
     "name": "stdout",
     "output_type": "stream",
     "text": [
      "dict_keys(['data', 'target', 'feature_names', 'DESCR'])\n",
      "Boston House Prices dataset\n",
      "===========================\n",
      "\n",
      "Notes\n",
      "------\n",
      "Data Set Characteristics:  \n",
      "\n",
      "    :Number of Instances: 506 \n",
      "\n",
      "    :Number of Attributes: 13 numeric/categorical predictive\n",
      "    \n",
      "    :Median Value (attribute 14) is usually the target\n",
      "\n",
      "    :Attribute Information (in order):\n",
      "        - CRIM     per capita crime rate by town\n",
      "        - ZN       proportion of residential land zoned for lots over 25,000 sq.ft.\n",
      "        - INDUS    proportion of non-retail business acres per town\n",
      "        - CHAS     Charles River dummy variable (= 1 if tract bounds river; 0 otherwise)\n",
      "        - NOX      nitric oxides concentration (parts per 10 million)\n",
      "        - RM       average number of rooms per dwelling\n",
      "        - AGE      proportion of owner-occupied units built prior to 1940\n",
      "        - DIS      weighted distances to five Boston employment centres\n",
      "        - RAD      index of accessibility to radial highways\n",
      "        - TAX      full-value property-tax rate per $10,000\n",
      "        - PTRATIO  pupil-teacher ratio by town\n",
      "        - B        1000(Bk - 0.63)^2 where Bk is the proportion of blacks by town\n",
      "        - LSTAT    % lower status of the population\n",
      "        - MEDV     Median value of owner-occupied homes in $1000's\n",
      "\n",
      "    :Missing Attribute Values: None\n",
      "\n",
      "    :Creator: Harrison, D. and Rubinfeld, D.L.\n",
      "\n",
      "This is a copy of UCI ML housing dataset.\n",
      "http://archive.ics.uci.edu/ml/datasets/Housing\n",
      "\n",
      "\n",
      "This dataset was taken from the StatLib library which is maintained at Carnegie Mellon University.\n",
      "\n",
      "The Boston house-price data of Harrison, D. and Rubinfeld, D.L. 'Hedonic\n",
      "prices and the demand for clean air', J. Environ. Economics & Management,\n",
      "vol.5, 81-102, 1978.   Used in Belsley, Kuh & Welsch, 'Regression diagnostics\n",
      "...', Wiley, 1980.   N.B. Various transformations are used in the table on\n",
      "pages 244-261 of the latter.\n",
      "\n",
      "The Boston house-price data has been used in many machine learning papers that address regression\n",
      "problems.   \n",
      "     \n",
      "**References**\n",
      "\n",
      "   - Belsley, Kuh & Welsch, 'Regression diagnostics: Identifying Influential Data and Sources of Collinearity', Wiley, 1980. 244-261.\n",
      "   - Quinlan,R. (1993). Combining Instance-Based and Model-Based Learning. In Proceedings on the Tenth International Conference of Machine Learning, 236-243, University of Massachusetts, Amherst. Morgan Kaufmann.\n",
      "   - many more! (see http://archive.ics.uci.edu/ml/datasets/Housing)\n",
      "\n"
     ]
    }
   ],
   "source": [
    "# Load the housing dataset - a dictionary\n",
    "boston = load_boston()\n",
    "print(boston.keys())\n",
    "# Let's see some details\n",
    "print(boston.DESCR)"
   ]
  },
  {
   "cell_type": "markdown",
   "metadata": {},
   "source": [
    "So with the above information we deduce that we have some variables stored under de `data` key, the names of each of these features stored in `feature_names`, and that we have their expected prices stored in `target`. We might as well whip the `data` into a DataFrame as well, while we are at it."
   ]
  },
  {
   "cell_type": "code",
   "execution_count": 6,
   "metadata": {},
   "outputs": [
    {
     "data": {
      "text/html": [
       "<div>\n",
       "<style scoped>\n",
       "    .dataframe tbody tr th:only-of-type {\n",
       "        vertical-align: middle;\n",
       "    }\n",
       "\n",
       "    .dataframe tbody tr th {\n",
       "        vertical-align: top;\n",
       "    }\n",
       "\n",
       "    .dataframe thead th {\n",
       "        text-align: right;\n",
       "    }\n",
       "</style>\n",
       "<table border=\"1\" class=\"dataframe\">\n",
       "  <thead>\n",
       "    <tr style=\"text-align: right;\">\n",
       "      <th></th>\n",
       "      <th>CRIM</th>\n",
       "      <th>ZN</th>\n",
       "      <th>INDUS</th>\n",
       "      <th>CHAS</th>\n",
       "      <th>NOX</th>\n",
       "      <th>RM</th>\n",
       "      <th>AGE</th>\n",
       "      <th>DIS</th>\n",
       "      <th>RAD</th>\n",
       "      <th>TAX</th>\n",
       "      <th>PTRATIO</th>\n",
       "      <th>B</th>\n",
       "      <th>LSTAT</th>\n",
       "      <th>Price</th>\n",
       "    </tr>\n",
       "  </thead>\n",
       "  <tbody>\n",
       "    <tr>\n",
       "      <th>0</th>\n",
       "      <td>0.00632</td>\n",
       "      <td>18.0</td>\n",
       "      <td>2.31</td>\n",
       "      <td>0.0</td>\n",
       "      <td>0.538</td>\n",
       "      <td>6.575</td>\n",
       "      <td>65.2</td>\n",
       "      <td>4.0900</td>\n",
       "      <td>1.0</td>\n",
       "      <td>296.0</td>\n",
       "      <td>15.3</td>\n",
       "      <td>396.90</td>\n",
       "      <td>4.98</td>\n",
       "      <td>24.0</td>\n",
       "    </tr>\n",
       "    <tr>\n",
       "      <th>1</th>\n",
       "      <td>0.02731</td>\n",
       "      <td>0.0</td>\n",
       "      <td>7.07</td>\n",
       "      <td>0.0</td>\n",
       "      <td>0.469</td>\n",
       "      <td>6.421</td>\n",
       "      <td>78.9</td>\n",
       "      <td>4.9671</td>\n",
       "      <td>2.0</td>\n",
       "      <td>242.0</td>\n",
       "      <td>17.8</td>\n",
       "      <td>396.90</td>\n",
       "      <td>9.14</td>\n",
       "      <td>21.6</td>\n",
       "    </tr>\n",
       "    <tr>\n",
       "      <th>2</th>\n",
       "      <td>0.02729</td>\n",
       "      <td>0.0</td>\n",
       "      <td>7.07</td>\n",
       "      <td>0.0</td>\n",
       "      <td>0.469</td>\n",
       "      <td>7.185</td>\n",
       "      <td>61.1</td>\n",
       "      <td>4.9671</td>\n",
       "      <td>2.0</td>\n",
       "      <td>242.0</td>\n",
       "      <td>17.8</td>\n",
       "      <td>392.83</td>\n",
       "      <td>4.03</td>\n",
       "      <td>34.7</td>\n",
       "    </tr>\n",
       "    <tr>\n",
       "      <th>3</th>\n",
       "      <td>0.03237</td>\n",
       "      <td>0.0</td>\n",
       "      <td>2.18</td>\n",
       "      <td>0.0</td>\n",
       "      <td>0.458</td>\n",
       "      <td>6.998</td>\n",
       "      <td>45.8</td>\n",
       "      <td>6.0622</td>\n",
       "      <td>3.0</td>\n",
       "      <td>222.0</td>\n",
       "      <td>18.7</td>\n",
       "      <td>394.63</td>\n",
       "      <td>2.94</td>\n",
       "      <td>33.4</td>\n",
       "    </tr>\n",
       "    <tr>\n",
       "      <th>4</th>\n",
       "      <td>0.06905</td>\n",
       "      <td>0.0</td>\n",
       "      <td>2.18</td>\n",
       "      <td>0.0</td>\n",
       "      <td>0.458</td>\n",
       "      <td>7.147</td>\n",
       "      <td>54.2</td>\n",
       "      <td>6.0622</td>\n",
       "      <td>3.0</td>\n",
       "      <td>222.0</td>\n",
       "      <td>18.7</td>\n",
       "      <td>396.90</td>\n",
       "      <td>5.33</td>\n",
       "      <td>36.2</td>\n",
       "    </tr>\n",
       "  </tbody>\n",
       "</table>\n",
       "</div>"
      ],
      "text/plain": [
       "      CRIM    ZN  INDUS  CHAS    NOX     RM   AGE     DIS  RAD    TAX  \\\n",
       "0  0.00632  18.0   2.31   0.0  0.538  6.575  65.2  4.0900  1.0  296.0   \n",
       "1  0.02731   0.0   7.07   0.0  0.469  6.421  78.9  4.9671  2.0  242.0   \n",
       "2  0.02729   0.0   7.07   0.0  0.469  7.185  61.1  4.9671  2.0  242.0   \n",
       "3  0.03237   0.0   2.18   0.0  0.458  6.998  45.8  6.0622  3.0  222.0   \n",
       "4  0.06905   0.0   2.18   0.0  0.458  7.147  54.2  6.0622  3.0  222.0   \n",
       "\n",
       "   PTRATIO       B  LSTAT  Price  \n",
       "0     15.3  396.90   4.98   24.0  \n",
       "1     17.8  396.90   9.14   21.6  \n",
       "2     17.8  392.83   4.03   34.7  \n",
       "3     18.7  394.63   2.94   33.4  \n",
       "4     18.7  396.90   5.33   36.2  "
      ]
     },
     "execution_count": 6,
     "metadata": {},
     "output_type": "execute_result"
    }
   ],
   "source": [
    "# set data as pandas DataFrame\n",
    "boston_df = DataFrame(boston.data)\n",
    "\n",
    "# label columns\n",
    "boston_df.columns = boston.feature_names\n",
    "\n",
    "# Add target prices\n",
    "boston_df['Price'] = boston.target\n",
    "\n",
    "#show\n",
    "boston_df.head()"
   ]
  },
  {
   "cell_type": "markdown",
   "metadata": {},
   "source": [
    "Let us now do an initial visualisation, to explore to some degree what we have"
   ]
  },
  {
   "cell_type": "code",
   "execution_count": 7,
   "metadata": {},
   "outputs": [
    {
     "data": {
      "text/html": [
       "\n",
       "\n",
       "\n",
       "\n",
       "\n",
       "\n",
       "  <div class=\"bk-root\" id=\"1193e798-6ce2-4d32-8193-aa7b785efe44\"></div>\n"
      ]
     },
     "metadata": {},
     "output_type": "display_data"
    },
    {
     "data": {
      "application/javascript": [
       "(function(root) {\n",
       "  function embed_document(root) {\n",
       "    \n",
       "  var docs_json = {\"683262ed-3fec-4c82-8aca-ffb26b3fd5f0\":{\"roots\":{\"references\":[{\"attributes\":{},\"id\":\"4405c386-9297-46f9-8c61-d52ae5095064\",\"type\":\"BasicTicker\"},{\"attributes\":{\"dimension\":1,\"plot\":{\"id\":\"d698f615-a8cd-4706-a44a-2bf7f7e1fb48\",\"subtype\":\"Figure\",\"type\":\"Plot\"},\"ticker\":{\"id\":\"4405c386-9297-46f9-8c61-d52ae5095064\",\"type\":\"BasicTicker\"}},\"id\":\"d84a65b4-c3cc-4669-b1f6-a8433b9fe3ce\",\"type\":\"Grid\"},{\"attributes\":{},\"id\":\"b02693d0-ceb8-4793-8d44-e25bf8a99e37\",\"type\":\"UnionRenderers\"},{\"attributes\":{\"bottom_units\":\"screen\",\"fill_alpha\":{\"value\":0.5},\"fill_color\":{\"value\":\"lightgrey\"},\"left_units\":\"screen\",\"level\":\"overlay\",\"line_alpha\":{\"value\":1.0},\"line_color\":{\"value\":\"black\"},\"line_dash\":[4,4],\"line_width\":{\"value\":2},\"plot\":null,\"render_mode\":\"css\",\"right_units\":\"screen\",\"top_units\":\"screen\"},\"id\":\"f130d59c-96e8-4074-af97-0a5cde4bbd56\",\"type\":\"BoxAnnotation\"},{\"attributes\":{\"data_source\":{\"id\":\"2ee176a6-7fe1-4492-87da-85c659951244\",\"type\":\"ColumnDataSource\"},\"glyph\":{\"id\":\"86c9cf9c-9128-45d6-97a1-c92c54dcaa5a\",\"type\":\"Quad\"},\"hover_glyph\":null,\"muted_glyph\":null,\"nonselection_glyph\":{\"id\":\"0b80eb8a-89ef-4e41-9238-67d1d0c41fc6\",\"type\":\"Quad\"},\"selection_glyph\":null,\"view\":{\"id\":\"ae200cfc-87b0-45f8-bdbf-4373c2f41e0f\",\"type\":\"CDSView\"}},\"id\":\"504b662a-2647-41f6-9d7e-1532ea0495d2\",\"type\":\"GlyphRenderer\"},{\"attributes\":{\"bottom\":{\"value\":0},\"fill_alpha\":{\"value\":0.1},\"fill_color\":{\"value\":\"#1f77b4\"},\"left\":{\"field\":\"left\"},\"line_alpha\":{\"value\":0.1},\"line_color\":{\"value\":\"#1f77b4\"},\"right\":{\"field\":\"right\"},\"top\":{\"field\":\"top\"}},\"id\":\"0b80eb8a-89ef-4e41-9238-67d1d0c41fc6\",\"type\":\"Quad\"},{\"attributes\":{\"source\":{\"id\":\"2ee176a6-7fe1-4492-87da-85c659951244\",\"type\":\"ColumnDataSource\"}},\"id\":\"ae200cfc-87b0-45f8-bdbf-4373c2f41e0f\",\"type\":\"CDSView\"},{\"attributes\":{\"below\":[{\"id\":\"9119e083-fdb4-4326-a4f5-d05d124f8063\",\"type\":\"LinearAxis\"}],\"left\":[{\"id\":\"8aa32393-c722-4086-aa45-d3e9800ef7db\",\"type\":\"LinearAxis\"}],\"plot_height\":250,\"plot_width\":400,\"renderers\":[{\"id\":\"9119e083-fdb4-4326-a4f5-d05d124f8063\",\"type\":\"LinearAxis\"},{\"id\":\"5d49c067-c917-451d-9962-78d71e607827\",\"type\":\"Grid\"},{\"id\":\"8aa32393-c722-4086-aa45-d3e9800ef7db\",\"type\":\"LinearAxis\"},{\"id\":\"d84a65b4-c3cc-4669-b1f6-a8433b9fe3ce\",\"type\":\"Grid\"},{\"id\":\"f130d59c-96e8-4074-af97-0a5cde4bbd56\",\"type\":\"BoxAnnotation\"},{\"id\":\"504b662a-2647-41f6-9d7e-1532ea0495d2\",\"type\":\"GlyphRenderer\"}],\"title\":{\"id\":\"02710985-3013-43ea-b73a-1562f6e20eaa\",\"type\":\"Title\"},\"toolbar\":{\"id\":\"0e835ae2-aaf6-409e-96e2-e62213c959aa\",\"type\":\"Toolbar\"},\"x_range\":{\"id\":\"da4d5b95-f7e2-41fb-940a-7492d191f4e6\",\"type\":\"DataRange1d\"},\"x_scale\":{\"id\":\"fb4938d2-d413-49d8-8465-4e4a318a55bf\",\"type\":\"LinearScale\"},\"y_range\":{\"id\":\"32796216-8063-443f-a6aa-6af4866dfffd\",\"type\":\"DataRange1d\"},\"y_scale\":{\"id\":\"79f6c12c-8ff4-40a4-9794-689d919310bb\",\"type\":\"LinearScale\"}},\"id\":\"d698f615-a8cd-4706-a44a-2bf7f7e1fb48\",\"subtype\":\"Figure\",\"type\":\"Plot\"},{\"attributes\":{},\"id\":\"d13aefe3-f2b6-4467-bbde-e68b9060d43b\",\"type\":\"PanTool\"},{\"attributes\":{},\"id\":\"c8db5d3a-0e8a-4d92-a8d1-76a16dfecffc\",\"type\":\"BasicTickFormatter\"},{\"attributes\":{\"active_drag\":\"auto\",\"active_inspect\":\"auto\",\"active_multi\":null,\"active_scroll\":\"auto\",\"active_tap\":\"auto\",\"tools\":[{\"id\":\"d13aefe3-f2b6-4467-bbde-e68b9060d43b\",\"type\":\"PanTool\"},{\"id\":\"113a0cfe-bd59-4950-b888-38e5b3dbd659\",\"type\":\"WheelZoomTool\"},{\"id\":\"59011845-9b82-4734-b895-92b4202fc0bc\",\"type\":\"BoxZoomTool\"},{\"id\":\"4ca57b79-8bf9-40f8-9bb8-54fc7bc66148\",\"type\":\"SaveTool\"},{\"id\":\"5dac924f-5001-412a-88f8-8a32e78f8d8a\",\"type\":\"ResetTool\"},{\"id\":\"f4755c9e-a286-4ede-8ef0-1f6bd3c61f11\",\"type\":\"HelpTool\"}]},\"id\":\"0e835ae2-aaf6-409e-96e2-e62213c959aa\",\"type\":\"Toolbar\"},{\"attributes\":{\"callback\":null,\"data\":{\"left\":{\"__ndarray__\":\"AAAAAAAAFECamZmZmZkXQDMzMzMzMxtAzczMzMzMHkAzMzMzMzMhQAAAAAAAACNAzczMzMzMJECamZmZmZkmQGZmZmZmZihAMzMzMzMzKkAAAAAAAAAsQM3MzMzMzC1AmpmZmZmZL0A0MzMzM7MwQJqZmZmZmTFAAAAAAACAMkBmZmZmZmYzQM3MzMzMTDRAMzMzMzMzNUCamZmZmRk2QAAAAAAAADdAZ2ZmZmbmN0DNzMzMzMw4QDMzMzMzszlAmpmZmZmZOkAAAAAAAIA7QGdmZmZmZjxAzczMzMxMPUAzMzMzMzM+QJqZmZmZGT9AAAAAAAAAQEA0MzMzM3NAQGZmZmZm5kBAmpmZmZlZQUDNzMzMzMxBQAAAAAAAQEJAMzMzMzOzQkBnZmZmZiZDQJqZmZmZmUNAzczMzMwMREAAAAAAAIBEQDMzMzMz80RAZ2ZmZmZmRUCamZmZmdlFQM3MzMzMTEZAAAAAAADARkAzMzMzMzNHQGdmZmZmpkdAmpmZmZkZSEDNzMzMzIxIQA==\",\"dtype\":\"float64\",\"shape\":[50]},\"right\":{\"__ndarray__\":\"mpmZmZmZF0AzMzMzMzMbQM3MzMzMzB5AMzMzMzMzIUAAAAAAAAAjQM3MzMzMzCRAmpmZmZmZJkBmZmZmZmYoQDMzMzMzMypAAAAAAAAALEDNzMzMzMwtQJqZmZmZmS9ANDMzMzOzMECamZmZmZkxQAAAAAAAgDJAZmZmZmZmM0DNzMzMzEw0QDMzMzMzMzVAmpmZmZkZNkAAAAAAAAA3QGdmZmZm5jdAzczMzMzMOEAzMzMzM7M5QJqZmZmZmTpAAAAAAACAO0BnZmZmZmY8QM3MzMzMTD1AMzMzMzMzPkCamZmZmRk/QAAAAAAAAEBANDMzMzNzQEBmZmZmZuZAQJqZmZmZWUFAzczMzMzMQUAAAAAAAEBCQDMzMzMzs0JAZ2ZmZmYmQ0CamZmZmZlDQM3MzMzMDERAAAAAAACAREAzMzMzM/NEQGdmZmZmZkVAmpmZmZnZRUDNzMzMzExGQAAAAAAAwEZAMzMzMzMzR0BnZmZmZqZHQJqZmZmZGUhAzczMzMyMSEAAAAAAAABJQA==\",\"dtype\":\"float64\",\"shape\":[50]},\"top\":{\"__ndarray__\":\"fkc0g537ej8Ehc2sE/1hP76oZ27ieo8/xqhnbuJ6jz9+RzSDnft6P35HNIOd+4o//4TNrBP9kT9L5gCYWHyWP/+EzawT/ZE/L29nSMzbqT+vrAByQt2gP+8NNF2HXKU/rKhnbuJ6nz8Jhc2sE/2hP6o1ZyK2PKQ/z6hnbuJ6rz+UNWcitjy0P5BAmtRZTbA/HPEzSvyMsj/PqGdu4nqvP7uhzb+ezLQ/nL7N0imcpz+4rAByQt2gP/WEzawT/YE/z6hnbuJ6jz/QlpoN+7uYP6o1ZyK2PJQ/qjVnIrY8lD8y5gCYWHyGP8+oZ27ieo8/iqhnbuJ6jz8xhc2sE/2RP+GEzawT/XE/CYXNrBP9kT9L5gCYWHyGPwmFzawT/YE/4YTNrBP9cT8Jhc2sE/1hPwmFzawT/WE/AAAAAAAAAAAJhc2sE/1xP+GEzawT/XE/CYXNrBP9cT8Jhc2sE/1xPwmFzawT/XE/CYXNrBP9YT/hhM2sE/1hPwAAAAAAAAAAjkc0g537ej8Jhc2sE/2hPw==\",\"dtype\":\"float64\",\"shape\":[50]}},\"selected\":{\"id\":\"e170453e-11eb-4c65-8ab2-71f629eea430\",\"type\":\"Selection\"},\"selection_policy\":{\"id\":\"b02693d0-ceb8-4793-8d44-e25bf8a99e37\",\"type\":\"UnionRenderers\"}},\"id\":\"2ee176a6-7fe1-4492-87da-85c659951244\",\"type\":\"ColumnDataSource\"},{\"attributes\":{},\"id\":\"113a0cfe-bd59-4950-b888-38e5b3dbd659\",\"type\":\"WheelZoomTool\"},{\"attributes\":{\"callback\":null},\"id\":\"da4d5b95-f7e2-41fb-940a-7492d191f4e6\",\"type\":\"DataRange1d\"},{\"attributes\":{\"overlay\":{\"id\":\"f130d59c-96e8-4074-af97-0a5cde4bbd56\",\"type\":\"BoxAnnotation\"}},\"id\":\"59011845-9b82-4734-b895-92b4202fc0bc\",\"type\":\"BoxZoomTool\"},{\"attributes\":{},\"id\":\"4ca57b79-8bf9-40f8-9bb8-54fc7bc66148\",\"type\":\"SaveTool\"},{\"attributes\":{\"callback\":null},\"id\":\"32796216-8063-443f-a6aa-6af4866dfffd\",\"type\":\"DataRange1d\"},{\"attributes\":{\"bottom\":{\"value\":0},\"fill_color\":{\"value\":\"#036564\"},\"left\":{\"field\":\"left\"},\"line_color\":{\"value\":\"#033649\"},\"right\":{\"field\":\"right\"},\"top\":{\"field\":\"top\"}},\"id\":\"86c9cf9c-9128-45d6-97a1-c92c54dcaa5a\",\"type\":\"Quad\"},{\"attributes\":{},\"id\":\"fb4938d2-d413-49d8-8465-4e4a318a55bf\",\"type\":\"LinearScale\"},{\"attributes\":{},\"id\":\"5dac924f-5001-412a-88f8-8a32e78f8d8a\",\"type\":\"ResetTool\"},{\"attributes\":{},\"id\":\"f4755c9e-a286-4ede-8ef0-1f6bd3c61f11\",\"type\":\"HelpTool\"},{\"attributes\":{},\"id\":\"79f6c12c-8ff4-40a4-9794-689d919310bb\",\"type\":\"LinearScale\"},{\"attributes\":{},\"id\":\"e170453e-11eb-4c65-8ab2-71f629eea430\",\"type\":\"Selection\"},{\"attributes\":{\"plot\":null,\"text\":\"\"},\"id\":\"02710985-3013-43ea-b73a-1562f6e20eaa\",\"type\":\"Title\"},{\"attributes\":{},\"id\":\"2d83b1a3-c185-46b3-8404-30770e40f270\",\"type\":\"BasicTickFormatter\"},{\"attributes\":{\"axis_label\":\"Price in $1000s\",\"formatter\":{\"id\":\"2d83b1a3-c185-46b3-8404-30770e40f270\",\"type\":\"BasicTickFormatter\"},\"plot\":{\"id\":\"d698f615-a8cd-4706-a44a-2bf7f7e1fb48\",\"subtype\":\"Figure\",\"type\":\"Plot\"},\"ticker\":{\"id\":\"54f19b1a-c04e-4895-93be-ea6577987877\",\"type\":\"BasicTicker\"}},\"id\":\"9119e083-fdb4-4326-a4f5-d05d124f8063\",\"type\":\"LinearAxis\"},{\"attributes\":{},\"id\":\"54f19b1a-c04e-4895-93be-ea6577987877\",\"type\":\"BasicTicker\"},{\"attributes\":{\"plot\":{\"id\":\"d698f615-a8cd-4706-a44a-2bf7f7e1fb48\",\"subtype\":\"Figure\",\"type\":\"Plot\"},\"ticker\":{\"id\":\"54f19b1a-c04e-4895-93be-ea6577987877\",\"type\":\"BasicTicker\"}},\"id\":\"5d49c067-c917-451d-9962-78d71e607827\",\"type\":\"Grid\"},{\"attributes\":{\"axis_label\":\"Number of houses\",\"formatter\":{\"id\":\"c8db5d3a-0e8a-4d92-a8d1-76a16dfecffc\",\"type\":\"BasicTickFormatter\"},\"plot\":{\"id\":\"d698f615-a8cd-4706-a44a-2bf7f7e1fb48\",\"subtype\":\"Figure\",\"type\":\"Plot\"},\"ticker\":{\"id\":\"4405c386-9297-46f9-8c61-d52ae5095064\",\"type\":\"BasicTicker\"}},\"id\":\"8aa32393-c722-4086-aa45-d3e9800ef7db\",\"type\":\"LinearAxis\"}],\"root_ids\":[\"d698f615-a8cd-4706-a44a-2bf7f7e1fb48\"]},\"title\":\"Bokeh Application\",\"version\":\"0.13.0\"}};\n",
       "  var render_items = [{\"docid\":\"683262ed-3fec-4c82-8aca-ffb26b3fd5f0\",\"roots\":{\"d698f615-a8cd-4706-a44a-2bf7f7e1fb48\":\"1193e798-6ce2-4d32-8193-aa7b785efe44\"}}];\n",
       "  root.Bokeh.embed.embed_items_notebook(docs_json, render_items);\n",
       "\n",
       "  }\n",
       "  if (root.Bokeh !== undefined) {\n",
       "    embed_document(root);\n",
       "  } else {\n",
       "    var attempts = 0;\n",
       "    var timer = setInterval(function(root) {\n",
       "      if (root.Bokeh !== undefined) {\n",
       "        embed_document(root);\n",
       "        clearInterval(timer);\n",
       "      }\n",
       "      attempts++;\n",
       "      if (attempts > 100) {\n",
       "        console.log(\"Bokeh: ERROR: Unable to run BokehJS code because BokehJS library is missing\")\n",
       "        clearInterval(timer);\n",
       "      }\n",
       "    }, 10, root)\n",
       "  }\n",
       "})(window);"
      ],
      "application/vnd.bokehjs_exec.v0+json": ""
     },
     "metadata": {
      "application/vnd.bokehjs_exec.v0+json": {
       "id": "d698f615-a8cd-4706-a44a-2bf7f7e1fb48"
      }
     },
     "output_type": "display_data"
    }
   ],
   "source": [
    "# Create the figure object\n",
    "f = figure(plot_width=400, plot_height=250)\n",
    "\n",
    "# Make a histogram\n",
    "hist, edges = np.histogram(boston_df[\"Price\"], density=True, bins=50)\n",
    "\n",
    "f.quad(top=hist, bottom=0, left=edges[:-1], right=edges[1:],\n",
    "        fill_color=\"#036564\", line_color=\"#033649\")\n",
    "\n",
    "## Add some axis information (after all, a plot without axis descriptions is nothing more than abstract art)\n",
    "f.xaxis.axis_label = \"Price in $1000s\"\n",
    "f.yaxis.axis_label = \"Number of houses\"\n",
    "\n",
    "show(f)"
   ]
  },
  {
   "cell_type": "markdown",
   "metadata": {},
   "source": [
    "I suppose it appears number of houses are quite dense near the $20.000 mark. Let us look into it a little further (before we actually start looking at the linear regression). We will plot the features, to see if we can find any correlation that could potential be used to predict the price with. We will inspect the first 6 features. Namely:\n",
    "\n",
    "* CRIM:     per capita crime rate by town\n",
    "* ZN:       proportion of residential land zoned for lots over 25,000 sq.ft.\n",
    "* INDUS:    proportion of non-retail business acres per town\n",
    "* CHAS:     Charles River dummy variable (= 1 if tract bounds river; 0 otherwise)\n",
    "* NOX:      nitric oxides concentration (parts per 10 million)\n",
    "* RM:       average number of rooms per dwelling"
   ]
  },
  {
   "cell_type": "code",
   "execution_count": 8,
   "metadata": {},
   "outputs": [
    {
     "name": "stdout",
     "output_type": "stream",
     "text": [
      "['CRIM' 'ZN' 'INDUS' 'CHAS' 'NOX' 'RM']\n"
     ]
    },
    {
     "data": {
      "text/html": [
       "\n",
       "\n",
       "\n",
       "\n",
       "\n",
       "\n",
       "  <div class=\"bk-root\" id=\"bec807e1-1f86-423f-a7fb-d5d18ef5eb76\"></div>\n"
      ]
     },
     "metadata": {},
     "output_type": "display_data"
    },
    {
     "data": {
      "application/javascript": [
       "(function(root) {\n",
       "  function embed_document(root) {\n",
       "    \n",
       "  var docs_json = {\"778203d6-2425-40ad-b13f-8a2377c70a03\":{\"roots\":{\"references\":[{\"attributes\":{},\"id\":\"5890f2ec-d3f6-4cab-918b-4f0794922736\",\"type\":\"BasicTicker\"},{\"attributes\":{\"callback\":null},\"id\":\"bcc5d893-ec45-444f-9d6c-765c05cee822\",\"type\":\"DataRange1d\"},{\"attributes\":{\"plot\":{\"id\":\"434c70fa-9ddf-4056-b974-78074b540a3c\",\"subtype\":\"Figure\",\"type\":\"Plot\"},\"ticker\":{\"id\":\"5890f2ec-d3f6-4cab-918b-4f0794922736\",\"type\":\"BasicTicker\"}},\"id\":\"d86c787e-c6c4-4376-a072-10647994f7db\",\"type\":\"Grid\"},{\"attributes\":{\"axis_label\":\"Price in $1000s\",\"formatter\":{\"id\":\"04a28215-1c3e-4bb3-a6a3-91be20413e22\",\"type\":\"BasicTickFormatter\"},\"plot\":{\"id\":\"434c70fa-9ddf-4056-b974-78074b540a3c\",\"subtype\":\"Figure\",\"type\":\"Plot\"},\"ticker\":{\"id\":\"359d6de4-1157-44b3-ae6f-f5c3236418c6\",\"type\":\"BasicTicker\"}},\"id\":\"453a566e-2137-47cf-987d-3100c55e8642\",\"type\":\"LinearAxis\"},{\"attributes\":{},\"id\":\"359d6de4-1157-44b3-ae6f-f5c3236418c6\",\"type\":\"BasicTicker\"},{\"attributes\":{\"dimension\":1,\"plot\":{\"id\":\"434c70fa-9ddf-4056-b974-78074b540a3c\",\"subtype\":\"Figure\",\"type\":\"Plot\"},\"ticker\":{\"id\":\"359d6de4-1157-44b3-ae6f-f5c3236418c6\",\"type\":\"BasicTicker\"}},\"id\":\"54479b4e-ca0d-4634-af23-6a953757a452\",\"type\":\"Grid\"},{\"attributes\":{\"fill_color\":{\"value\":\"#1f77b4\"},\"line_color\":{\"value\":\"#1f77b4\"},\"x\":{\"field\":\"x\"},\"y\":{\"field\":\"y\"}},\"id\":\"9ebae7d6-08e1-4a1c-a7b6-4c3f4330d290\",\"type\":\"Circle\"},{\"attributes\":{\"active_drag\":\"auto\",\"active_inspect\":\"auto\",\"active_multi\":null,\"active_scroll\":\"auto\",\"active_tap\":\"auto\",\"tools\":[{\"id\":\"feef7979-f9ea-456b-8898-373f75304bbd\",\"type\":\"PanTool\"},{\"id\":\"631a8de3-36b2-4ce5-b0d3-e1a1c5b27905\",\"type\":\"WheelZoomTool\"},{\"id\":\"9f61a1c8-f50e-4716-aa44-f9037bdd2e14\",\"type\":\"BoxZoomTool\"},{\"id\":\"be444743-2b03-4e3c-b0ce-6b0eba15a4e3\",\"type\":\"SaveTool\"},{\"id\":\"28f13693-0f15-4deb-bd58-8992e8d41654\",\"type\":\"ResetTool\"},{\"id\":\"ebe02f8e-a368-4cdb-b099-b799c27e6a2e\",\"type\":\"HelpTool\"}]},\"id\":\"52913d5e-39a0-4746-aa82-b223c796af3a\",\"type\":\"Toolbar\"},{\"attributes\":{\"data_source\":{\"id\":\"18a58a6b-785b-43ad-9d20-ee7285e02739\",\"type\":\"ColumnDataSource\"},\"glyph\":{\"id\":\"9ebae7d6-08e1-4a1c-a7b6-4c3f4330d290\",\"type\":\"Circle\"},\"hover_glyph\":null,\"muted_glyph\":null,\"nonselection_glyph\":{\"id\":\"f438c777-4a16-4c50-b768-90d92518d572\",\"type\":\"Circle\"},\"selection_glyph\":null,\"view\":{\"id\":\"524a5dad-bc0b-4642-81b5-139a78b49691\",\"type\":\"CDSView\"}},\"id\":\"1489b6e9-a537-4eba-8dc4-026b259874ac\",\"type\":\"GlyphRenderer\"},{\"attributes\":{\"bottom_units\":\"screen\",\"fill_alpha\":{\"value\":0.5},\"fill_color\":{\"value\":\"lightgrey\"},\"left_units\":\"screen\",\"level\":\"overlay\",\"line_alpha\":{\"value\":1.0},\"line_color\":{\"value\":\"black\"},\"line_dash\":[4,4],\"line_width\":{\"value\":2},\"plot\":null,\"render_mode\":\"css\",\"right_units\":\"screen\",\"top_units\":\"screen\"},\"id\":\"5ad83a37-d095-448c-83cb-bbedc5350cbc\",\"type\":\"BoxAnnotation\"},{\"attributes\":{},\"id\":\"b8875d4c-588b-48f4-8df0-5c60bbf2691c\",\"type\":\"PanTool\"},{\"attributes\":{\"callback\":null},\"id\":\"f5e691cc-9556-496d-b276-5ee69ca4d3ce\",\"type\":\"DataRange1d\"},{\"attributes\":{},\"id\":\"0631c544-6807-4216-bc1c-f7260a20df08\",\"type\":\"WheelZoomTool\"},{\"attributes\":{\"overlay\":{\"id\":\"5ad83a37-d095-448c-83cb-bbedc5350cbc\",\"type\":\"BoxAnnotation\"}},\"id\":\"7912ecd2-b5c1-4c33-bd33-6a2f67b42fdd\",\"type\":\"BoxZoomTool\"},{\"attributes\":{},\"id\":\"d16f9e39-620d-4cf7-8871-7eb1675284e2\",\"type\":\"SaveTool\"},{\"attributes\":{},\"id\":\"b7a4fc7c-dcdd-4de6-82af-e62348105eff\",\"type\":\"ResetTool\"},{\"attributes\":{},\"id\":\"d656b5f0-90ed-4c3b-a581-e2dcf7bee519\",\"type\":\"HelpTool\"},{\"attributes\":{\"plot\":{\"id\":\"3eb22273-90b2-4f3d-a964-36d5f3ecae54\",\"subtype\":\"Figure\",\"type\":\"Plot\"},\"ticker\":{\"id\":\"8e2310b7-0c89-41e4-93df-d3cc54490122\",\"type\":\"BasicTicker\"}},\"id\":\"c2dafd28-75ec-4fd6-8a0f-9d4f98b03926\",\"type\":\"Grid\"},{\"attributes\":{},\"id\":\"4678fb61-415c-4140-b1a3-d97edab2c42b\",\"type\":\"LinearScale\"},{\"attributes\":{},\"id\":\"da5a8105-cf5b-4b81-8c76-a86d72641bc1\",\"type\":\"LinearScale\"},{\"attributes\":{\"axis_label\":\"RM\",\"formatter\":{\"id\":\"d6d67a6e-b8e7-467e-9bd4-ba742c00d787\",\"type\":\"BasicTickFormatter\"},\"plot\":{\"id\":\"3eb22273-90b2-4f3d-a964-36d5f3ecae54\",\"subtype\":\"Figure\",\"type\":\"Plot\"},\"ticker\":{\"id\":\"8e2310b7-0c89-41e4-93df-d3cc54490122\",\"type\":\"BasicTicker\"}},\"id\":\"da4f08d5-35b3-4a81-a19b-af28518f8451\",\"type\":\"LinearAxis\"},{\"attributes\":{\"axis_label\":\"CRIM\",\"formatter\":{\"id\":\"ddf94d23-9adb-49d9-8486-84a006e52209\",\"type\":\"BasicTickFormatter\"},\"plot\":{\"id\":\"9baba6dc-2ce0-4427-94a1-649b140b9bd7\",\"subtype\":\"Figure\",\"type\":\"Plot\"},\"ticker\":{\"id\":\"dc46c54a-a187-45cb-9aa2-9fa06086d47f\",\"type\":\"BasicTicker\"}},\"id\":\"419e2d0b-e2c9-4912-9a30-83d4953e19e3\",\"type\":\"LinearAxis\"},{\"attributes\":{},\"id\":\"8e2310b7-0c89-41e4-93df-d3cc54490122\",\"type\":\"BasicTicker\"},{\"attributes\":{},\"id\":\"18dcbcf9-9078-46b1-aaf7-9a216a29569e\",\"type\":\"LinearScale\"},{\"attributes\":{\"axis_label\":\"Price in $1000s\",\"formatter\":{\"id\":\"4bc1fe59-8b6e-4a23-b680-be74f81a209d\",\"type\":\"BasicTickFormatter\"},\"plot\":{\"id\":\"3eb22273-90b2-4f3d-a964-36d5f3ecae54\",\"subtype\":\"Figure\",\"type\":\"Plot\"},\"ticker\":{\"id\":\"aea967c1-443b-42b7-8afb-b8eb923d61c8\",\"type\":\"BasicTicker\"}},\"id\":\"9c8f1213-3066-413f-bece-00c4129f1dce\",\"type\":\"LinearAxis\"},{\"attributes\":{},\"id\":\"aea967c1-443b-42b7-8afb-b8eb923d61c8\",\"type\":\"BasicTicker\"},{\"attributes\":{\"dimension\":1,\"plot\":{\"id\":\"3eb22273-90b2-4f3d-a964-36d5f3ecae54\",\"subtype\":\"Figure\",\"type\":\"Plot\"},\"ticker\":{\"id\":\"aea967c1-443b-42b7-8afb-b8eb923d61c8\",\"type\":\"BasicTicker\"}},\"id\":\"77b8612b-71b5-4577-ac8b-918cb709c69b\",\"type\":\"Grid\"},{\"attributes\":{\"fill_alpha\":{\"value\":0.1},\"fill_color\":{\"value\":\"#1f77b4\"},\"line_alpha\":{\"value\":0.1},\"line_color\":{\"value\":\"#1f77b4\"},\"x\":{\"field\":\"x\"},\"y\":{\"field\":\"y\"}},\"id\":\"f438c777-4a16-4c50-b768-90d92518d572\",\"type\":\"Circle\"},{\"attributes\":{\"callback\":null,\"data\":{\"x\":{\"__ndarray__\":\"AAAAAAAAMkAAAAAAAAAAAAAAAAAAAAAAAAAAAAAAAAAAAAAAAAAAAAAAAAAAAAAAAAAAAAAAKUAAAAAAAAApQAAAAAAAAClAAAAAAAAAKUAAAAAAAAApQAAAAAAAAClAAAAAAAAAKUAAAAAAAAAAAAAAAAAAAAAAAAAAAAAAAAAAAAAAAAAAAAAAAAAAAAAAAAAAAAAAAAAAAAAAAAAAAAAAAAAAAAAAAAAAAAAAAAAAAAAAAAAAAAAAAAAAAAAAAAAAAAAAAAAAAAAAAAAAAAAAAAAAAAAAAAAAAAAAAAAAAAAAAAAAAAAAAAAAAAAAAAAAAAAAAAAAAAAAAAAAAAAAAAAAAAAAAAAAAAAAAAAAAAAAAAAAAAAAAAAAAAAAAAAAAAAAAAAAAAAAAAAAAAAAAAAAAAAAAAAAAADAUkAAAAAAAMBSQAAAAAAAAAAAAAAAAAAAAAAAAAAAAAAAAAAAAAAAAAAAAAAAAAAAAAAAAAAAAAAAAAAAAAAAAAAAAAAAAAAAAAAAAAAAAAAAAAAAAAAAADVAAAAAAAAANUAAAAAAAAA1QAAAAAAAADVAAAAAAADAUkAAAAAAAIBWQAAAAAAAQFVAAAAAAAAAWUAAAAAAAAA5QAAAAAAAADlAAAAAAAAAOUAAAAAAAAA5QAAAAAAAADlAAAAAAAAAOUAAAAAAAIAxQAAAAAAAAFRAAAAAAAAAVEAAAAAAAAApQAAAAAAAAClAAAAAAAAAKUAAAAAAAAAAAAAAAAAAAAAAAAAAAAAAAAAAAAAAAAAAAAAAAAAAAAAAAAAAAAAAAAAAAAAAAAAAAAAAAAAAAAAAAAAAAAAAAAAAAAAAAAAAAAAAAAAAADlAAAAAAAAAOUAAAAAAAAA5QAAAAAAAADlAAAAAAAAAAAAAAAAAAAAAAAAAAAAAAAAAAAAAAAAAAAAAAAAAAAAAAAAAAAAAAAAAAAAAAAAAAAAAAAAAAAAAAAAAAAAAADxAAAAAAAAAPEAAAAAAAAA8QAAAAAAAAAAAAAAAAAAAAAAAAAAAAAAAAAAAAAAAAAAAAAAAAAAAAAAAAAAAAAAAAAAAAAAAAAAAAAAAAAAAAAAAAAAAAAAAAAAAAAAAAAAAAAAAAAAAAAAAAAAAAAAAAAAAAAAAAAAAAAAAAAAAAAAAAAAAAAAAAAAAAAAAAAAAAAAAAAAAAAAAAAAAAAAAAAAAAAAAAAAAAAAAAAAAAAAAAAAAAAAAAAAAAAAAAAAAAAAAAAAAAAAAAAAAAAAAAAAAAAAAAAAAAAAAAAAAAAAAAAAAAAAAAAAAAAAAAAAAAAAAAAAAAAAAAAAAAAAAAAAAAAAAAAAAAAAAAAAAAAAAAAAAAAAAAAAAAAAAAAAAAAAAAAAAAAAAAAAAAAAAAAAAAAAAAAAAAAAAAAAAAAAAAAAAAAAAAAAAAAAAAAAAAAAAAAAAAAAAAAAAAAAAAAAAAAAAAAAAAAAAAAAAAAAAAAAAAAAAAAAAAAAAAAAAAAAAAAAAAAAAAAAAAAAAAAAAAAAAAAAAAAAAAAAAAAAAAAAAAAAAAAAAAAAAAAAAAAAAAAAAAAAAAAAAAAAAAAAAAAAAAAAAAAAAAAAAAAAAAAAAAAAAAAAAAAAAAAAAAAAAAAAAAAAAAAAAAAAAAAAAAAAAAAAAAAAAAAAAAAAAAAAAAAAAAAAAAAAAAAAAAAAAAAAAAAAAAAAAAAAAAAAAAAAAAAAAAAAAAAAAAAAAAAAAAAAAAAAAAAAAAAAAAAAAAAAAAAAAAAAAAAAAAAAAAAAAAAAAAAAAAAAAAAAAAAAAAAAAAAAAAAAAAAAAAAAAAAAAAAAAAAAAAAAAAAAAAAAAAAAAAAAAAAAAAAAAAAAAAAAAAAAAAAAAAAAAAAAAAAAAAAAAAAAAAAAAAAAAAAAAAAAAAAAAAAAAAAAAAAAAAAAAAAAAAAAAAAAAAAAAAAAAAAAAAAAAAAAAAAAAAAAAAAAAAAAAAAAAAAAAAAAAAIBGQAAAAAAAgEZAAAAAAACARkAAAAAAAIBGQAAAAAAAgEZAAAAAAACARkAAAAAAAABOQAAAAAAAAE5AAAAAAAAAVEAAAAAAAABUQAAAAAAAAFRAAAAAAAAAVEAAAAAAAMBXQAAAAAAAwFdAAAAAAACgVEAAAAAAAKBUQAAAAAAAwFdAAAAAAADAV0AAAAAAAAAAAAAAAAAAAAAAAAAAAAAAAAAAAAAAAAAAAAAAAAAAAAAAAAAAAAAAAAAAAAAAAAAAAAAAAAAAAAAAAAAAAAAAAAAAAAAAAAAAAAAAAAAAAAAAAAAAAAAAAAAAAAAAAAAAAAAAAAAAAAAAAAAAAAAAAAAAAAAAAAAAAAAAAAAAAAAAAAAAAAAAAAAAAAAAAAAAAAAAAAAAAAAAAAAAAAAAAAAAAAAAAAAAAAAAAAAAAAAAAAAAAAAAAAAAAAAAAAAAAAAAAAAAAAAAAAAAAAAAAAAAAAAAAAAAAAAAAAAAAAAAAAAAAAAAAAAAAAAAAAAAAAAAAAAAAAAAAAAAAAAAAAAAAAAAAAA+QAAAAAAAAD5AAAAAAAAAPkAAAAAAAAA+QAAAAAAAAD5AAAAAAAAAPkAAAAAAAAA2QAAAAAAAADZAAAAAAAAANkAAAAAAAAA2QAAAAAAAADZAAAAAAAAANkAAAAAAAAA2QAAAAAAAADZAAAAAAAAANkAAAAAAAAA2QAAAAAAAAFRAAAAAAAAAVEAAAAAAAIBWQAAAAAAAADRAAAAAAAAANEAAAAAAAAA0QAAAAAAAADRAAAAAAAAANEAAAAAAAAA0QAAAAAAAADRAAAAAAAAANEAAAAAAAAA0QAAAAAAAADRAAAAAAAAANEAAAAAAAAA0QAAAAAAAADRAAAAAAAAANEAAAAAAAAA0QAAAAAAAADRAAAAAAAAANEAAAAAAAABEQAAAAAAAAERAAAAAAAAAREAAAAAAAABEQAAAAAAAAERAAAAAAAAANEAAAAAAAAA0QAAAAAAAADRAAAAAAAAANEAAAAAAAIBWQAAAAAAAgFZAAAAAAACAS0AAAAAAAABUQAAAAAAAQEpAAAAAAABASkAAAAAAAEBKQAAAAAAAAFRAAAAAAAAAVEAAAAAAAABUQAAAAAAAAAAAAAAAAAAAAAAAAAAAAAAAAAAAAAAAAAAAAAAAAAAAAAAAAAAAAIBRQAAAAAAAgFFAAAAAAACAUUAAAAAAAABBQAAAAAAAAEFAAAAAAAAAQUAAAAAAAIBAQAAAAAAAgEBAAAAAAACAQEAAAAAAAIBAQAAAAAAAAAAAAAAAAAAAAAAAAAAAAAAAAAAAAAAAAAAAAAAAAAAAAAAAAAAAAAAAAAAAAAAAAAAAAAAAAAAAAAAAAAAAAAAAAAAAAAAAAAAAAAAAAAAAAAAAAAAAAAAAAAAAAAAAAAAAAAAAAAAAAAAAAAAAAAAAAAAAAAAAAAAAAAAAAAAAAAAAAAAAAAAAAAAAAAAAAAAAAAAAAAAAAAAAAAAAAAAAAAAAAAAAAAAAAAAAAAAAAAAAAAAAAIBBQAAAAAAAgEFAAAAAAAAAAAAAAAAAAAAAAAAAAAAAAAAAAAAAAAAAAAAAAAAAAAAAAAAAAAAAAAAAAAAAAAAAAAAAAAAAAAAAAAAAAAAAgEFAAAAAAAAAAAAAAAAAAIBLQAAAAAAAgEtAAAAAAAAAAAAAAAAAAAAAAAAAAAAAQFVAAAAAAAAAVEAAAAAAAABEQAAAAAAAAERAAAAAAAAATkAAAAAAAABOQAAAAAAAgFZAAAAAAAAAVEAAAAAAAABUQAAAAAAAAAAAAAAAAAAAAAAAAAAAAAAAAAAAAAAAAAAAAAAAAAAAAAAAAAAAAAAAAAAAAAAAAAAAAAAAAAAAAAAAAAAAAAAAAAAAAAAAAAAAAAAAAAAAAAAAAAAAAAAAAAAAAAAAAAAAAAAAAAAAAAAAAAAAAAAAAAAAAAAAAAAAAAAAAAAAAAAAAAAAAAAAAAAAAAAAAAAAAAAAAAAAAAAAAAAAAAAAAAAAAAAAAAAAAAAAAAAAAAAAAAAAAAAAAAAAAAAAAAAAAAAAAAAAAAAAAAAAAAAAAAAAAAAAAAAAAAAAAAAAAAAAAAAAAAAAAAAAAAAAAAAAAAAAAAAAAAAAAAAAAAAAAAAAAAAAAAAAAAAAAAAAAAAAAAAAAAAAAAAAAAAAAAAAAAAAAAAAAAAAAAAAAAAAAAAAAAAAAAAAAAAAAAAAAAAAAAAAAAAAAAAAAAAAAAAAAAAAAAAAAAAAAAAAAAAAAAAAAAAAAAAAAAAAAAAAAAAAAAAAAAAAAAAAAAAAAAAAAAAAAAAAAAAAAAAAAAAAAAAAAAAAAAAAAAAAAAAAAAAAAAAAAAAAAAAAAAAAAAAAAAAAAAAAAAAAAAAAAAAAAAAAAAAAAAAAAAAAAAAAAAAAAAAAAAAAAAAAAAAAAAAAAAAAAAAAAAAAAAAAAAAAAAAAAAAAAAAAAAAAAAAAAAAAAAAAAAAAAAAAAAAAAAAAAAAAAAAAAAAAAAAAAAAAAAAAAAAAAAAAAAAAAAAAAAAAAAAAAAAAAAAAAAAAAAAAAAAAAAAAAAAAAAAAAAAAAAAAAAAAAAAAAAAAAAAAAAAAAAAAAAAAAAAAAAAAAAAAAAAAAAAAAAAAAAAAAAAAAAAAAAAAAAAAAAAAAAAAAAAAAAAAAAAAAAAAAAAAAAAAAAAAAAAAAAAAAAAAAAAAAAAAAAAAAAAAAAAAAAAAAAAAAAAAAAAAAAAAAAAAAAAAAAAAAAAAAAAAAAAAAAAAAAAAAAAAAAAAAAAAAAAAAAAAAAAAAAAAAAAAAAAAAAAAAAAAAAAAAAAAAAAAAAAAAAAAAAAAAAAAAAAAAAAAAAAAAAAAAAAAAAAAAAAAAAAAAAAAAAAAAAAAAAAAAAAAAAAAAAAAAAAAAAAAAAAAAAAAAAAAAAAAAAAAAAAAAAAAAAAAAAAAAAAAAAAAAAAAAAAAAAAAAAAAAAAAAAAAAAAAAAAAAAAAAAAAAAAAAAAAAAAAAAAAAAAAAAAAAAAAAAAAAAAAAAAAAAAAAAAAAAAAAAAAAAAAAAAAAAAAAAAAAAAAAAAAAAAAAAAAAAAAAAAAAAAAAAAAAAAAAAAAAAAAAAAAAAAAAAAAAAAAAAAAAAAAAAAAAAAAAAAAAAAAAAAAAAAAAAAAAAAAAAAAAAAAAAAAAAAAAAAAAAAAAAAAAAAAAAAAAAAAAAAAAAAAAAAAAAAAAAAAAAAAAAAAAAAAAAAAAAAAAAAAAAAAAAAAAAAAAAAAAAAAAAAAAAAAAAAAAAAAAAAAAAAAAAAAAAAAAAAAAAAAAAAAAAAAAAAAAAAAAAAAAAAAAAAAAAAAAAAAAAAAAAAAAAAAAAAAAAAAAAAAAAAAAA==\",\"dtype\":\"float64\",\"shape\":[506]},\"y\":{\"__ndarray__\":\"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\",\"dtype\":\"float64\",\"shape\":[506]}},\"selected\":{\"id\":\"54a60b6b-121b-4135-91de-540f3d225b23\",\"type\":\"Selection\"},\"selection_policy\":{\"id\":\"74838700-80d0-4dea-ae5d-c12e6fc05e40\",\"type\":\"UnionRenderers\"}},\"id\":\"a450e034-fecb-40fe-b955-7bf6a112a17e\",\"type\":\"ColumnDataSource\"},{\"attributes\":{\"children\":[{\"id\":\"7d0cb561-5fb5-4e27-b758-b66119f5cb64\",\"type\":\"Row\"},{\"id\":\"369ef4af-86e6-424c-a916-08ecf734d25c\",\"type\":\"Row\"},{\"id\":\"225043e4-c591-494f-901a-aa6cf25313f8\",\"type\":\"Row\"}]},\"id\":\"1538b151-777e-43c0-99fc-420cac8383e0\",\"type\":\"Column\"},{\"attributes\":{},\"id\":\"f5eba578-c1ee-4f03-b67b-4dffbacd103c\",\"type\":\"LinearScale\"},{\"attributes\":{\"bottom_units\":\"screen\",\"fill_alpha\":{\"value\":0.5},\"fill_color\":{\"value\":\"lightgrey\"},\"left_units\":\"screen\",\"level\":\"overlay\",\"line_alpha\":{\"value\":1.0},\"line_color\":{\"value\":\"black\"},\"line_dash\":[4,4],\"line_width\":{\"value\":2},\"plot\":null,\"render_mode\":\"css\",\"right_units\":\"screen\",\"top_units\":\"screen\"},\"id\":\"34a3a162-d033-47d5-80c6-c628cd01fb92\",\"type\":\"BoxAnnotation\"},{\"attributes\":{},\"id\":\"feef7979-f9ea-456b-8898-373f75304bbd\",\"type\":\"PanTool\"},{\"attributes\":{\"source\":{\"id\":\"18a58a6b-785b-43ad-9d20-ee7285e02739\",\"type\":\"ColumnDataSource\"}},\"id\":\"524a5dad-bc0b-4642-81b5-139a78b49691\",\"type\":\"CDSView\"},{\"attributes\":{},\"id\":\"631a8de3-36b2-4ce5-b0d3-e1a1c5b27905\",\"type\":\"WheelZoomTool\"},{\"attributes\":{\"overlay\":{\"id\":\"34a3a162-d033-47d5-80c6-c628cd01fb92\",\"type\":\"BoxAnnotation\"}},\"id\":\"9f61a1c8-f50e-4716-aa44-f9037bdd2e14\",\"type\":\"BoxZoomTool\"},{\"attributes\":{},\"id\":\"be444743-2b03-4e3c-b0ce-6b0eba15a4e3\",\"type\":\"SaveTool\"},{\"attributes\":{\"callback\":null},\"id\":\"1dc0cb53-c81c-4467-be2f-559f5c06987f\",\"type\":\"DataRange1d\"},{\"attributes\":{},\"id\":\"28f13693-0f15-4deb-bd58-8992e8d41654\",\"type\":\"ResetTool\"},{\"attributes\":{\"below\":[{\"id\":\"419e2d0b-e2c9-4912-9a30-83d4953e19e3\",\"type\":\"LinearAxis\"}],\"left\":[{\"id\":\"48bcf4b2-7d82-495c-853f-00b1068c2165\",\"type\":\"LinearAxis\"}],\"plot_height\":250,\"plot_width\":400,\"renderers\":[{\"id\":\"419e2d0b-e2c9-4912-9a30-83d4953e19e3\",\"type\":\"LinearAxis\"},{\"id\":\"ad4823f6-fceb-452d-ad25-843fdca9ce3b\",\"type\":\"Grid\"},{\"id\":\"48bcf4b2-7d82-495c-853f-00b1068c2165\",\"type\":\"LinearAxis\"},{\"id\":\"eda303b0-ccbf-49b4-ace6-7e664a60ae59\",\"type\":\"Grid\"},{\"id\":\"d998ec55-372f-4752-bcd8-8fbf8c9f2c9a\",\"type\":\"BoxAnnotation\"},{\"id\":\"1489b6e9-a537-4eba-8dc4-026b259874ac\",\"type\":\"GlyphRenderer\"}],\"title\":{\"id\":\"00322879-56e3-4ffb-92d1-d532be4c3dd9\",\"type\":\"Title\"},\"toolbar\":{\"id\":\"4f442338-8ff4-4edc-8a3d-a809354b8ddb\",\"type\":\"Toolbar\"},\"toolbar_location\":null,\"x_range\":{\"id\":\"ea85d0d4-8dff-4cc2-92e2-802204e713c7\",\"type\":\"DataRange1d\"},\"x_scale\":{\"id\":\"3dddc238-6ad9-4335-9e12-69e5ab0ba501\",\"type\":\"LinearScale\"},\"y_range\":{\"id\":\"1dc0cb53-c81c-4467-be2f-559f5c06987f\",\"type\":\"DataRange1d\"},\"y_scale\":{\"id\":\"18dcbcf9-9078-46b1-aaf7-9a216a29569e\",\"type\":\"LinearScale\"}},\"id\":\"9baba6dc-2ce0-4427-94a1-649b140b9bd7\",\"subtype\":\"Figure\",\"type\":\"Plot\"},{\"attributes\":{},\"id\":\"ebe02f8e-a368-4cdb-b099-b799c27e6a2e\",\"type\":\"HelpTool\"},{\"attributes\":{\"fill_color\":{\"value\":\"#1f77b4\"},\"line_color\":{\"value\":\"#1f77b4\"},\"x\":{\"field\":\"x\"},\"y\":{\"field\":\"y\"}},\"id\":\"541b1214-8e63-4ff5-8a4b-5cf79a3aebf7\",\"type\":\"Circle\"},{\"attributes\":{},\"id\":\"dc46c54a-a187-45cb-9aa2-9fa06086d47f\",\"type\":\"BasicTicker\"},{\"attributes\":{\"callback\":null},\"id\":\"3846990f-1f0b-433c-835b-4b966b66b062\",\"type\":\"DataRange1d\"},{\"attributes\":{\"callback\":null,\"data\":{\"x\":{\"__ndarray__\":\"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\",\"dtype\":\"float64\",\"shape\":[506]},\"y\":{\"__ndarray__\":\"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\",\"dtype\":\"float64\",\"shape\":[506]}},\"selected\":{\"id\":\"0519cbd9-d9e2-4adf-aaef-54d5d3f03a22\",\"type\":\"Selection\"},\"selection_policy\":{\"id\":\"06eac60e-61bf-4ddb-89aa-b84b1aa2ea0f\",\"type\":\"UnionRenderers\"}},\"id\":\"a03bb8ed-287e-4247-a3c3-28760993324e\",\"type\":\"ColumnDataSource\"},{\"attributes\":{\"fill_alpha\":{\"value\":0.1},\"fill_color\":{\"value\":\"#1f77b4\"},\"line_alpha\":{\"value\":0.1},\"line_color\":{\"value\":\"#1f77b4\"},\"x\":{\"field\":\"x\"},\"y\":{\"field\":\"y\"}},\"id\":\"1ab38b69-554f-4de9-bcb8-41ae10cb6351\",\"type\":\"Circle\"},{\"attributes\":{\"data_source\":{\"id\":\"a450e034-fecb-40fe-b955-7bf6a112a17e\",\"type\":\"ColumnDataSource\"},\"glyph\":{\"id\":\"541b1214-8e63-4ff5-8a4b-5cf79a3aebf7\",\"type\":\"Circle\"},\"hover_glyph\":null,\"muted_glyph\":null,\"nonselection_glyph\":{\"id\":\"1ab38b69-554f-4de9-bcb8-41ae10cb6351\",\"type\":\"Circle\"},\"selection_glyph\":null,\"view\":{\"id\":\"bbe94dfb-b1dc-4c03-800e-b55304033566\",\"type\":\"CDSView\"}},\"id\":\"84d72666-04d1-46d5-a68f-8240a5038843\",\"type\":\"GlyphRenderer\"},{\"attributes\":{\"callback\":null,\"data\":{\"x\":{\"__ndarray__\":\"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\",\"dtype\":\"float64\",\"shape\":[506]},\"y\":{\"__ndarray__\":\"AAAAAAAAOECamZmZmZk1QJqZmZmZWUFAMzMzMzOzQECamZmZmRlCQDMzMzMzszxAZmZmZmbmNkCamZmZmRk7QAAAAAAAgDBAZmZmZmbmMkAAAAAAAAAuQGZmZmZm5jJAMzMzMzOzNUBmZmZmZmY0QDMzMzMzMzJAZmZmZmbmM0CamZmZmRk3QAAAAAAAgDFAMzMzMzMzNEAzMzMzMzMyQDMzMzMzMytAmpmZmZmZM0BmZmZmZmYuQAAAAAAAAC1AMzMzMzMzL0DNzMzMzMwrQJqZmZmZmTBAmpmZmZmZLUBmZmZmZmYyQAAAAAAAADVAZmZmZmZmKUAAAAAAAAAtQGZmZmZmZipAMzMzMzMzKkAAAAAAAAArQGZmZmZm5jJAAAAAAAAANEAAAAAAAAA1QDMzMzMzszhAzczMzMzMPkAzMzMzM3NBQJqZmZmZmTpAzczMzMxMOUAzMzMzM7M4QDMzMzMzMzVAzczMzMxMM0AAAAAAAAA0QJqZmZmZmTBAzczMzMzMLEBmZmZmZmYzQDMzMzMzszNAAAAAAACANEAAAAAAAAA5QGZmZmZmZjdAZmZmZmbmMkAzMzMzM7NBQDMzMzMzszhAmpmZmZmZP0DNzMzMzEw3QJqZmZmZmTNAMzMzMzOzMkAAAAAAAAAwQDMzMzMzMzZAAAAAAAAAOUAAAAAAAIBAQAAAAAAAgDdAZmZmZmZmM0AAAAAAAAA2QGZmZmZmZjFAZmZmZmbmNEAzMzMzMzM4QDMzMzMzszVAzczMzMzMNkBmZmZmZmY3QJqZmZmZGThAZmZmZmZmNUAAAAAAAAA0QM3MzMzMzDRAMzMzMzMzNUDNzMzMzEw0QAAAAAAAADxAZmZmZmbmN0DNzMzMzMw4QGZmZmZm5jZAZmZmZmbmN0CamZmZmZk6QAAAAAAAgDZAMzMzMzMzNkCamZmZmZk3QDMzMzMzszxAmpmZmZmZNkAAAAAAAAA2QGZmZmZm5jZAAAAAAAAAOUCamZmZmZk0QGZmZmZmZjxAZmZmZmZmNUCamZmZmVlDQGZmZmZm5kVAmpmZmZmZQEAAAAAAAIA7QAAAAAAAgDpAmpmZmZmZMkDNzMzMzEwzQJqZmZmZGTRAAAAAAACAM0AAAAAAAIAzQGZmZmZmZjRAzczMzMzMM0BmZmZmZmYzQDMzMzMzszVAzczMzMzMNkDNzMzMzMwyQDMzMzMzszJAAAAAAACAMkDNzMzMzEwyQDMzMzMzMzVAMzMzMzMzM0BmZmZmZmY0QM3MzMzMTDNAAAAAAAAANkDNzMzMzEw0QAAAAAAAgDRAzczMzMxMMUDNzMzMzMwyQGZmZmZmZjVAZmZmZmZmL0AzMzMzMzMwQAAAAAAAADJAmpmZmZmZLEAzMzMzMzMzQJqZmZmZmTNAAAAAAAAAN0BmZmZmZmYyQDMzMzMzMy9AmpmZmZkZMkBmZmZmZmYxQJqZmZmZGTFAmpmZmZmZKkDNzMzMzMwxQAAAAAAAACxAzczMzMzMLEDNzMzMzMwqQDMzMzMzMy9AmpmZmZmZJ0CamZmZmZkrQDMzMzMzMy9AMzMzMzMzLUDNzMzMzMwxQM3MzMzMzC5AAAAAAACANUCamZmZmZkzQJqZmZmZmS5AZmZmZmZmM0AAAAAAAAAxQDMzMzMzMy9AMzMzMzMzKkBmZmZmZqZEQM3MzMzMTDhAzczMzMxMN0AAAAAAAAA7QAAAAAAAAElAAAAAAAAASUAAAAAAAABJQDMzMzMzszZAAAAAAAAAOUAAAAAAAABJQM3MzMzMzDdAzczMzMzMN0DNzMzMzEw2QGZmZmZmZjFAmpmZmZkZM0CamZmZmRk3QJqZmZmZmTdAmpmZmZmZNkBmZmZmZmY9QDMzMzMzMzdAmpmZmZmZOEBmZmZmZuY9QJqZmZmZmUJAZmZmZmbmQ0CamZmZmRlCQDMzMzMz80JAAAAAAABAQEBmZmZmZmY6QJqZmZmZmT1AAAAAAAAASUAAAAAAAABAQM3MzMzMzD1AMzMzMzNzQUAAAAAAAIBCQAAAAAAAgD5AMzMzMzMzQkCamZmZmRk/QJqZmZmZGT1AAAAAAAAASUBmZmZmZqZAQM3MzMzMTD5AzczMzMxMQUAzMzMzM3NBQDMzMzMzc0BAmpmZmZkZOEBmZmZmZiZFQAAAAAAAQEhAAAAAAAAASUCamZmZmZk2QGZmZmZmZjhAAAAAAACANkBmZmZmZmY4QAAAAAAAADRAMzMzMzOzNUDNzMzMzEwzQGZmZmZmZjZAmpmZmZkZPEAzMzMzM7M3QAAAAAAAADlAzczMzMxMN0AzMzMzM7M8QAAAAAAAgDVAAAAAAAAAN0AzMzMzM7M6QDMzMzMzszVAAAAAAACAO0CamZmZmRk+QGZmZmZmZkZAAAAAAAAASUDNzMzMzMxCQJqZmZmZmT9AmpmZmZlZR0AAAAAAAIA/QM3MzMzMTDhAMzMzMzOzP0CamZmZmdlEQGZmZmZmJkhAAAAAAAAAPUAAAAAAAAA4QJqZmZmZGTlAAAAAAACAP0AzMzMzM7M3QM3MzMzMTDdAAAAAAAAANkCamZmZmRk0QDMzMzMzMzZAMzMzMzOzN0CamZmZmZkxQAAAAAAAgDJAzczMzMxMOEAAAAAAAIA0QAAAAAAAgDhAMzMzMzMzOkBmZmZmZmY4QM3MzMzMzDhAmpmZmZmZPUBmZmZmZmZFQGZmZmZm5jVAZmZmZmbmNEAAAAAAAABGQAAAAAAAAElAAAAAAAAAQkCamZmZmRk+QGZmZmZm5kBAzczMzMyMRUBmZmZmZmZIQAAAAAAAAD9AAAAAAABAQkDNzMzMzMw2QDMzMzMzsz5AAAAAAAAASUAAAAAAAMBFQDMzMzMzszRAmpmZmZkZNUAzMzMzMzM5QGZmZmZmZjhAmpmZmZmZQUAzMzMzMzNAQAAAAAAAAEBAmpmZmZmZQEDNzMzMzIxAQJqZmZmZGT1AzczMzMyMQUAzMzMzM7NGQDMzMzMzs0FAAAAAAAAAR0AAAAAAAABJQJqZmZmZGUBAAAAAAAAANkCamZmZmRk0QDMzMzMzMzdAzczMzMxMNkDNzMzMzMw4QAAAAAAAgDxAZmZmZmamQkBmZmZmZuY7QGZmZmZm5jdAMzMzMzOzNUCamZmZmZk8QJqZmZmZGTtAzczMzMxMNEAAAAAAAIA2QAAAAAAAAD1AzczMzMzMOEAAAAAAAAA2QGZmZmZmZjpAzczMzMyMQEDNzMzMzAxCQGZmZmZmZjxAMzMzMzOzQEAzMzMzMzM8QM3MzMzMzDZAzczMzMxMNECamZmZmRkwQJqZmZmZGTZAZmZmZmZmM0CamZmZmZk1QM3MzMzMzDdAMzMzMzMzMEDNzMzMzMwxQM3MzMzMzDNAmpmZmZkZN0AAAAAAAAA1QM3MzMzMzDdAmpmZmZkZN0BmZmZmZmY0QAAAAAAAgDJAAAAAAAAAOUCamZmZmZk4QAAAAAAAADdAMzMzMzMzNkDNzMzMzEwzQJqZmZmZmTZAzczMzMzMM0CamZmZmRkxQGZmZmZmZjNAMzMzMzMzNkAzMzMzM7M0QJqZmZmZGTVAAAAAAACAM0AAAAAAAIAyQJqZmZmZmTRAAAAAAAAAM0AzMzMzM7MyQJqZmZmZWUBAAAAAAACAMEBmZmZmZuY3QDMzMzMzMz9AAAAAAACAMUAzMzMzMzMxQJqZmZmZGTdAAAAAAACAOECamZmZmZk6QGZmZmZm5jZAmpmZmZkZOECamZmZmZkyQJqZmZmZGT5AMzMzMzMzMkCamZmZmZk0QM3MzMzMzDFAMzMzMzOzNUAzMzMzM7M2QJqZmZmZmTZAAAAAAAAAOUBmZmZmZuYzQM3MzMzMzDRAzczMzMzMMEBmZmZmZuY1QAAAAAAAgDtAZmZmZmbmNUCamZmZmRk3QAAAAAAAAElAAAAAAAAASUAAAAAAAABJQAAAAAAAAElAAAAAAAAASUCamZmZmZkrQJqZmZmZmStAAAAAAAAALkDNzMzMzMwrQJqZmZmZmSpAMzMzMzMzKkBmZmZmZmYkQM3MzMzMzCRAzczMzMzMJUCamZmZmZkmQJqZmZmZmShAmpmZmZmZIUDNzMzMzMwcQAAAAAAAACVAmpmZmZmZHUBmZmZmZmYkQAAAAAAAACdAMzMzMzMzLkAzMzMzMzM3QGZmZmZmZiNAmpmZmZmZK0BmZmZmZmYpQDMzMzMzMypAAAAAAAAAKUAAAAAAAAAhQAAAAAAAABRAMzMzMzMzGUBmZmZmZmYWQM3MzMzMzBxAMzMzMzMzKECamZmZmZkgQAAAAAAAACFAAAAAAAAAFEDNzMzMzMwnQGZmZmZm5jtAMzMzMzMzMUAAAAAAAIA7QAAAAAAAAC5AMzMzMzMzMUBmZmZmZuYxQM3MzMzMTDBAAAAAAAAAHEDNzMzMzMwcQAAAAAAAAB5AzczMzMzMJECamZmZmZkhQM3MzMzMzCBAMzMzMzOzMEBmZmZmZmYsQM3MzMzMzDRAzczMzMzMKkBmZmZmZmYnQJqZmZmZmSBAZmZmZmZmJEDNzMzMzMwlQAAAAAAAACZAAAAAAAAAI0AAAAAAAAAtQDMzMzMzMyxAmpmZmZkZMECamZmZmZksQGZmZmZmZidAzczMzMzMKkAzMzMzMzMjQGZmZmZmZiFAzczMzMzMIECamZmZmZkpQAAAAAAAACVAmpmZmZkZMUBmZmZmZmYyQM3MzMzMzC5AmpmZmZmZJUCamZmZmZknQM3MzMzMzC1AMzMzMzMzKUAzMzMzMzMsQAAAAAAAACpAzczMzMzMKkBmZmZmZmYuQJqZmZmZGTBAzczMzMzMMUDNzMzMzMwtQDMzMzMzMyxAZmZmZmZmKUAAAAAAAAArQM3MzMzMzC1AAAAAAAAANEBmZmZmZmYwQDMzMzMzszFAAAAAAACAM0AzMzMzMzM0QGZmZmZmZjVAZmZmZmbmM0AAAAAAAAAzQJqZmZmZGTNAmpmZmZkZM0CamZmZmRk0QGZmZmZm5jNAmpmZmZmZM0AzMzMzMzM3QM3MzMzMzD1AmpmZmZmZK0CamZmZmZkqQDMzMzMzszBAAAAAAAAAKEAzMzMzMzMtQGZmZmZmZjVAAAAAAAAAN0AzMzMzM7M3QAAAAAAAADlAzczMzMzMNUCamZmZmZk0QDMzMzMzMzVAmpmZmZkZM0CamZmZmZk0QGZmZmZmZi5AAAAAAAAAHEAzMzMzMzMgQDMzMzMzMytAmpmZmZkZNEDNzMzMzMw1QAAAAAAAgDhAmpmZmZkZN0AzMzMzM7MzQM3MzMzMTDJAMzMzMzMzNUAAAAAAAIAxQM3MzMzMzDBAZmZmZmZmNkCamZmZmZk0QGZmZmZm5jdAAAAAAAAANkDNzMzMzMwnQA==\",\"dtype\":\"float64\",\"shape\":[506]}},\"selected\":{\"id\":\"05168d7c-38ee-4555-beca-aa5e52235627\",\"type\":\"Selection\"},\"selection_policy\":{\"id\":\"2c2f618b-0ac5-4de2-9f63-70b7be2e63cb\",\"type\":\"UnionRenderers\"}},\"id\":\"18a58a6b-785b-43ad-9d20-ee7285e02739\",\"type\":\"ColumnDataSource\"},{\"attributes\":{\"source\":{\"id\":\"a450e034-fecb-40fe-b955-7bf6a112a17e\",\"type\":\"ColumnDataSource\"}},\"id\":\"bbe94dfb-b1dc-4c03-800e-b55304033566\",\"type\":\"CDSView\"},{\"attributes\":{\"below\":[{\"id\":\"135b0987-a045-421c-a5f4-6f642691dff6\",\"type\":\"LinearAxis\"}],\"left\":[{\"id\":\"d547168d-bfda-4d34-a685-792d27967325\",\"type\":\"LinearAxis\"}],\"plot_height\":250,\"plot_width\":400,\"renderers\":[{\"id\":\"135b0987-a045-421c-a5f4-6f642691dff6\",\"type\":\"LinearAxis\"},{\"id\":\"0a1da89a-3701-41e9-a83f-08054887543c\",\"type\":\"Grid\"},{\"id\":\"d547168d-bfda-4d34-a685-792d27967325\",\"type\":\"LinearAxis\"},{\"id\":\"d31c3381-d22b-46d3-b9a5-1d9a08b5c5d8\",\"type\":\"Grid\"},{\"id\":\"00b1d294-ab1e-4584-935a-51e4971101d9\",\"type\":\"BoxAnnotation\"},{\"id\":\"84d72666-04d1-46d5-a68f-8240a5038843\",\"type\":\"GlyphRenderer\"}],\"title\":{\"id\":\"22bd80a2-aa88-442d-8eaa-172c24d8451b\",\"type\":\"Title\"},\"toolbar\":{\"id\":\"ad76a944-d7f9-4be7-b39a-d58ac09b51c8\",\"type\":\"Toolbar\"},\"toolbar_location\":null,\"x_range\":{\"id\":\"3846990f-1f0b-433c-835b-4b966b66b062\",\"type\":\"DataRange1d\"},\"x_scale\":{\"id\":\"f5eba578-c1ee-4f03-b67b-4dffbacd103c\",\"type\":\"LinearScale\"},\"y_range\":{\"id\":\"b1713815-881b-43d3-b42d-f90841df3409\",\"type\":\"DataRange1d\"},\"y_scale\":{\"id\":\"72e9638a-4294-40a0-a60c-6517ac26e503\",\"type\":\"LinearScale\"}},\"id\":\"d70d93c3-18ef-4f48-a176-0f230105e6e1\",\"subtype\":\"Figure\",\"type\":\"Plot\"},{\"attributes\":{\"callback\":null,\"data\":{\"x\":{\"__ndarray__\":\"AAAAAAAAAAAAAAAAAAAAAAAAAAAAAAAAAAAAAAAAAAAAAAAAAAAAAAAAAAAAAAAAAAAAAAAAAAAAAAAAAAAAAAAAAAAAAAAAAAAAAAAAAAAAAAAAAAAAAAAAAAAAAAAAAAAAAAAAAAAAAAAAAAAAAAAAAAAAAAAAAAAAAAAAAAAAAAAAAAAAAAAAAAAAAAAAAAAAAAAAAAAAAAAAAAAAAAAAAAAAAAAAAAAAAAAAAAAAAAAAAAAAAAAAAAAAAAAAAAAAAAAAAAAAAAAAAAAAAAAAAAAAAAAAAAAAAAAAAAAAAAAAAAAAAAAAAAAAAAAAAAAAAAAAAAAAAAAAAAAAAAAAAAAAAAAAAAAAAAAAAAAAAAAAAAAAAAAAAAAAAAAAAAAAAAAAAAAAAAAAAAAAAAAAAAAAAAAAAAAAAAAAAAAAAAAAAAAAAAAAAAAAAAAAAAAAAAAAAAAAAAAAAAAAAAAAAAAAAAAAAAAAAAAAAAAAAAAAAAAAAAAAAAAAAAAAAAAAAAAAAAAAAAAAAAAAAAAAAAAAAAAAAAAAAAAAAAAAAAAAAAAAAAAAAAAAAAAAAAAAAAAAAAAAAAAAAAAAAAAAAAAAAAAAAAAAAAAAAAAAAAAAAAAAAAAAAAAAAAAAAAAAAAAAAAAAAAAAAAAAAAAAAAAAAAAAAAAAAAAAAAAAAAAAAAAAAAAAAAAAAAAAAAAAAAAAAAAAAAAAAAAAAAAAAAAAAAAAAAAAAAAAAAAAAAAAAAAAAAAAAAAAAAAAAAAAAAAAAAAAAAAAAAAAAAAAAAAAAAAAAAAAAAAAAAAAAAAAAAAAAAAAAAAAAAAAAAAAAAAAAAAAAAAAAAAAAAAAAAAAAAAAAAAAAAAAAAAAAAAAAAAAAAAAAAAAAAAAAAAAAAAAAAAAAAAAAAAAAAAAAAAAAAAAAAAAAAAAAAAAAAAAAAAAAAAAAAAAAAAAAAAAAAAAAAAAAAAAAAAAAAAAAAAAAAAAAAAAAAAAAAAAAAAAAAAAAAAAAAAAAAAAAAAAAAAAAAAAAAAAAAAAAAAAAAAAAAAAAAAAAAAAAAAAAAAAAAAAAAAAAAAAAAAAAAAAAAAAAAAAAAAAAAAAAAAAAAAAAAAAAAAAAAAAAAAAAAAAAAAAAAAAAAAAAAAAAAAAAAAAAAAAAAAAAAAAAAAAAAAAAAAAAAAAAAAAAAAAAAAAAAAAAAAAAAAAAAAAAAAAAAAAAAAAAAAAAAAAAAAAAAAAAAAAAAAAAAAAAAAAAAAAAAAAAAAAAAAAAAAAAAAAAAAAAAAAAAAAAAAAAAAAAAAAAAAAAAAAAAAAAAAAAAAAAAAAAAAAAAAAAAAAAAAAAAAAAAAAAAAAAAAAAAAAAAAAAAAAAAAAAAAAAAAAAAAAAAAAAAAAAAAAAAAAAAAAAAAAAAAAAAAAAAAAAAAAAAAAAAAAAAAAAAAAAAAAAAAAAAAAAAAAAAAAAAAAAAAAAAAAAAAAAAAAAAAAAAAAAAAAAAAAAAAAAAAAAAAAAAAAAADwPwAAAAAAAAAAAAAAAAAAAAAAAAAAAAAAAAAAAAAAAAAAAAAAAAAAAAAAAAAAAAAAAAAAAAAAAAAAAAAAAAAAAAAAAAAAAAAAAAAAAAAAAPA/AAAAAAAAAAAAAAAAAADwPwAAAAAAAPA/AAAAAAAAAAAAAAAAAAAAAAAAAAAAAAAAAAAAAAAAAAAAAAAAAADwPwAAAAAAAAAAAAAAAAAA8D8AAAAAAADwPwAAAAAAAAAAAAAAAAAAAAAAAAAAAAAAAAAAAAAAAAAAAAAAAAAAAAAAAAAAAAAAAAAAAAAAAAAAAAAAAAAAAAAAAAAAAAAAAAAAAAAAAAAAAAAAAAAAAAAAAAAAAAAAAAAAAAAAAAAAAAAAAAAAAAAAAAAAAAAAAAAAAAAAAAAAAAAAAAAAAAAAAAAAAAAAAAAAAAAAAAAAAAAAAAAAAAAAAAAAAAAAAAAAAAAAAAAAAAAAAAAAAAAAAAAAAAAAAAAAAAAAAAAAAAAAAAAAAAAAAAAAAAAAAAAAAAAAAAAAAAAAAAAAAAAAAAAAAAAAAAAAAAAAAAAAAAAAAAAAAAAAAAAAAAAAAAAAAAAAAAAAAAAAAAAAAAAAAAAAAAAAAAAAAAAAAAAAAAAAAAAAAAAAAAAAAAAAAAAAAAAAAAAAAAAAAAAAAAAAAAAAAAAAAAAAAAAAAAAAAAAAAAAAAAAAAAAAAADwPwAAAAAAAPA/AAAAAAAA8D8AAAAAAADwPwAAAAAAAPA/AAAAAAAAAAAAAAAAAAAAAAAAAAAAAAAAAAAAAAAA8D8AAAAAAAAAAAAAAAAAAPA/AAAAAAAA8D8AAAAAAADwPwAAAAAAAPA/AAAAAAAA8D8AAAAAAAAAAAAAAAAAAAAAAAAAAAAAAAAAAAAAAAAAAAAAAAAAAAAAAAAAAAAAAAAAAAAAAAAAAAAAAAAAAAAAAAAAAAAAAAAAAAAAAAAAAAAAAAAAAAAAAAAAAAAA8D8AAAAAAAAAAAAAAAAAAPA/AAAAAAAAAAAAAAAAAAAAAAAAAAAAAAAAAAAAAAAAAAAAAAAAAAAAAAAAAAAAAAAAAAAAAAAAAAAAAAAAAAAAAAAAAAAAAAAAAAAAAAAAAAAAAAAAAAAAAAAAAAAAAAAAAAAAAAAAAAAAAAAAAAAAAAAAAAAAAAAAAAAAAAAAAAAAAAAAAAAAAAAAAAAAAAAAAAAAAAAAAAAAAAAAAAAAAAAAAAAAAAAAAAAAAAAAAAAAAAAAAAAAAAAAAAAAAAAAAAAAAAAAAAAAAAAAAAAAAAAAAAAAAAAAAAAAAAAAAAAAAAAAAAAAAAAAAAAAAAAAAAAAAAAAAAAAAAAAAAAAAAAAAAAAAPA/AAAAAAAAAAAAAAAAAAAAAAAAAAAAAAAAAAAAAAAA8D8AAAAAAADwPwAAAAAAAAAAAAAAAAAA8D8AAAAAAADwPwAAAAAAAAAAAAAAAAAAAAAAAAAAAAAAAAAAAAAAAAAAAAAAAAAA8D8AAAAAAADwPwAAAAAAAAAAAAAAAAAAAAAAAAAAAAAAAAAAAAAAAAAAAAAAAAAAAAAAAAAAAAAAAAAAAAAAAAAAAAAAAAAAAAAAAAAAAAAAAAAAAAAAAAAAAAAAAAAAAAAAAAAAAAAAAAAAAAAAAAAAAAAAAAAAAAAAAAAAAAAAAAAAAAAAAAAAAAAAAAAAAAAAAAAAAAAAAAAAAAAAAAAAAAAAAAAAAAAAAAAAAAAAAAAAAAAAAAAAAAAAAAAAAAAAAAAAAAAAAAAAAAAAAAAAAAAAAAAAAAAAAAAAAAAAAAAAAAAAAAAAAAAAAAAAAAAAAAAAAAAAAAAAAAAAAAAAAAAAAAAAAAAAAAAAAAAAAAAAAAAAAAAAAAAAAAAAAAAAAAAAAAAAAAAAAAAAAAAAAAAAAAAAAAAAAAAAAAAAAAAAAAAAAAAAAAAAAAAAAAAAAAAAAAAAAAAAAAAAAAAAAAAAAAAAAAAAAAAAAAAAAAAAAAAAAAAAAAAAAAAAAAAAAAAAAAAAAAAAAAAAAAAAAAAAAAAAAAAAAAAAAAAAAAAAAAAAAAAAAAAAAAAAAAAAAAAAAAAAAAAAAAAAAAAAAAAAAAAAAAAAAAAAAAAAAAAAAAAAAAAAAAAAAAAAAAAAAAAAAAAAAAAAAAAAAAAAAAAAAAAAAAAAAAAAAAAAAAAAAAAAAAAAAAAAAAAAAAAAAAAAAAAAAAAAAAAAAAAAAAAAAAAAAAAAAAAAAAAAAAAAAAAAAAAAAAAAAAAAAAAAAAAAAAAAAAAAAAAAAPA/AAAAAAAA8D8AAAAAAADwPwAAAAAAAAAAAAAAAAAAAAAAAAAAAAAAAAAAAAAAAAAAAAAAAAAA8D8AAAAAAADwPwAAAAAAAAAAAAAAAAAAAAAAAAAAAAAAAAAAAAAAAAAAAAAAAAAA8D8AAAAAAADwPwAAAAAAAAAAAAAAAAAA8D8AAAAAAAAAAAAAAAAAAAAAAAAAAAAAAAAAAAAAAAAAAAAAAAAAAAAAAAAAAAAAAAAAAAAAAAAAAAAAAAAAAAAAAAAAAAAAAAAAAAAAAAAAAAAAAAAAAAAAAAAAAAAAAAAAAAAAAAAAAAAAAAAAAAAAAAAAAAAAAAAAAAAAAAAAAAAAAAAAAAAAAAAAAAAAAAAAAAAAAAAAAAAAAAAAAAAAAAAAAAAAAAAAAAAAAAAAAAAAAAAAAAAAAAAAAAAAAAAAAAAAAAAAAAAAAAAAAAAAAAAAAAAAAAAAAAAAAAAAAAAAAAAAAAAAAAAAAAAAAAAAAAAAAAAAAAAAAAAAAAAAAAAAAAAAAAAAAAAAAAAAAAAAAAAAAAAAAAAAAAAAAAAAAAAAAAAAAAAAAAAAAAAAAAAAAAAAAAAAAAAAAAAAAAAAAAAAAAAAAAAAAAAAAAAAAAAAAAAAAAAAAAAAAAAAAAAAAAAAAAAAAAAAAAAAAAAAAAAAAAAAAAAAAAAAAAAAAAAAAAAAAAAAAAAAAAAAAAAAAAAAAAAAAAAAAAAAAAAAAAAAAAAAAAAAAAAAAAAAAAAAAAAAAAAAAAAAAAAAAAAAAAAAAAAAAAAAAAAAAAAAAAAAAAAAAAAAAAAAAAAAAAAAAAAAAAAAAAAAAAAAAAAAAAAAAAAAAAAAAAAAAAAAAAAAAAAAAAAAAAAAAAAAAAAAAAAAAAAAAAAAAAAAAAAAAAAAAAAAAAAAAAAAAAAAAAAAAAAAAAAAAAAAAAAAAAAAAAAAAAAAAAAAAAAAAAAAAAAAAAAAAAAAAAAAAAAAAAAAAAAAAAAAAAAAAAAAAAAAAAAAAAAAAAAAAAAAAAAAAAAAAAAAAAAAAAAAAAAAAAAAAAAAAAAAAAAAAAAAAAAAAAAAAAAAAAAAAAAAAAAAAAAAAAAAAAAAAAAAAAAAAAAAAAAAAAAAAAAAAAAAAAAAAAAAAAAAAAAAAAAAAAAAAAAAAAAAAAAAAAAAAAAAAAAAAAAAAAAAAAAAAAAAAAAAAAAAAAAAAAAAAAAAAAAAAAAAAAAAAAAAAAAAAAAAAAAAAAAAAAAAAAAAAAAAAAAAAAAAAAAAAAAAAAAAAAAAAAAAAAAAAAAAAAAAAAAAAAAAAAAAAAAAAAAAAAAAAAAAAAAAAAAAAAAAAAAAAAAAAAAAAAAAAAAAAAAAAAAAAAAAAAAAAAAAAAAAAAAAAAAAAAAAAAAAAAAAAAAAAAAAAAAAAAAAAAAAAAAAAAAAAAAAAAAAAAAAAAAAAAAAAAAAAAAAAAAAAAAAAAAAAAAAAAAAAAAAAAAAAAAAAAAAAAAAAAAAAAAAAAAAAAAAAAAAAAAAAAAAAAAAAAAAAAAAAAAAAAAAAAAAAAAAAAAAAAAAAAAAAAAAAAAAAAAAAAAAAAAAAA==\",\"dtype\":\"float64\",\"shape\":[506]},\"y\":{\"__ndarray__\":\"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\",\"dtype\":\"float64\",\"shape\":[506]}},\"selected\":{\"id\":\"669a5076-d186-4594-80b2-cda9e73bf8d3\",\"type\":\"Selection\"},\"selection_policy\":{\"id\":\"1eb8b790-a866-483e-b6e5-9b2181f99a69\",\"type\":\"UnionRenderers\"}},\"id\":\"8eea721b-863d-44b6-bc08-0d736ed2bc63\",\"type\":\"ColumnDataSource\"},{\"attributes\":{\"below\":[{\"id\":\"5419b83d-4c0f-4564-8ff8-c8489c8bf145\",\"type\":\"LinearAxis\"}],\"left\":[{\"id\":\"6d87fd8f-8f8b-4003-a61c-956b5530d6c8\",\"type\":\"LinearAxis\"}],\"plot_height\":250,\"plot_width\":400,\"renderers\":[{\"id\":\"5419b83d-4c0f-4564-8ff8-c8489c8bf145\",\"type\":\"LinearAxis\"},{\"id\":\"1fe66028-6a42-48d5-9abc-788363b670bf\",\"type\":\"Grid\"},{\"id\":\"6d87fd8f-8f8b-4003-a61c-956b5530d6c8\",\"type\":\"LinearAxis\"},{\"id\":\"2753cec4-b4ec-4857-bc75-850022d6e951\",\"type\":\"Grid\"},{\"id\":\"7b518e6e-259f-43f3-956e-e71e743ec53d\",\"type\":\"BoxAnnotation\"},{\"id\":\"b2af4ade-5e0a-4c54-bdf3-277e3449caa6\",\"type\":\"GlyphRenderer\"}],\"title\":{\"id\":\"44ca25c0-4700-43e3-a702-0ba5299ea5ec\",\"type\":\"Title\"},\"toolbar\":{\"id\":\"1e0ddcc8-5dce-4a4f-aaf6-28b3e6cf18f7\",\"type\":\"Toolbar\"},\"toolbar_location\":null,\"x_range\":{\"id\":\"bf85278d-a8a5-443f-9e3d-315c14ccded9\",\"type\":\"DataRange1d\"},\"x_scale\":{\"id\":\"9c0422af-9a29-4400-b79d-5068005de403\",\"type\":\"LinearScale\"},\"y_range\":{\"id\":\"5b294a60-2843-4bea-9f4c-4bafc0274fda\",\"type\":\"DataRange1d\"},\"y_scale\":{\"id\":\"7fb32a83-bd80-43fc-ab70-4f56273a0c03\",\"type\":\"LinearScale\"}},\"id\":\"acc7fdbd-278f-44df-8d4c-b2aa3bd3b571\",\"subtype\":\"Figure\",\"type\":\"Plot\"},{\"attributes\":{\"fill_color\":{\"value\":\"#1f77b4\"},\"line_color\":{\"value\":\"#1f77b4\"},\"x\":{\"field\":\"x\"},\"y\":{\"field\":\"y\"}},\"id\":\"26280b89-347e-4e29-a870-c346b772d590\",\"type\":\"Circle\"},{\"attributes\":{\"active_drag\":\"auto\",\"active_inspect\":\"auto\",\"active_multi\":null,\"active_scroll\":\"auto\",\"active_tap\":\"auto\",\"tools\":[{\"id\":\"183e1c21-1da8-4369-8495-111e7f2109d6\",\"type\":\"PanTool\"},{\"id\":\"7e438c13-90b8-4aad-838f-f26c64b248f4\",\"type\":\"WheelZoomTool\"},{\"id\":\"0152b168-53d2-4c27-a5d7-61659f5780ae\",\"type\":\"BoxZoomTool\"},{\"id\":\"1218937b-953a-4333-893e-7dfb3f96db5f\",\"type\":\"SaveTool\"},{\"id\":\"c768f3b9-a26a-487d-a343-47cce84e92ab\",\"type\":\"ResetTool\"},{\"id\":\"608ea3c4-464c-40ba-8d1b-cd9f9ed47d0c\",\"type\":\"HelpTool\"}]},\"id\":\"ad76a944-d7f9-4be7-b39a-d58ac09b51c8\",\"type\":\"Toolbar\"},{\"attributes\":{\"fill_alpha\":{\"value\":0.1},\"fill_color\":{\"value\":\"#1f77b4\"},\"line_alpha\":{\"value\":0.1},\"line_color\":{\"value\":\"#1f77b4\"},\"x\":{\"field\":\"x\"},\"y\":{\"field\":\"y\"}},\"id\":\"f64102d1-fd21-479b-83d5-fd3a53aff45c\",\"type\":\"Circle\"},{\"attributes\":{},\"id\":\"3dddc238-6ad9-4335-9e12-69e5ab0ba501\",\"type\":\"LinearScale\"},{\"attributes\":{\"data_source\":{\"id\":\"a03bb8ed-287e-4247-a3c3-28760993324e\",\"type\":\"ColumnDataSource\"},\"glyph\":{\"id\":\"26280b89-347e-4e29-a870-c346b772d590\",\"type\":\"Circle\"},\"hover_glyph\":null,\"muted_glyph\":null,\"nonselection_glyph\":{\"id\":\"f64102d1-fd21-479b-83d5-fd3a53aff45c\",\"type\":\"Circle\"},\"selection_glyph\":null,\"view\":{\"id\":\"83695de7-b796-4e79-a256-3c7cd0c45372\",\"type\":\"CDSView\"}},\"id\":\"b2af4ade-5e0a-4c54-bdf3-277e3449caa6\",\"type\":\"GlyphRenderer\"},{\"attributes\":{\"source\":{\"id\":\"a03bb8ed-287e-4247-a3c3-28760993324e\",\"type\":\"ColumnDataSource\"}},\"id\":\"83695de7-b796-4e79-a256-3c7cd0c45372\",\"type\":\"CDSView\"},{\"attributes\":{\"callback\":null},\"id\":\"b1713815-881b-43d3-b42d-f90841df3409\",\"type\":\"DataRange1d\"},{\"attributes\":{\"callback\":null,\"data\":{\"x\":{\"__ndarray__\":\"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\",\"dtype\":\"float64\",\"shape\":[506]},\"y\":{\"__ndarray__\":\"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\",\"dtype\":\"float64\",\"shape\":[506]}},\"selected\":{\"id\":\"822805d3-c2a3-430b-9f6b-97730a0bd98b\",\"type\":\"Selection\"},\"selection_policy\":{\"id\":\"bf2a3cef-581f-4dba-a0d4-eeee30d55c38\",\"type\":\"UnionRenderers\"}},\"id\":\"faacf2e6-3864-4777-8ffa-f49562b741ee\",\"type\":\"ColumnDataSource\"},{\"attributes\":{\"fill_color\":{\"value\":\"#1f77b4\"},\"line_color\":{\"value\":\"#1f77b4\"},\"x\":{\"field\":\"x\"},\"y\":{\"field\":\"y\"}},\"id\":\"1070e47b-0f80-49d8-b02b-26f948982890\",\"type\":\"Circle\"},{\"attributes\":{\"fill_alpha\":{\"value\":0.1},\"fill_color\":{\"value\":\"#1f77b4\"},\"line_alpha\":{\"value\":0.1},\"line_color\":{\"value\":\"#1f77b4\"},\"x\":{\"field\":\"x\"},\"y\":{\"field\":\"y\"}},\"id\":\"89f65339-cfe0-4f37-974a-1634832d2cbd\",\"type\":\"Circle\"},{\"attributes\":{\"data_source\":{\"id\":\"8eea721b-863d-44b6-bc08-0d736ed2bc63\",\"type\":\"ColumnDataSource\"},\"glyph\":{\"id\":\"1070e47b-0f80-49d8-b02b-26f948982890\",\"type\":\"Circle\"},\"hover_glyph\":null,\"muted_glyph\":null,\"nonselection_glyph\":{\"id\":\"89f65339-cfe0-4f37-974a-1634832d2cbd\",\"type\":\"Circle\"},\"selection_glyph\":null,\"view\":{\"id\":\"7c0b2d41-b84f-445b-8e78-08bd94bebce9\",\"type\":\"CDSView\"}},\"id\":\"461c0f9e-9b10-4b03-af45-ccea54c8ac6f\",\"type\":\"GlyphRenderer\"},{\"attributes\":{\"source\":{\"id\":\"8eea721b-863d-44b6-bc08-0d736ed2bc63\",\"type\":\"ColumnDataSource\"}},\"id\":\"7c0b2d41-b84f-445b-8e78-08bd94bebce9\",\"type\":\"CDSView\"},{\"attributes\":{\"active_drag\":\"auto\",\"active_inspect\":\"auto\",\"active_multi\":null,\"active_scroll\":\"auto\",\"active_tap\":\"auto\",\"tools\":[{\"id\":\"343b563f-1217-4bd0-9210-ace9eeaa8340\",\"type\":\"PanTool\"},{\"id\":\"4592e2fb-d1c1-4de1-b803-3a30ad39a88c\",\"type\":\"WheelZoomTool\"},{\"id\":\"72fdebfa-eec8-49ef-81a8-d4517ba29b7a\",\"type\":\"BoxZoomTool\"},{\"id\":\"b214d67c-b4b1-4d9b-8d0b-ac1ad796d314\",\"type\":\"SaveTool\"},{\"id\":\"f5912d67-a35b-4dfa-b009-75c75efe2967\",\"type\":\"ResetTool\"},{\"id\":\"a4944500-6c2e-45b7-9077-a573b3c35658\",\"type\":\"HelpTool\"}]},\"id\":\"4f442338-8ff4-4edc-8a3d-a809354b8ddb\",\"type\":\"Toolbar\"},{\"attributes\":{\"callback\":null,\"data\":{\"x\":{\"__ndarray__\":\"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\",\"dtype\":\"float64\",\"shape\":[506]},\"y\":{\"__ndarray__\":\"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\",\"dtype\":\"float64\",\"shape\":[506]}},\"selected\":{\"id\":\"234a0346-ccf7-4619-b2d8-37badd7acc7f\",\"type\":\"Selection\"},\"selection_policy\":{\"id\":\"52d8b2bd-45cc-4a9c-bc49-67d0a8300512\",\"type\":\"UnionRenderers\"}},\"id\":\"30ac80e1-1d30-4e74-ac9e-450318de78dd\",\"type\":\"ColumnDataSource\"},{\"attributes\":{\"fill_color\":{\"value\":\"#1f77b4\"},\"line_color\":{\"value\":\"#1f77b4\"},\"x\":{\"field\":\"x\"},\"y\":{\"field\":\"y\"}},\"id\":\"f0ba97c8-1e32-4d7e-871d-ce08d519dcda\",\"type\":\"Circle\"},{\"attributes\":{\"callback\":null},\"id\":\"ea85d0d4-8dff-4cc2-92e2-802204e713c7\",\"type\":\"DataRange1d\"},{\"attributes\":{\"fill_alpha\":{\"value\":0.1},\"fill_color\":{\"value\":\"#1f77b4\"},\"line_alpha\":{\"value\":0.1},\"line_color\":{\"value\":\"#1f77b4\"},\"x\":{\"field\":\"x\"},\"y\":{\"field\":\"y\"}},\"id\":\"87bac8e1-159e-4281-a569-0a9c12716959\",\"type\":\"Circle\"},{\"attributes\":{\"data_source\":{\"id\":\"faacf2e6-3864-4777-8ffa-f49562b741ee\",\"type\":\"ColumnDataSource\"},\"glyph\":{\"id\":\"f0ba97c8-1e32-4d7e-871d-ce08d519dcda\",\"type\":\"Circle\"},\"hover_glyph\":null,\"muted_glyph\":null,\"nonselection_glyph\":{\"id\":\"87bac8e1-159e-4281-a569-0a9c12716959\",\"type\":\"Circle\"},\"selection_glyph\":null,\"view\":{\"id\":\"7d1c635f-62c3-4126-9ef9-44b06df8c37f\",\"type\":\"CDSView\"}},\"id\":\"54390b63-aac9-4789-ae1c-cb6a51bb3f65\",\"type\":\"GlyphRenderer\"},{\"attributes\":{\"source\":{\"id\":\"faacf2e6-3864-4777-8ffa-f49562b741ee\",\"type\":\"ColumnDataSource\"}},\"id\":\"7d1c635f-62c3-4126-9ef9-44b06df8c37f\",\"type\":\"CDSView\"},{\"attributes\":{\"plot\":null,\"text\":\"\"},\"id\":\"00322879-56e3-4ffb-92d1-d532be4c3dd9\",\"type\":\"Title\"},{\"attributes\":{\"fill_color\":{\"value\":\"#1f77b4\"},\"line_color\":{\"value\":\"#1f77b4\"},\"x\":{\"field\":\"x\"},\"y\":{\"field\":\"y\"}},\"id\":\"3184e5e8-fd02-4751-ac9b-e674412e56a9\",\"type\":\"Circle\"},{\"attributes\":{\"fill_alpha\":{\"value\":0.1},\"fill_color\":{\"value\":\"#1f77b4\"},\"line_alpha\":{\"value\":0.1},\"line_color\":{\"value\":\"#1f77b4\"},\"x\":{\"field\":\"x\"},\"y\":{\"field\":\"y\"}},\"id\":\"78d0f0ed-23c7-41df-a5d7-886b6d073daa\",\"type\":\"Circle\"},{\"attributes\":{\"data_source\":{\"id\":\"30ac80e1-1d30-4e74-ac9e-450318de78dd\",\"type\":\"ColumnDataSource\"},\"glyph\":{\"id\":\"3184e5e8-fd02-4751-ac9b-e674412e56a9\",\"type\":\"Circle\"},\"hover_glyph\":null,\"muted_glyph\":null,\"nonselection_glyph\":{\"id\":\"78d0f0ed-23c7-41df-a5d7-886b6d073daa\",\"type\":\"Circle\"},\"selection_glyph\":null,\"view\":{\"id\":\"aa796e34-78bf-42f6-93f2-0893a52fb4ff\",\"type\":\"CDSView\"}},\"id\":\"8aac5d61-ff95-4942-bf84-ee1c0a272d95\",\"type\":\"GlyphRenderer\"},{\"attributes\":{\"source\":{\"id\":\"30ac80e1-1d30-4e74-ac9e-450318de78dd\",\"type\":\"ColumnDataSource\"}},\"id\":\"aa796e34-78bf-42f6-93f2-0893a52fb4ff\",\"type\":\"CDSView\"},{\"attributes\":{\"children\":[{\"id\":\"9baba6dc-2ce0-4427-94a1-649b140b9bd7\",\"subtype\":\"Figure\",\"type\":\"Plot\"},{\"id\":\"d70d93c3-18ef-4f48-a176-0f230105e6e1\",\"subtype\":\"Figure\",\"type\":\"Plot\"}]},\"id\":\"7d0cb561-5fb5-4e27-b758-b66119f5cb64\",\"type\":\"Row\"},{\"attributes\":{},\"id\":\"07a338b8-cf73-4c05-a12c-69cb3bd4f95f\",\"type\":\"BasicTickFormatter\"},{\"attributes\":{},\"id\":\"ddf94d23-9adb-49d9-8486-84a006e52209\",\"type\":\"BasicTickFormatter\"},{\"attributes\":{},\"id\":\"2c2f618b-0ac5-4de2-9f63-70b7be2e63cb\",\"type\":\"UnionRenderers\"},{\"attributes\":{\"plot\":null,\"text\":\"\"},\"id\":\"22bd80a2-aa88-442d-8eaa-172c24d8451b\",\"type\":\"Title\"},{\"attributes\":{},\"id\":\"05168d7c-38ee-4555-beca-aa5e52235627\",\"type\":\"Selection\"},{\"attributes\":{\"axis_label\":\"Price in $1000s\",\"formatter\":{\"id\":\"07a338b8-cf73-4c05-a12c-69cb3bd4f95f\",\"type\":\"BasicTickFormatter\"},\"plot\":{\"id\":\"9baba6dc-2ce0-4427-94a1-649b140b9bd7\",\"subtype\":\"Figure\",\"type\":\"Plot\"},\"ticker\":{\"id\":\"02f9254d-7074-4fd3-a9f9-270363efd508\",\"type\":\"BasicTicker\"}},\"id\":\"48bcf4b2-7d82-495c-853f-00b1068c2165\",\"type\":\"LinearAxis\"},{\"attributes\":{},\"id\":\"b214d67c-b4b1-4d9b-8d0b-ac1ad796d314\",\"type\":\"SaveTool\"},{\"attributes\":{},\"id\":\"5c63fae1-0319-4329-bbb8-cf74e1ade470\",\"type\":\"BasicTickFormatter\"},{\"attributes\":{\"overlay\":{\"id\":\"d998ec55-372f-4752-bcd8-8fbf8c9f2c9a\",\"type\":\"BoxAnnotation\"}},\"id\":\"72fdebfa-eec8-49ef-81a8-d4517ba29b7a\",\"type\":\"BoxZoomTool\"},{\"attributes\":{},\"id\":\"b172c4b1-763d-432f-b54a-4e178175e4dc\",\"type\":\"BasicTickFormatter\"},{\"attributes\":{},\"id\":\"f5912d67-a35b-4dfa-b009-75c75efe2967\",\"type\":\"ResetTool\"},{\"attributes\":{},\"id\":\"74838700-80d0-4dea-ae5d-c12e6fc05e40\",\"type\":\"UnionRenderers\"},{\"attributes\":{\"active_drag\":\"auto\",\"active_inspect\":\"auto\",\"active_multi\":null,\"active_scroll\":\"auto\",\"active_tap\":\"auto\",\"tools\":[{\"id\":\"b8875d4c-588b-48f4-8df0-5c60bbf2691c\",\"type\":\"PanTool\"},{\"id\":\"0631c544-6807-4216-bc1c-f7260a20df08\",\"type\":\"WheelZoomTool\"},{\"id\":\"7912ecd2-b5c1-4c33-bd33-6a2f67b42fdd\",\"type\":\"BoxZoomTool\"},{\"id\":\"d16f9e39-620d-4cf7-8871-7eb1675284e2\",\"type\":\"SaveTool\"},{\"id\":\"b7a4fc7c-dcdd-4de6-82af-e62348105eff\",\"type\":\"ResetTool\"},{\"id\":\"d656b5f0-90ed-4c3b-a581-e2dcf7bee519\",\"type\":\"HelpTool\"}]},\"id\":\"7b54fd3c-3ed2-458c-959c-20ebb00ff35e\",\"type\":\"Toolbar\"},{\"attributes\":{},\"id\":\"5ea8e257-79e3-48cb-a9ac-75bd18e184e0\",\"type\":\"BasicTickFormatter\"},{\"attributes\":{\"active_drag\":\"auto\",\"active_inspect\":\"auto\",\"active_multi\":null,\"active_scroll\":\"auto\",\"active_tap\":\"auto\",\"tools\":[{\"id\":\"6dffc38a-7a4a-4b32-a58d-83286fa89d0c\",\"type\":\"PanTool\"},{\"id\":\"18a8795d-3e0e-43dd-89ce-522789967e63\",\"type\":\"WheelZoomTool\"},{\"id\":\"5c18b83f-f9d1-4f71-8477-a519f749bfe8\",\"type\":\"BoxZoomTool\"},{\"id\":\"c0e683fa-45d1-4b2f-8ed6-8ba07ba59405\",\"type\":\"SaveTool\"},{\"id\":\"2aa12d35-a003-4b54-83d9-ed263aa91fad\",\"type\":\"ResetTool\"},{\"id\":\"a6f93fe4-0044-4559-9318-65c264111c73\",\"type\":\"HelpTool\"}]},\"id\":\"686c11cc-f1b2-4ba0-9d93-431b4700d80e\",\"type\":\"Toolbar\"},{\"attributes\":{},\"id\":\"54a60b6b-121b-4135-91de-540f3d225b23\",\"type\":\"Selection\"},{\"attributes\":{\"plot\":null,\"text\":\"\"},\"id\":\"44ca25c0-4700-43e3-a702-0ba5299ea5ec\",\"type\":\"Title\"},{\"attributes\":{},\"id\":\"c768f3b9-a26a-487d-a343-47cce84e92ab\",\"type\":\"ResetTool\"},{\"attributes\":{\"children\":[{\"id\":\"acc7fdbd-278f-44df-8d4c-b2aa3bd3b571\",\"subtype\":\"Figure\",\"type\":\"Plot\"},{\"id\":\"e684b257-1615-453d-a41a-fe85c9cfb1dc\",\"subtype\":\"Figure\",\"type\":\"Plot\"}]},\"id\":\"369ef4af-86e6-424c-a916-08ecf734d25c\",\"type\":\"Row\"},{\"attributes\":{},\"id\":\"608ea3c4-464c-40ba-8d1b-cd9f9ed47d0c\",\"type\":\"HelpTool\"},{\"attributes\":{\"dimension\":1,\"plot\":{\"id\":\"d70d93c3-18ef-4f48-a176-0f230105e6e1\",\"subtype\":\"Figure\",\"type\":\"Plot\"},\"ticker\":{\"id\":\"eb047504-7521-4641-a810-2ac262d7db50\",\"type\":\"BasicTicker\"}},\"id\":\"d31c3381-d22b-46d3-b9a5-1d9a08b5c5d8\",\"type\":\"Grid\"},{\"attributes\":{},\"id\":\"180881b3-6d2d-493a-83e1-044873cd7c71\",\"type\":\"BasicTickFormatter\"},{\"attributes\":{\"active_drag\":\"auto\",\"active_inspect\":\"auto\",\"active_multi\":null,\"active_scroll\":\"auto\",\"active_tap\":\"auto\",\"tools\":[{\"id\":\"6a152afd-8613-4d5a-af72-b2932286eece\",\"type\":\"PanTool\"},{\"id\":\"2894f8e8-72df-4d90-9b9c-d26a61fc5271\",\"type\":\"WheelZoomTool\"},{\"id\":\"8453249d-8671-4473-9a53-447a8adbc9f4\",\"type\":\"BoxZoomTool\"},{\"id\":\"44a9b94e-20ca-4573-8abe-36162b810858\",\"type\":\"SaveTool\"},{\"id\":\"44c23985-7143-46e1-b22c-0d0ce2fe9ed4\",\"type\":\"ResetTool\"},{\"id\":\"fce0d8fd-01e3-4e92-a158-9ccc8ea1cae0\",\"type\":\"HelpTool\"}]},\"id\":\"1e0ddcc8-5dce-4a4f-aaf6-28b3e6cf18f7\",\"type\":\"Toolbar\"},{\"attributes\":{},\"id\":\"06eac60e-61bf-4ddb-89aa-b84b1aa2ea0f\",\"type\":\"UnionRenderers\"},{\"attributes\":{},\"id\":\"4592e2fb-d1c1-4de1-b803-3a30ad39a88c\",\"type\":\"WheelZoomTool\"},{\"attributes\":{},\"id\":\"895047ec-f5c6-4f6e-9dab-0069cfc50603\",\"type\":\"BasicTickFormatter\"},{\"attributes\":{\"plot\":{\"id\":\"d70d93c3-18ef-4f48-a176-0f230105e6e1\",\"subtype\":\"Figure\",\"type\":\"Plot\"},\"ticker\":{\"id\":\"add2c123-8405-4e34-8b30-851ca3cb698d\",\"type\":\"BasicTicker\"}},\"id\":\"0a1da89a-3701-41e9-a83f-08054887543c\",\"type\":\"Grid\"},{\"attributes\":{},\"id\":\"0519cbd9-d9e2-4adf-aaef-54d5d3f03a22\",\"type\":\"Selection\"},{\"attributes\":{\"plot\":null,\"text\":\"\"},\"id\":\"d7cc0a9b-2b97-4086-8dbe-f4bb0e554658\",\"type\":\"Title\"},{\"attributes\":{},\"id\":\"eb047504-7521-4641-a810-2ac262d7db50\",\"type\":\"BasicTicker\"},{\"attributes\":{\"axis_label\":\"Price in $1000s\",\"formatter\":{\"id\":\"b172c4b1-763d-432f-b54a-4e178175e4dc\",\"type\":\"BasicTickFormatter\"},\"plot\":{\"id\":\"d70d93c3-18ef-4f48-a176-0f230105e6e1\",\"subtype\":\"Figure\",\"type\":\"Plot\"},\"ticker\":{\"id\":\"eb047504-7521-4641-a810-2ac262d7db50\",\"type\":\"BasicTicker\"}},\"id\":\"d547168d-bfda-4d34-a685-792d27967325\",\"type\":\"LinearAxis\"},{\"attributes\":{},\"id\":\"096cbac4-01cd-4b31-8125-55a18902a3eb\",\"type\":\"BasicTickFormatter\"},{\"attributes\":{},\"id\":\"add2c123-8405-4e34-8b30-851ca3cb698d\",\"type\":\"BasicTicker\"},{\"attributes\":{},\"id\":\"1eb8b790-a866-483e-b6e5-9b2181f99a69\",\"type\":\"UnionRenderers\"},{\"attributes\":{\"axis_label\":\"ZN\",\"formatter\":{\"id\":\"5c63fae1-0319-4329-bbb8-cf74e1ade470\",\"type\":\"BasicTickFormatter\"},\"plot\":{\"id\":\"d70d93c3-18ef-4f48-a176-0f230105e6e1\",\"subtype\":\"Figure\",\"type\":\"Plot\"},\"ticker\":{\"id\":\"add2c123-8405-4e34-8b30-851ca3cb698d\",\"type\":\"BasicTicker\"}},\"id\":\"135b0987-a045-421c-a5f4-6f642691dff6\",\"type\":\"LinearAxis\"},{\"attributes\":{},\"id\":\"04a28215-1c3e-4bb3-a6a3-91be20413e22\",\"type\":\"BasicTickFormatter\"},{\"attributes\":{},\"id\":\"72e9638a-4294-40a0-a60c-6517ac26e503\",\"type\":\"LinearScale\"},{\"attributes\":{},\"id\":\"669a5076-d186-4594-80b2-cda9e73bf8d3\",\"type\":\"Selection\"},{\"attributes\":{\"callback\":null},\"id\":\"bf85278d-a8a5-443f-9e3d-315c14ccded9\",\"type\":\"DataRange1d\"},{\"attributes\":{\"plot\":null,\"text\":\"\"},\"id\":\"b4c2d5ee-297e-4867-b5c8-95c83b77e614\",\"type\":\"Title\"},{\"attributes\":{\"children\":[{\"id\":\"434c70fa-9ddf-4056-b974-78074b540a3c\",\"subtype\":\"Figure\",\"type\":\"Plot\"},{\"id\":\"3eb22273-90b2-4f3d-a964-36d5f3ecae54\",\"subtype\":\"Figure\",\"type\":\"Plot\"}]},\"id\":\"225043e4-c591-494f-901a-aa6cf25313f8\",\"type\":\"Row\"},{\"attributes\":{\"dimension\":1,\"plot\":{\"id\":\"acc7fdbd-278f-44df-8d4c-b2aa3bd3b571\",\"subtype\":\"Figure\",\"type\":\"Plot\"},\"ticker\":{\"id\":\"597655c3-5b70-4cbb-bd53-ac129305188c\",\"type\":\"BasicTicker\"}},\"id\":\"2753cec4-b4ec-4857-bc75-850022d6e951\",\"type\":\"Grid\"},{\"attributes\":{},\"id\":\"a4944500-6c2e-45b7-9077-a573b3c35658\",\"type\":\"HelpTool\"},{\"attributes\":{},\"id\":\"b612249e-a00e-43bb-bdd1-3f38ff259e84\",\"type\":\"BasicTickFormatter\"},{\"attributes\":{\"bottom_units\":\"screen\",\"fill_alpha\":{\"value\":0.5},\"fill_color\":{\"value\":\"lightgrey\"},\"left_units\":\"screen\",\"level\":\"overlay\",\"line_alpha\":{\"value\":1.0},\"line_color\":{\"value\":\"black\"},\"line_dash\":[4,4],\"line_width\":{\"value\":2},\"plot\":null,\"render_mode\":\"css\",\"right_units\":\"screen\",\"top_units\":\"screen\"},\"id\":\"00b1d294-ab1e-4584-935a-51e4971101d9\",\"type\":\"BoxAnnotation\"},{\"attributes\":{},\"id\":\"bf2a3cef-581f-4dba-a0d4-eeee30d55c38\",\"type\":\"UnionRenderers\"},{\"attributes\":{\"axis_label\":\"Price in $1000s\",\"formatter\":{\"id\":\"5ea8e257-79e3-48cb-a9ac-75bd18e184e0\",\"type\":\"BasicTickFormatter\"},\"plot\":{\"id\":\"acc7fdbd-278f-44df-8d4c-b2aa3bd3b571\",\"subtype\":\"Figure\",\"type\":\"Plot\"},\"ticker\":{\"id\":\"597655c3-5b70-4cbb-bd53-ac129305188c\",\"type\":\"BasicTicker\"}},\"id\":\"6d87fd8f-8f8b-4003-a61c-956b5530d6c8\",\"type\":\"LinearAxis\"},{\"attributes\":{},\"id\":\"d6d67a6e-b8e7-467e-9bd4-ba742c00d787\",\"type\":\"BasicTickFormatter\"},{\"attributes\":{},\"id\":\"1218937b-953a-4333-893e-7dfb3f96db5f\",\"type\":\"SaveTool\"},{\"attributes\":{},\"id\":\"822805d3-c2a3-430b-9f6b-97730a0bd98b\",\"type\":\"Selection\"},{\"attributes\":{\"plot\":null,\"text\":\"\"},\"id\":\"2444d2ec-981e-46be-928c-f3067eb4c1ea\",\"type\":\"Title\"},{\"attributes\":{\"overlay\":{\"id\":\"00b1d294-ab1e-4584-935a-51e4971101d9\",\"type\":\"BoxAnnotation\"}},\"id\":\"0152b168-53d2-4c27-a5d7-61659f5780ae\",\"type\":\"BoxZoomTool\"},{\"attributes\":{},\"id\":\"7e438c13-90b8-4aad-838f-f26c64b248f4\",\"type\":\"WheelZoomTool\"},{\"attributes\":{},\"id\":\"4bc1fe59-8b6e-4a23-b680-be74f81a209d\",\"type\":\"BasicTickFormatter\"},{\"attributes\":{\"callback\":null},\"id\":\"5b294a60-2843-4bea-9f4c-4bafc0274fda\",\"type\":\"DataRange1d\"},{\"attributes\":{},\"id\":\"52d8b2bd-45cc-4a9c-bc49-67d0a8300512\",\"type\":\"UnionRenderers\"},{\"attributes\":{},\"id\":\"183e1c21-1da8-4369-8495-111e7f2109d6\",\"type\":\"PanTool\"},{\"attributes\":{},\"id\":\"597655c3-5b70-4cbb-bd53-ac129305188c\",\"type\":\"BasicTicker\"},{\"attributes\":{},\"id\":\"234a0346-ccf7-4619-b2d8-37badd7acc7f\",\"type\":\"Selection\"},{\"attributes\":{},\"id\":\"7fb32a83-bd80-43fc-ab70-4f56273a0c03\",\"type\":\"LinearScale\"},{\"attributes\":{},\"id\":\"70c12706-f581-45b8-9041-9c962ff2ab26\",\"type\":\"BasicTicker\"},{\"attributes\":{\"plot\":{\"id\":\"acc7fdbd-278f-44df-8d4c-b2aa3bd3b571\",\"subtype\":\"Figure\",\"type\":\"Plot\"},\"ticker\":{\"id\":\"70c12706-f581-45b8-9041-9c962ff2ab26\",\"type\":\"BasicTicker\"}},\"id\":\"1fe66028-6a42-48d5-9abc-788363b670bf\",\"type\":\"Grid\"},{\"attributes\":{\"axis_label\":\"INDUS\",\"formatter\":{\"id\":\"180881b3-6d2d-493a-83e1-044873cd7c71\",\"type\":\"BasicTickFormatter\"},\"plot\":{\"id\":\"acc7fdbd-278f-44df-8d4c-b2aa3bd3b571\",\"subtype\":\"Figure\",\"type\":\"Plot\"},\"ticker\":{\"id\":\"70c12706-f581-45b8-9041-9c962ff2ab26\",\"type\":\"BasicTicker\"}},\"id\":\"5419b83d-4c0f-4564-8ff8-c8489c8bf145\",\"type\":\"LinearAxis\"},{\"attributes\":{},\"id\":\"9c0422af-9a29-4400-b79d-5068005de403\",\"type\":\"LinearScale\"},{\"attributes\":{\"below\":[{\"id\":\"60759f11-451e-4224-9512-9907dec87b54\",\"type\":\"LinearAxis\"}],\"left\":[{\"id\":\"90d766a1-7119-42c7-8704-b535ba82b5c8\",\"type\":\"LinearAxis\"}],\"plot_height\":250,\"plot_width\":400,\"renderers\":[{\"id\":\"60759f11-451e-4224-9512-9907dec87b54\",\"type\":\"LinearAxis\"},{\"id\":\"940e9cc2-e8b7-42da-bcd1-fef899169fc3\",\"type\":\"Grid\"},{\"id\":\"90d766a1-7119-42c7-8704-b535ba82b5c8\",\"type\":\"LinearAxis\"},{\"id\":\"53f8d979-f9b9-47eb-ac18-2fdbf588a45c\",\"type\":\"Grid\"},{\"id\":\"2f2184a6-d0d9-4ee5-8389-fde739abd001\",\"type\":\"BoxAnnotation\"},{\"id\":\"461c0f9e-9b10-4b03-af45-ccea54c8ac6f\",\"type\":\"GlyphRenderer\"}],\"title\":{\"id\":\"d7cc0a9b-2b97-4086-8dbe-f4bb0e554658\",\"type\":\"Title\"},\"toolbar\":{\"id\":\"686c11cc-f1b2-4ba0-9d93-431b4700d80e\",\"type\":\"Toolbar\"},\"toolbar_location\":null,\"x_range\":{\"id\":\"ee50e5d1-1162-447c-b9c0-3fd646cc2948\",\"type\":\"DataRange1d\"},\"x_scale\":{\"id\":\"97e37025-200c-4340-b697-b440a2af2194\",\"type\":\"LinearScale\"},\"y_range\":{\"id\":\"88feeed9-e24a-4e08-ad45-8a4e4e2d0446\",\"type\":\"DataRange1d\"},\"y_scale\":{\"id\":\"6a2a136d-abe3-4daf-82f9-436f7fe5a062\",\"type\":\"LinearScale\"}},\"id\":\"e684b257-1615-453d-a41a-fe85c9cfb1dc\",\"subtype\":\"Figure\",\"type\":\"Plot\"},{\"attributes\":{\"dimension\":1,\"plot\":{\"id\":\"9baba6dc-2ce0-4427-94a1-649b140b9bd7\",\"subtype\":\"Figure\",\"type\":\"Plot\"},\"ticker\":{\"id\":\"02f9254d-7074-4fd3-a9f9-270363efd508\",\"type\":\"BasicTicker\"}},\"id\":\"eda303b0-ccbf-49b4-ace6-7e664a60ae59\",\"type\":\"Grid\"},{\"attributes\":{},\"id\":\"6a152afd-8613-4d5a-af72-b2932286eece\",\"type\":\"PanTool\"},{\"attributes\":{\"bottom_units\":\"screen\",\"fill_alpha\":{\"value\":0.5},\"fill_color\":{\"value\":\"lightgrey\"},\"left_units\":\"screen\",\"level\":\"overlay\",\"line_alpha\":{\"value\":1.0},\"line_color\":{\"value\":\"black\"},\"line_dash\":[4,4],\"line_width\":{\"value\":2},\"plot\":null,\"render_mode\":\"css\",\"right_units\":\"screen\",\"top_units\":\"screen\"},\"id\":\"7b518e6e-259f-43f3-956e-e71e743ec53d\",\"type\":\"BoxAnnotation\"},{\"attributes\":{},\"id\":\"2894f8e8-72df-4d90-9b9c-d26a61fc5271\",\"type\":\"WheelZoomTool\"},{\"attributes\":{\"axis_label\":\"NOX\",\"formatter\":{\"id\":\"b612249e-a00e-43bb-bdd1-3f38ff259e84\",\"type\":\"BasicTickFormatter\"},\"plot\":{\"id\":\"434c70fa-9ddf-4056-b974-78074b540a3c\",\"subtype\":\"Figure\",\"type\":\"Plot\"},\"ticker\":{\"id\":\"5890f2ec-d3f6-4cab-918b-4f0794922736\",\"type\":\"BasicTicker\"}},\"id\":\"20dcdcf5-59a3-4a9d-bf40-8679f7a23e83\",\"type\":\"LinearAxis\"},{\"attributes\":{\"callback\":null},\"id\":\"ee50e5d1-1162-447c-b9c0-3fd646cc2948\",\"type\":\"DataRange1d\"},{\"attributes\":{\"callback\":null},\"id\":\"88feeed9-e24a-4e08-ad45-8a4e4e2d0446\",\"type\":\"DataRange1d\"},{\"attributes\":{\"plot\":{\"id\":\"e684b257-1615-453d-a41a-fe85c9cfb1dc\",\"subtype\":\"Figure\",\"type\":\"Plot\"},\"ticker\":{\"id\":\"9f8e0c5f-00a9-4754-91a6-7fe00401e901\",\"type\":\"BasicTicker\"}},\"id\":\"940e9cc2-e8b7-42da-bcd1-fef899169fc3\",\"type\":\"Grid\"},{\"attributes\":{},\"id\":\"02f9254d-7074-4fd3-a9f9-270363efd508\",\"type\":\"BasicTicker\"},{\"attributes\":{},\"id\":\"fce0d8fd-01e3-4e92-a158-9ccc8ea1cae0\",\"type\":\"HelpTool\"},{\"attributes\":{},\"id\":\"44a9b94e-20ca-4573-8abe-36162b810858\",\"type\":\"SaveTool\"},{\"attributes\":{\"overlay\":{\"id\":\"7b518e6e-259f-43f3-956e-e71e743ec53d\",\"type\":\"BoxAnnotation\"}},\"id\":\"8453249d-8671-4473-9a53-447a8adbc9f4\",\"type\":\"BoxZoomTool\"},{\"attributes\":{\"bottom_units\":\"screen\",\"fill_alpha\":{\"value\":0.5},\"fill_color\":{\"value\":\"lightgrey\"},\"left_units\":\"screen\",\"level\":\"overlay\",\"line_alpha\":{\"value\":1.0},\"line_color\":{\"value\":\"black\"},\"line_dash\":[4,4],\"line_width\":{\"value\":2},\"plot\":null,\"render_mode\":\"css\",\"right_units\":\"screen\",\"top_units\":\"screen\"},\"id\":\"2f2184a6-d0d9-4ee5-8389-fde739abd001\",\"type\":\"BoxAnnotation\"},{\"attributes\":{},\"id\":\"44c23985-7143-46e1-b22c-0d0ce2fe9ed4\",\"type\":\"ResetTool\"},{\"attributes\":{\"bottom_units\":\"screen\",\"fill_alpha\":{\"value\":0.5},\"fill_color\":{\"value\":\"lightgrey\"},\"left_units\":\"screen\",\"level\":\"overlay\",\"line_alpha\":{\"value\":1.0},\"line_color\":{\"value\":\"black\"},\"line_dash\":[4,4],\"line_width\":{\"value\":2},\"plot\":null,\"render_mode\":\"css\",\"right_units\":\"screen\",\"top_units\":\"screen\"},\"id\":\"d998ec55-372f-4752-bcd8-8fbf8c9f2c9a\",\"type\":\"BoxAnnotation\"},{\"attributes\":{},\"id\":\"6a2a136d-abe3-4daf-82f9-436f7fe5a062\",\"type\":\"LinearScale\"},{\"attributes\":{},\"id\":\"97e37025-200c-4340-b697-b440a2af2194\",\"type\":\"LinearScale\"},{\"attributes\":{},\"id\":\"a6f93fe4-0044-4559-9318-65c264111c73\",\"type\":\"HelpTool\"},{\"attributes\":{},\"id\":\"343b563f-1217-4bd0-9210-ace9eeaa8340\",\"type\":\"PanTool\"},{\"attributes\":{},\"id\":\"f505a21e-f06b-4329-9e23-2491d82f14b7\",\"type\":\"LinearScale\"},{\"attributes\":{},\"id\":\"6dffc38a-7a4a-4b32-a58d-83286fa89d0c\",\"type\":\"PanTool\"},{\"attributes\":{\"dimension\":1,\"plot\":{\"id\":\"e684b257-1615-453d-a41a-fe85c9cfb1dc\",\"subtype\":\"Figure\",\"type\":\"Plot\"},\"ticker\":{\"id\":\"0aeb655a-f757-49a9-90d1-ec9761a59edb\",\"type\":\"BasicTicker\"}},\"id\":\"53f8d979-f9b9-47eb-ac18-2fdbf588a45c\",\"type\":\"Grid\"},{\"attributes\":{\"callback\":null},\"id\":\"d4ce9131-a7f8-4a09-a148-f632b5959728\",\"type\":\"DataRange1d\"},{\"attributes\":{\"axis_label\":\"CHAS\",\"formatter\":{\"id\":\"895047ec-f5c6-4f6e-9dab-0069cfc50603\",\"type\":\"BasicTickFormatter\"},\"plot\":{\"id\":\"e684b257-1615-453d-a41a-fe85c9cfb1dc\",\"subtype\":\"Figure\",\"type\":\"Plot\"},\"ticker\":{\"id\":\"9f8e0c5f-00a9-4754-91a6-7fe00401e901\",\"type\":\"BasicTicker\"}},\"id\":\"60759f11-451e-4224-9512-9907dec87b54\",\"type\":\"LinearAxis\"},{\"attributes\":{},\"id\":\"3d4fac8d-8e21-496e-b762-9df9f410e7b8\",\"type\":\"LinearScale\"},{\"attributes\":{\"below\":[{\"id\":\"da4f08d5-35b3-4a81-a19b-af28518f8451\",\"type\":\"LinearAxis\"}],\"left\":[{\"id\":\"9c8f1213-3066-413f-bece-00c4129f1dce\",\"type\":\"LinearAxis\"}],\"plot_height\":250,\"plot_width\":400,\"renderers\":[{\"id\":\"da4f08d5-35b3-4a81-a19b-af28518f8451\",\"type\":\"LinearAxis\"},{\"id\":\"c2dafd28-75ec-4fd6-8a0f-9d4f98b03926\",\"type\":\"Grid\"},{\"id\":\"9c8f1213-3066-413f-bece-00c4129f1dce\",\"type\":\"LinearAxis\"},{\"id\":\"77b8612b-71b5-4577-ac8b-918cb709c69b\",\"type\":\"Grid\"},{\"id\":\"34a3a162-d033-47d5-80c6-c628cd01fb92\",\"type\":\"BoxAnnotation\"},{\"id\":\"8aac5d61-ff95-4942-bf84-ee1c0a272d95\",\"type\":\"GlyphRenderer\"}],\"title\":{\"id\":\"2444d2ec-981e-46be-928c-f3067eb4c1ea\",\"type\":\"Title\"},\"toolbar\":{\"id\":\"52913d5e-39a0-4746-aa82-b223c796af3a\",\"type\":\"Toolbar\"},\"toolbar_location\":null,\"x_range\":{\"id\":\"bcc5d893-ec45-444f-9d6c-765c05cee822\",\"type\":\"DataRange1d\"},\"x_scale\":{\"id\":\"4678fb61-415c-4140-b1a3-d97edab2c42b\",\"type\":\"LinearScale\"},\"y_range\":{\"id\":\"f5e691cc-9556-496d-b276-5ee69ca4d3ce\",\"type\":\"DataRange1d\"},\"y_scale\":{\"id\":\"da5a8105-cf5b-4b81-8c76-a86d72641bc1\",\"type\":\"LinearScale\"}},\"id\":\"3eb22273-90b2-4f3d-a964-36d5f3ecae54\",\"subtype\":\"Figure\",\"type\":\"Plot\"},{\"attributes\":{\"overlay\":{\"id\":\"2f2184a6-d0d9-4ee5-8389-fde739abd001\",\"type\":\"BoxAnnotation\"}},\"id\":\"5c18b83f-f9d1-4f71-8477-a519f749bfe8\",\"type\":\"BoxZoomTool\"},{\"attributes\":{\"plot\":{\"id\":\"9baba6dc-2ce0-4427-94a1-649b140b9bd7\",\"subtype\":\"Figure\",\"type\":\"Plot\"},\"ticker\":{\"id\":\"dc46c54a-a187-45cb-9aa2-9fa06086d47f\",\"type\":\"BasicTicker\"}},\"id\":\"ad4823f6-fceb-452d-ad25-843fdca9ce3b\",\"type\":\"Grid\"},{\"attributes\":{\"callback\":null},\"id\":\"8fd258c7-e80f-4332-8f97-1932cbd73ee7\",\"type\":\"DataRange1d\"},{\"attributes\":{\"below\":[{\"id\":\"20dcdcf5-59a3-4a9d-bf40-8679f7a23e83\",\"type\":\"LinearAxis\"}],\"left\":[{\"id\":\"453a566e-2137-47cf-987d-3100c55e8642\",\"type\":\"LinearAxis\"}],\"plot_height\":250,\"plot_width\":400,\"renderers\":[{\"id\":\"20dcdcf5-59a3-4a9d-bf40-8679f7a23e83\",\"type\":\"LinearAxis\"},{\"id\":\"d86c787e-c6c4-4376-a072-10647994f7db\",\"type\":\"Grid\"},{\"id\":\"453a566e-2137-47cf-987d-3100c55e8642\",\"type\":\"LinearAxis\"},{\"id\":\"54479b4e-ca0d-4634-af23-6a953757a452\",\"type\":\"Grid\"},{\"id\":\"5ad83a37-d095-448c-83cb-bbedc5350cbc\",\"type\":\"BoxAnnotation\"},{\"id\":\"54390b63-aac9-4789-ae1c-cb6a51bb3f65\",\"type\":\"GlyphRenderer\"}],\"title\":{\"id\":\"b4c2d5ee-297e-4867-b5c8-95c83b77e614\",\"type\":\"Title\"},\"toolbar\":{\"id\":\"7b54fd3c-3ed2-458c-959c-20ebb00ff35e\",\"type\":\"Toolbar\"},\"toolbar_location\":null,\"x_range\":{\"id\":\"d4ce9131-a7f8-4a09-a148-f632b5959728\",\"type\":\"DataRange1d\"},\"x_scale\":{\"id\":\"3d4fac8d-8e21-496e-b762-9df9f410e7b8\",\"type\":\"LinearScale\"},\"y_range\":{\"id\":\"8fd258c7-e80f-4332-8f97-1932cbd73ee7\",\"type\":\"DataRange1d\"},\"y_scale\":{\"id\":\"f505a21e-f06b-4329-9e23-2491d82f14b7\",\"type\":\"LinearScale\"}},\"id\":\"434c70fa-9ddf-4056-b974-78074b540a3c\",\"subtype\":\"Figure\",\"type\":\"Plot\"},{\"attributes\":{},\"id\":\"c0e683fa-45d1-4b2f-8ed6-8ba07ba59405\",\"type\":\"SaveTool\"},{\"attributes\":{},\"id\":\"2aa12d35-a003-4b54-83d9-ed263aa91fad\",\"type\":\"ResetTool\"},{\"attributes\":{},\"id\":\"18a8795d-3e0e-43dd-89ce-522789967e63\",\"type\":\"WheelZoomTool\"},{\"attributes\":{},\"id\":\"9f8e0c5f-00a9-4754-91a6-7fe00401e901\",\"type\":\"BasicTicker\"},{\"attributes\":{},\"id\":\"0aeb655a-f757-49a9-90d1-ec9761a59edb\",\"type\":\"BasicTicker\"},{\"attributes\":{\"axis_label\":\"Price in $1000s\",\"formatter\":{\"id\":\"096cbac4-01cd-4b31-8125-55a18902a3eb\",\"type\":\"BasicTickFormatter\"},\"plot\":{\"id\":\"e684b257-1615-453d-a41a-fe85c9cfb1dc\",\"subtype\":\"Figure\",\"type\":\"Plot\"},\"ticker\":{\"id\":\"0aeb655a-f757-49a9-90d1-ec9761a59edb\",\"type\":\"BasicTicker\"}},\"id\":\"90d766a1-7119-42c7-8704-b535ba82b5c8\",\"type\":\"LinearAxis\"}],\"root_ids\":[\"1538b151-777e-43c0-99fc-420cac8383e0\"]},\"title\":\"Bokeh Application\",\"version\":\"0.13.0\"}};\n",
       "  var render_items = [{\"docid\":\"778203d6-2425-40ad-b13f-8a2377c70a03\",\"roots\":{\"1538b151-777e-43c0-99fc-420cac8383e0\":\"bec807e1-1f86-423f-a7fb-d5d18ef5eb76\"}}];\n",
       "  root.Bokeh.embed.embed_items_notebook(docs_json, render_items);\n",
       "\n",
       "  }\n",
       "  if (root.Bokeh !== undefined) {\n",
       "    embed_document(root);\n",
       "  } else {\n",
       "    var attempts = 0;\n",
       "    var timer = setInterval(function(root) {\n",
       "      if (root.Bokeh !== undefined) {\n",
       "        embed_document(root);\n",
       "        clearInterval(timer);\n",
       "      }\n",
       "      attempts++;\n",
       "      if (attempts > 100) {\n",
       "        console.log(\"Bokeh: ERROR: Unable to run BokehJS code because BokehJS library is missing\")\n",
       "        clearInterval(timer);\n",
       "      }\n",
       "    }, 10, root)\n",
       "  }\n",
       "})(window);"
      ],
      "application/vnd.bokehjs_exec.v0+json": ""
     },
     "metadata": {
      "application/vnd.bokehjs_exec.v0+json": {
       "id": "1538b151-777e-43c0-99fc-420cac8383e0"
      }
     },
     "output_type": "display_data"
    }
   ],
   "source": [
    "# You can see what these names mean in the description that we printed at the start\n",
    "print(boston.feature_names[:6])\n",
    "\n",
    "figures = [figure() for _ in range(6)]\n",
    "for index, fig in enumerate(figures):\n",
    "    # Create a scatter-plot\n",
    "    fig.scatter(boston_df[boston.feature_names[index]], boston_df[\"Price\"])\n",
    "    \n",
    "    ## Add some axis information\n",
    "    fig.xaxis.axis_label = boston.feature_names[index]\n",
    "    fig.yaxis.axis_label = \"Price in $1000s\"\n",
    "\n",
    "    \n",
    "show(gridplot(figures, ncols=2, plot_width=400, plot_height=250, toolbar_location=None))"
   ]
  },
  {
   "cell_type": "markdown",
   "metadata": {},
   "source": [
    "So out of the plotted variables RM looks quite promising to perhaps be fitted by a linear function. So let's go with that one for now for our linear regression example.\n",
    "\n",
    "For the sake of this initial example, I will first plot the fitted line using a simple univariate linear regression using Numpy, to explain the theorie. Afterwards we will run through multivariate regression using scikit-learn."
   ]
  },
  {
   "cell_type": "markdown",
   "metadata": {},
   "source": [
    "### Univariate Linear Regression (Using Numpy)\n",
    "\n",
    "Numpy requires us to create two (N, 1) shaped arrays, that will act as the X and Y values. Where X represents the attribute (feature) and the Y represents the target. There are a few ways to do this, but an easy way to do this is by using numpy's built-in vertical stack tool, vstack.\n"
   ]
  },
  {
   "cell_type": "code",
   "execution_count": 10,
   "metadata": {},
   "outputs": [],
   "source": [
    "# Set up X as median room values and use Use vstack to make X two-dimensional\n",
    "# Remember that X normally is (N,) instead of (N,1).\n",
    "X = np.vstack(boston_df.RM)\n",
    "\n",
    "# Set up Y as the target price of the houses.\n",
    "Y = boston_df.Price"
   ]
  },
  {
   "cell_type": "markdown",
   "metadata": {},
   "source": [
    "Now that we have our X and Y, let's go ahead and use numpy to create the single variable linear regression.\n",
    "\n",
    "We know that a line has the equation:\n",
    "$$y=ax+b$$\n",
    "which we can rewrite using matrices:\n",
    "$$y=Mp$$\n",
    "where:\n",
    "$$M = \\begin{bmatrix}x & 1\\end{bmatrix}$$\n",
    "and\n",
    "$$p= \\begin{bmatrix}a \\\\b\\end{bmatrix}$$\n",
    "\n",
    "This is the same as the first equation if you carry out the linear algebra. \n",
    "So we'll start by creating the M matrix using numpy. We'll do this by creating a matrix in the form [X 1], so we'll call every value in our original X using a list comprehension and then set up an array in the form [X 1]\n",
    "\n",
    "Side Note: In most literature the variables $y$, $a$, and $b$ are referred to differently, to make them more generalizable, namely $h(x)$ (derived from the word hypothesis), $\\theta_1$, and $\\theta_0$ respectively. We will keep them as $y$, $a$, and $b$ for the univariate example, as this notation is most hopefully more familiar/intuitive to you."
   ]
  },
  {
   "cell_type": "code",
   "execution_count": 11,
   "metadata": {},
   "outputs": [
    {
     "name": "stdout",
     "output_type": "stream",
     "text": [
      "9.10210898118 -34.6706207764\n"
     ]
    }
   ],
   "source": [
    "# Creating [X 1] (remember the useful np.ones function from the first notebook?)\n",
    "X = np.vstack(boston_df.RM)\n",
    "X = np.column_stack((X, np.ones(X.shape[0])))\n",
    "\n",
    "# Now get out m and b values for our best fit line\n",
    "a, b = np.linalg.lstsq(X, Y)[0]\n",
    "print(a, b)"
   ]
  },
  {
   "cell_type": "markdown",
   "metadata": {},
   "source": [
    "We now have all the ingredients to plot a line using:\n",
    "$$y = ax + b$$"
   ]
  },
  {
   "cell_type": "code",
   "execution_count": 12,
   "metadata": {},
   "outputs": [
    {
     "data": {
      "text/html": [
       "\n",
       "\n",
       "\n",
       "\n",
       "\n",
       "\n",
       "  <div class=\"bk-root\" id=\"3d3355ca-19bf-47e7-99cb-b848884b2d5f\"></div>\n"
      ]
     },
     "metadata": {},
     "output_type": "display_data"
    },
    {
     "data": {
      "application/javascript": [
       "(function(root) {\n",
       "  function embed_document(root) {\n",
       "    \n",
       "  var docs_json = {\"5d1184e5-80c5-4292-bade-f288659bb901\":{\"roots\":{\"references\":[{\"attributes\":{\"axis_label\":\"Price in $1000s\",\"formatter\":{\"id\":\"96f0fb38-7928-4930-be57-b9beab9b8db3\",\"type\":\"BasicTickFormatter\"},\"plot\":{\"id\":\"0e7e3573-74fa-449f-9f22-9eaf921c15fd\",\"subtype\":\"Figure\",\"type\":\"Plot\"},\"ticker\":{\"id\":\"bd8247e5-e215-4673-991e-69d9a4b74915\",\"type\":\"BasicTicker\"}},\"id\":\"20a9e4c9-7d77-4609-94de-6d37f216fb4c\",\"type\":\"LinearAxis\"},{\"attributes\":{},\"id\":\"bd8247e5-e215-4673-991e-69d9a4b74915\",\"type\":\"BasicTicker\"},{\"attributes\":{\"dimension\":1,\"plot\":{\"id\":\"0e7e3573-74fa-449f-9f22-9eaf921c15fd\",\"subtype\":\"Figure\",\"type\":\"Plot\"},\"ticker\":{\"id\":\"bd8247e5-e215-4673-991e-69d9a4b74915\",\"type\":\"BasicTicker\"}},\"id\":\"1ea77196-7226-405f-a8f3-f32ba0e7b712\",\"type\":\"Grid\"},{\"attributes\":{\"data_source\":{\"id\":\"ce7cf6a3-81b7-43f9-8a68-a1b531e76ed1\",\"type\":\"ColumnDataSource\"},\"glyph\":{\"id\":\"77f45507-fe06-46e1-b585-afb8b49f9e7d\",\"type\":\"Circle\"},\"hover_glyph\":null,\"muted_glyph\":null,\"nonselection_glyph\":{\"id\":\"e1d163e7-8d9c-48d1-8e09-263672fb4f95\",\"type\":\"Circle\"},\"selection_glyph\":null,\"view\":{\"id\":\"20b6045b-172e-44e9-8ef6-35bff4a5fbbc\",\"type\":\"CDSView\"}},\"id\":\"88a32304-076d-46cb-a1fc-66f0ef3b3644\",\"type\":\"GlyphRenderer\"},{\"attributes\":{\"fill_color\":{\"value\":\"#1f77b4\"},\"line_color\":{\"value\":\"#1f77b4\"},\"x\":{\"field\":\"x\"},\"y\":{\"field\":\"y\"}},\"id\":\"77f45507-fe06-46e1-b585-afb8b49f9e7d\",\"type\":\"Circle\"},{\"attributes\":{\"bottom_units\":\"screen\",\"fill_alpha\":{\"value\":0.5},\"fill_color\":{\"value\":\"lightgrey\"},\"left_units\":\"screen\",\"level\":\"overlay\",\"line_alpha\":{\"value\":1.0},\"line_color\":{\"value\":\"black\"},\"line_dash\":[4,4],\"line_width\":{\"value\":2},\"plot\":null,\"render_mode\":\"css\",\"right_units\":\"screen\",\"top_units\":\"screen\"},\"id\":\"8084a613-1a20-4c59-ba51-43c8c04e1f25\",\"type\":\"BoxAnnotation\"},{\"attributes\":{},\"id\":\"996f274a-97e2-49e5-bc10-ca679d4b0b75\",\"type\":\"PanTool\"},{\"attributes\":{\"callback\":null,\"data\":{\"x\":{\"__ndarray__\":\"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\",\"dtype\":\"float64\",\"shape\":[506]},\"y\":{\"__ndarray__\":\"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\",\"dtype\":\"float64\",\"shape\":[506]}},\"selected\":{\"id\":\"01e9099b-2534-44c8-b309-33fc4ac77542\",\"type\":\"Selection\"},\"selection_policy\":{\"id\":\"23258791-98f3-4be0-8282-4649ce7d1b2e\",\"type\":\"UnionRenderers\"}},\"id\":\"1ed8429d-3c1c-41a4-a276-c963390f0379\",\"type\":\"ColumnDataSource\"},{\"attributes\":{},\"id\":\"0b7d5904-c43c-4d82-be7f-386a0c000f48\",\"type\":\"WheelZoomTool\"},{\"attributes\":{\"data_source\":{\"id\":\"1ed8429d-3c1c-41a4-a276-c963390f0379\",\"type\":\"ColumnDataSource\"},\"glyph\":{\"id\":\"19ebca71-74e5-403d-8c38-eb02ba91f73b\",\"type\":\"Line\"},\"hover_glyph\":null,\"muted_glyph\":null,\"nonselection_glyph\":{\"id\":\"d4868526-cbbe-4c28-8816-c9eba21b8448\",\"type\":\"Line\"},\"selection_glyph\":null,\"view\":{\"id\":\"eb2f2321-c8f7-4e56-91b7-77bc162d9251\",\"type\":\"CDSView\"}},\"id\":\"a489ebb7-8f6e-4eb7-8f13-f6aee3c773ef\",\"type\":\"GlyphRenderer\"},{\"attributes\":{\"overlay\":{\"id\":\"8084a613-1a20-4c59-ba51-43c8c04e1f25\",\"type\":\"BoxAnnotation\"}},\"id\":\"3f4cc418-651c-4ddd-bb90-d2163e2b736b\",\"type\":\"BoxZoomTool\"},{\"attributes\":{},\"id\":\"c33af23b-69f0-41e8-aafd-fe95f7a40006\",\"type\":\"SaveTool\"},{\"attributes\":{\"plot\":null,\"text\":\"\"},\"id\":\"bbc9af9b-de08-4dbd-8ddf-e18277941469\",\"type\":\"Title\"},{\"attributes\":{},\"id\":\"a035450f-3d60-4fc4-a14b-706ba9047d92\",\"type\":\"ResetTool\"},{\"attributes\":{\"source\":{\"id\":\"1ed8429d-3c1c-41a4-a276-c963390f0379\",\"type\":\"ColumnDataSource\"}},\"id\":\"eb2f2321-c8f7-4e56-91b7-77bc162d9251\",\"type\":\"CDSView\"},{\"attributes\":{},\"id\":\"341afc16-dc78-4315-9bc3-963ad4e83ee4\",\"type\":\"HelpTool\"},{\"attributes\":{},\"id\":\"96f0fb38-7928-4930-be57-b9beab9b8db3\",\"type\":\"BasicTickFormatter\"},{\"attributes\":{\"line_alpha\":0.1,\"line_color\":\"#1f77b4\",\"x\":{\"field\":\"x\"},\"y\":{\"field\":\"y\"}},\"id\":\"d4868526-cbbe-4c28-8816-c9eba21b8448\",\"type\":\"Line\"},{\"attributes\":{\"line_color\":\"red\",\"x\":{\"field\":\"x\"},\"y\":{\"field\":\"y\"}},\"id\":\"19ebca71-74e5-403d-8c38-eb02ba91f73b\",\"type\":\"Line\"},{\"attributes\":{},\"id\":\"c282daf7-8f1c-44c3-ba07-c806645b9140\",\"type\":\"BasicTickFormatter\"},{\"attributes\":{},\"id\":\"c83e2e4b-e30b-4f7d-b5fa-6f6dd879d711\",\"type\":\"UnionRenderers\"},{\"attributes\":{},\"id\":\"35034175-117d-4227-8038-5d1cf7cd1836\",\"type\":\"Selection\"},{\"attributes\":{\"below\":[{\"id\":\"755a5f4f-9eb3-4b6e-a743-0bee212c741b\",\"type\":\"LinearAxis\"}],\"left\":[{\"id\":\"20a9e4c9-7d77-4609-94de-6d37f216fb4c\",\"type\":\"LinearAxis\"}],\"plot_height\":250,\"plot_width\":400,\"renderers\":[{\"id\":\"755a5f4f-9eb3-4b6e-a743-0bee212c741b\",\"type\":\"LinearAxis\"},{\"id\":\"139d034b-21c8-472e-967d-0ebefcc06ee6\",\"type\":\"Grid\"},{\"id\":\"20a9e4c9-7d77-4609-94de-6d37f216fb4c\",\"type\":\"LinearAxis\"},{\"id\":\"1ea77196-7226-405f-a8f3-f32ba0e7b712\",\"type\":\"Grid\"},{\"id\":\"8084a613-1a20-4c59-ba51-43c8c04e1f25\",\"type\":\"BoxAnnotation\"},{\"id\":\"88a32304-076d-46cb-a1fc-66f0ef3b3644\",\"type\":\"GlyphRenderer\"},{\"id\":\"a489ebb7-8f6e-4eb7-8f13-f6aee3c773ef\",\"type\":\"GlyphRenderer\"}],\"title\":{\"id\":\"bbc9af9b-de08-4dbd-8ddf-e18277941469\",\"type\":\"Title\"},\"toolbar\":{\"id\":\"06211c95-104d-46e1-8e48-4ac14be13748\",\"type\":\"Toolbar\"},\"x_range\":{\"id\":\"ab64f8ba-54a6-47e0-988b-e8e9a8ab2d81\",\"type\":\"DataRange1d\"},\"x_scale\":{\"id\":\"c0c277d3-2e07-40cd-a83b-7141105b116f\",\"type\":\"LinearScale\"},\"y_range\":{\"id\":\"8125a61c-7ae1-4387-adb8-62951b4e2892\",\"type\":\"DataRange1d\"},\"y_scale\":{\"id\":\"d9537859-039e-42a1-87e0-58a6fabf5e12\",\"type\":\"LinearScale\"}},\"id\":\"0e7e3573-74fa-449f-9f22-9eaf921c15fd\",\"subtype\":\"Figure\",\"type\":\"Plot\"},{\"attributes\":{},\"id\":\"23258791-98f3-4be0-8282-4649ce7d1b2e\",\"type\":\"UnionRenderers\"},{\"attributes\":{\"source\":{\"id\":\"ce7cf6a3-81b7-43f9-8a68-a1b531e76ed1\",\"type\":\"ColumnDataSource\"}},\"id\":\"20b6045b-172e-44e9-8ef6-35bff4a5fbbc\",\"type\":\"CDSView\"},{\"attributes\":{},\"id\":\"01e9099b-2534-44c8-b309-33fc4ac77542\",\"type\":\"Selection\"},{\"attributes\":{\"callback\":null,\"data\":{\"x\":{\"__ndarray__\":\"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\",\"dtype\":\"float64\",\"shape\":[506]},\"y\":{\"__ndarray__\":\"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\",\"dtype\":\"float64\",\"shape\":[506]}},\"selected\":{\"id\":\"35034175-117d-4227-8038-5d1cf7cd1836\",\"type\":\"Selection\"},\"selection_policy\":{\"id\":\"c83e2e4b-e30b-4f7d-b5fa-6f6dd879d711\",\"type\":\"UnionRenderers\"}},\"id\":\"ce7cf6a3-81b7-43f9-8a68-a1b531e76ed1\",\"type\":\"ColumnDataSource\"},{\"attributes\":{\"active_drag\":\"auto\",\"active_inspect\":\"auto\",\"active_multi\":null,\"active_scroll\":\"auto\",\"active_tap\":\"auto\",\"tools\":[{\"id\":\"996f274a-97e2-49e5-bc10-ca679d4b0b75\",\"type\":\"PanTool\"},{\"id\":\"0b7d5904-c43c-4d82-be7f-386a0c000f48\",\"type\":\"WheelZoomTool\"},{\"id\":\"3f4cc418-651c-4ddd-bb90-d2163e2b736b\",\"type\":\"BoxZoomTool\"},{\"id\":\"c33af23b-69f0-41e8-aafd-fe95f7a40006\",\"type\":\"SaveTool\"},{\"id\":\"a035450f-3d60-4fc4-a14b-706ba9047d92\",\"type\":\"ResetTool\"},{\"id\":\"341afc16-dc78-4315-9bc3-963ad4e83ee4\",\"type\":\"HelpTool\"}]},\"id\":\"06211c95-104d-46e1-8e48-4ac14be13748\",\"type\":\"Toolbar\"},{\"attributes\":{\"callback\":null},\"id\":\"ab64f8ba-54a6-47e0-988b-e8e9a8ab2d81\",\"type\":\"DataRange1d\"},{\"attributes\":{\"fill_alpha\":{\"value\":0.1},\"fill_color\":{\"value\":\"#1f77b4\"},\"line_alpha\":{\"value\":0.1},\"line_color\":{\"value\":\"#1f77b4\"},\"x\":{\"field\":\"x\"},\"y\":{\"field\":\"y\"}},\"id\":\"e1d163e7-8d9c-48d1-8e09-263672fb4f95\",\"type\":\"Circle\"},{\"attributes\":{\"callback\":null},\"id\":\"8125a61c-7ae1-4387-adb8-62951b4e2892\",\"type\":\"DataRange1d\"},{\"attributes\":{},\"id\":\"c0c277d3-2e07-40cd-a83b-7141105b116f\",\"type\":\"LinearScale\"},{\"attributes\":{},\"id\":\"d9537859-039e-42a1-87e0-58a6fabf5e12\",\"type\":\"LinearScale\"},{\"attributes\":{\"plot\":{\"id\":\"0e7e3573-74fa-449f-9f22-9eaf921c15fd\",\"subtype\":\"Figure\",\"type\":\"Plot\"},\"ticker\":{\"id\":\"da047d85-4fca-458f-a0d1-9020d6e00cb2\",\"type\":\"BasicTicker\"}},\"id\":\"139d034b-21c8-472e-967d-0ebefcc06ee6\",\"type\":\"Grid\"},{\"attributes\":{\"axis_label\":\"RM\",\"formatter\":{\"id\":\"c282daf7-8f1c-44c3-ba07-c806645b9140\",\"type\":\"BasicTickFormatter\"},\"plot\":{\"id\":\"0e7e3573-74fa-449f-9f22-9eaf921c15fd\",\"subtype\":\"Figure\",\"type\":\"Plot\"},\"ticker\":{\"id\":\"da047d85-4fca-458f-a0d1-9020d6e00cb2\",\"type\":\"BasicTicker\"}},\"id\":\"755a5f4f-9eb3-4b6e-a743-0bee212c741b\",\"type\":\"LinearAxis\"},{\"attributes\":{},\"id\":\"da047d85-4fca-458f-a0d1-9020d6e00cb2\",\"type\":\"BasicTicker\"}],\"root_ids\":[\"0e7e3573-74fa-449f-9f22-9eaf921c15fd\"]},\"title\":\"Bokeh Application\",\"version\":\"0.13.0\"}};\n",
       "  var render_items = [{\"docid\":\"5d1184e5-80c5-4292-bade-f288659bb901\",\"roots\":{\"0e7e3573-74fa-449f-9f22-9eaf921c15fd\":\"3d3355ca-19bf-47e7-99cb-b848884b2d5f\"}}];\n",
       "  root.Bokeh.embed.embed_items_notebook(docs_json, render_items);\n",
       "\n",
       "  }\n",
       "  if (root.Bokeh !== undefined) {\n",
       "    embed_document(root);\n",
       "  } else {\n",
       "    var attempts = 0;\n",
       "    var timer = setInterval(function(root) {\n",
       "      if (root.Bokeh !== undefined) {\n",
       "        embed_document(root);\n",
       "        clearInterval(timer);\n",
       "      }\n",
       "      attempts++;\n",
       "      if (attempts > 100) {\n",
       "        console.log(\"Bokeh: ERROR: Unable to run BokehJS code because BokehJS library is missing\")\n",
       "        clearInterval(timer);\n",
       "      }\n",
       "    }, 10, root)\n",
       "  }\n",
       "})(window);"
      ],
      "application/vnd.bokehjs_exec.v0+json": ""
     },
     "metadata": {
      "application/vnd.bokehjs_exec.v0+json": {
       "id": "0e7e3573-74fa-449f-9f22-9eaf921c15fd"
      }
     },
     "output_type": "display_data"
    }
   ],
   "source": [
    "f = figure(plot_width=400, plot_height=250)\n",
    "\n",
    "# Create a scatter-plot\n",
    "f.scatter(boston_df[\"RM\"], boston_df[\"Price\"])\n",
    "    \n",
    "# Create the line\n",
    "x = boston_df[\"RM\"]\n",
    "f.line(x, a * x + b, color='red')\n",
    "\n",
    "## Add some axis information\n",
    "f.xaxis.axis_label = boston.feature_names[index]\n",
    "f.yaxis.axis_label = \"Price in $1000s\"\n",
    "\n",
    "show(f)"
   ]
  },
  {
   "cell_type": "markdown",
   "metadata": {},
   "source": [
    "### Computing the error\n",
    "So we see that this line obviously does not cover all the points in our dataset. To determine how good our solution is, we compute an error measure. In order to see what error measure makes sense, we must also see what the least squares method actually tries to minimize:\n",
    "\n",
    "If we recall that we want to make a line $\\mathbf{y}=a\\mathbf{x} +b$ that fits the data best. We want to minimize the distance of all points to this line (on the y scale). So if we assume that $\\mathbf{r}$ is the real value of the data point, we could determine the error by taking the average of the sum of differences between the vectors $\\mathbf{r}$ and $\\mathbf{y}$ to determine how far our estimation deviates from the truth, naively this would look like:\n",
    "\n",
    "$$J(a, b) = \\frac{1}{N}\\sum\\limits_{i = 1}^{N} (r(i) - y(i) ),$$\n",
    "\n",
    "where $y(i) = ax(i) + b$. As the above could also result into negative errors and we also kinda want to punish larger distances more, we square this error.\n",
    "\n",
    "$$J(a, b) = \\frac{1}{N}\\sum\\limits_{i = 1}^{N} (r(i) - y(i) )^2$$\n",
    "\n",
    "The above is also referred to as the Mean Squared Error (MSE), and this is one of the most used error functions for regression problems. Sometimes you also see it defined slightly differently, with a $\\frac{1}{2}$ added infront of the algorithm:\n",
    "\n",
    "$$J(a, b) = \\frac{1}{2N}\\sum\\limits_{i = 1}^{N} (r(i) - y(i) )^2$$\n",
    "\n",
    "this is just to make certain mathematical tricks easier for other problems. This does not change it's function though, as minimizing the half of a certain cost function, essentially does the same as minimizing just the cost function.\n",
    "\n",
    "We also have another cost function, called Root Mean Squared Error (RMSE), which is really just the following:\n",
    "\n",
    "$$ \\sqrt{MSE}$$\n",
    "\n",
    "This function might be nice to use, because it is very similar to computing the standard deviation.\n",
    "\n",
    "The goal of the algorithm in our univariate example is to minimize the cost function over $a$ and $b$. Which means that we want to find the best solution, while only modifying $a$ and $b$.\n",
    "\n",
    "*These videos are great for building intuition on the relation between the hypothesis function and the associated cost of that hypothesis for the data.*\n",
    "* [Cost function 1](https://www.youtube.com/watch?v=EANr4YttXIQ&list=PLZ9qNFMHZ-A4rycgrgOYma6zxF4BZGGPW&index=6)\n",
    "* [Cost function 2](https://www.youtube.com/watch?v=J5vJFwQWOaY&list=PLZ9qNFMHZ-A4rycgrgOYma6zxF4BZGGPW&index=7)"
   ]
  },
  {
   "cell_type": "markdown",
   "metadata": {},
   "source": [
    "So if we now want to compute this error for our example, we need a vector with the real prices, and the vector with our estimation.\n"
   ]
  },
  {
   "cell_type": "code",
   "execution_count": 13,
   "metadata": {},
   "outputs": [
    {
     "name": "stdout",
     "output_type": "stream",
     "text": [
      "506\n",
      "43.6005517712\n",
      "6.60307138922\n"
     ]
    }
   ],
   "source": [
    "r = np.array(boston_df[\"Price\"])\n",
    "x = np.array(boston_df[\"RM\"])\n",
    "y = a * x + b\n",
    "\n",
    "print(len(x))\n",
    "mse = sum((r-y) **2) / len(x)\n",
    "print(mse)\n",
    "rmse = np.sqrt(mse)\n",
    "print(rmse)"
   ]
  },
  {
   "cell_type": "markdown",
   "metadata": {},
   "source": [
    "Since the root mean square error (RMSE) corresponds approximately to the standard deviation we can now say that the price of a house won't vary more than 2 times the RMSE 95% of the time. [RMSE](https://en.wikipedia.org/wiki/Root-mean-square_deviation) and some additional [Theory](https://en.wikipedia.org/wiki/68%E2%80%9395%E2%80%9399.7_rule)\n",
    "\n",
    "Thus we can reasonably expect a house price to be within $13,200 of our line fit."
   ]
  },
  {
   "cell_type": "code",
   "execution_count": 14,
   "metadata": {},
   "outputs": [
    {
     "name": "stdout",
     "output_type": "stream",
     "text": [
      "43.6005517712\n"
     ]
    }
   ],
   "source": [
    "# Or just cheat and use built-ins to compute the MSE (but now you atleast know how it's done):\n",
    "from sklearn.metrics import mean_squared_error\n",
    "mse = mean_squared_error(r, y)\n",
    "print(mse)"
   ]
  },
  {
   "cell_type": "markdown",
   "metadata": {},
   "source": [
    "## Multivariate Regression\n",
    "As promised, we will not just stick to univariate regression. For multivariate regression we will maintain a similar strategy, but now we will use scikit-learn to use more than one feature.\n",
    "\n",
    "We'll start by importing the [linear regression library](http://scikit-learn.org/stable/modules/generated/sklearn.linear_model.LinearRegression.html) from the sklearn module.\n",
    "\n",
    "The sklearn.linear_model.LinearRegression class is an estimator. Estimators predict a value based on the observed data. In scikit-learn, all estimators implement the `fit()` and `predict()` methods. The former method is used to learn the parameters of a model, and the latter method is used to predict the value of a response variable for an explanatory variable using the learned parameters. It is easy to experiment with different models using scikit-learn because all estimators implement the fit and predict methods (more re-usable code!!)."
   ]
  },
  {
   "cell_type": "code",
   "execution_count": 15,
   "metadata": {},
   "outputs": [],
   "source": [
    "# Import for Linear Regression\n",
    "import sklearn\n",
    "from sklearn.linear_model import LinearRegression"
   ]
  },
  {
   "cell_type": "code",
   "execution_count": 16,
   "metadata": {},
   "outputs": [],
   "source": [
    "# Create a LinearRegression Object\n",
    "lreg = LinearRegression()"
   ]
  },
  {
   "cell_type": "markdown",
   "metadata": {},
   "source": [
    "The functions we will be using are:\n",
    "\n",
    "* `lreg.fit()` which fits a linear model\n",
    "* `reg.predict()` which is used to predict Y using the linear model with estimated coefficients\n",
    "* `lreg.score()` which returns the coefficient of determination (R^2). A measure of how well observed outcomes are replicated by the model, learn more about it [here](http://en.wikipedia.org/wiki/Coefficient_of_determination)\n"
   ]
  },
  {
   "cell_type": "markdown",
   "metadata": {},
   "source": [
    "\n",
    "But first we will split our DataFrame into data and target (pretty much going back to how we were handed the data originally, but now in a DataFrame). We then feed this data into the fit function."
   ]
  },
  {
   "cell_type": "code",
   "execution_count": 17,
   "metadata": {},
   "outputs": [
    {
     "data": {
      "text/plain": [
       "LinearRegression(copy_X=True, fit_intercept=True, n_jobs=1, normalize=False)"
      ]
     },
     "execution_count": 17,
     "metadata": {},
     "output_type": "execute_result"
    }
   ],
   "source": [
    "# Data Columns\n",
    "X_multi = boston_df.drop('Price',1)\n",
    "\n",
    "# Targets\n",
    "Y_target = boston_df.Price\n",
    "\n",
    "# Implement Linear Regression\n",
    "lreg.fit(X_multi,Y_target)"
   ]
  },
  {
   "cell_type": "markdown",
   "metadata": {},
   "source": [
    "We can now also see how many of the variables were actually used for this prediction"
   ]
  },
  {
   "cell_type": "code",
   "execution_count": 14,
   "metadata": {},
   "outputs": [
    {
     "name": "stdout",
     "output_type": "stream",
     "text": [
      " The estimated intercept coefficient is 36.49\n",
      " The number of coefficients used was 13\n"
     ]
    }
   ],
   "source": [
    "# What is our constant? (b in univariate regression)\n",
    "print(' The estimated intercept coefficient is {0:.2f}'.format(lreg.intercept_))\n",
    "\n",
    "print(' The number of coefficients used was {0:d}'.format(len(lreg.coef_)))"
   ]
  },
  {
   "cell_type": "markdown",
   "metadata": {},
   "source": [
    "Here we see that 13 coefficients were used this time (the same amount as the columns in our feature set). Where with univariate we used only 1 ($a$). So this time we get:\n",
    "\n",
    "$$ y(w,x) = w_0 + w_1 x_1 + ... + w_p x_p $$\n",
    "\n",
    "Where \n",
    "\n",
    "$$w = (w_1, ...w_p)$$ \n",
    "\n",
    "as the coefficients and $ w_0 $ as the intercept "
   ]
  },
  {
   "cell_type": "markdown",
   "metadata": {},
   "source": [
    "We can also easily see these variables:"
   ]
  },
  {
   "cell_type": "code",
   "execution_count": 15,
   "metadata": {},
   "outputs": [
    {
     "data": {
      "text/html": [
       "<div>\n",
       "<style>\n",
       "    .dataframe thead tr:only-child th {\n",
       "        text-align: right;\n",
       "    }\n",
       "\n",
       "    .dataframe thead th {\n",
       "        text-align: left;\n",
       "    }\n",
       "\n",
       "    .dataframe tbody tr th {\n",
       "        vertical-align: top;\n",
       "    }\n",
       "</style>\n",
       "<table border=\"1\" class=\"dataframe\">\n",
       "  <thead>\n",
       "    <tr style=\"text-align: right;\">\n",
       "      <th></th>\n",
       "      <th>Features</th>\n",
       "      <th>Coefficient Estimate</th>\n",
       "    </tr>\n",
       "  </thead>\n",
       "  <tbody>\n",
       "    <tr>\n",
       "      <th>5</th>\n",
       "      <td>RM</td>\n",
       "      <td>3.804752</td>\n",
       "    </tr>\n",
       "    <tr>\n",
       "      <th>3</th>\n",
       "      <td>CHAS</td>\n",
       "      <td>2.688561</td>\n",
       "    </tr>\n",
       "    <tr>\n",
       "      <th>8</th>\n",
       "      <td>RAD</td>\n",
       "      <td>0.305655</td>\n",
       "    </tr>\n",
       "    <tr>\n",
       "      <th>1</th>\n",
       "      <td>ZN</td>\n",
       "      <td>0.046395</td>\n",
       "    </tr>\n",
       "    <tr>\n",
       "      <th>2</th>\n",
       "      <td>INDUS</td>\n",
       "      <td>0.020860</td>\n",
       "    </tr>\n",
       "    <tr>\n",
       "      <th>11</th>\n",
       "      <td>B</td>\n",
       "      <td>0.009393</td>\n",
       "    </tr>\n",
       "    <tr>\n",
       "      <th>6</th>\n",
       "      <td>AGE</td>\n",
       "      <td>0.000751</td>\n",
       "    </tr>\n",
       "    <tr>\n",
       "      <th>9</th>\n",
       "      <td>TAX</td>\n",
       "      <td>-0.012329</td>\n",
       "    </tr>\n",
       "    <tr>\n",
       "      <th>0</th>\n",
       "      <td>CRIM</td>\n",
       "      <td>-0.107171</td>\n",
       "    </tr>\n",
       "    <tr>\n",
       "      <th>12</th>\n",
       "      <td>LSTAT</td>\n",
       "      <td>-0.525467</td>\n",
       "    </tr>\n",
       "    <tr>\n",
       "      <th>10</th>\n",
       "      <td>PTRATIO</td>\n",
       "      <td>-0.953464</td>\n",
       "    </tr>\n",
       "    <tr>\n",
       "      <th>7</th>\n",
       "      <td>DIS</td>\n",
       "      <td>-1.475759</td>\n",
       "    </tr>\n",
       "    <tr>\n",
       "      <th>4</th>\n",
       "      <td>NOX</td>\n",
       "      <td>-17.795759</td>\n",
       "    </tr>\n",
       "  </tbody>\n",
       "</table>\n",
       "</div>"
      ],
      "text/plain": [
       "   Features  Coefficient Estimate\n",
       "5        RM              3.804752\n",
       "3      CHAS              2.688561\n",
       "8       RAD              0.305655\n",
       "1        ZN              0.046395\n",
       "2     INDUS              0.020860\n",
       "11        B              0.009393\n",
       "6       AGE              0.000751\n",
       "9       TAX             -0.012329\n",
       "0      CRIM             -0.107171\n",
       "12    LSTAT             -0.525467\n",
       "10  PTRATIO             -0.953464\n",
       "7       DIS             -1.475759\n",
       "4       NOX            -17.795759"
      ]
     },
     "execution_count": 15,
     "metadata": {},
     "output_type": "execute_result"
    }
   ],
   "source": [
    "# Set a DataFrame from the Features\n",
    "coeff_df = DataFrame(boston_df.drop('Price', 1).columns)\n",
    "coeff_df.columns = ['Features']\n",
    "\n",
    "# Set a new column lining up the coefficients from the linear regression\n",
    "coeff_df[\"Coefficient Estimate\"] = pd.Series(lreg.coef_)\n",
    "\n",
    "# Show\n",
    "coeff_df.sort_values(by='Coefficient Estimate', ascending=False)"
   ]
  },
  {
   "cell_type": "markdown",
   "metadata": {},
   "source": [
    "Here we see that our number of rooms, is also the feature that has the highest positive correlation with the house price (What a coincidence that we totally randomly picked this column!)"
   ]
  },
  {
   "cell_type": "markdown",
   "metadata": {},
   "source": [
    "## Training and Test set\n",
    "This time we used all data for training (fitting). An annoying side-effect is that we now can no longer used this training data for testing (else it would be cheating). Hence we have to make seperate train and test set. The correct way to pick out samples from your dataset to be part either the training or test (also called validation) set is *randomly*.\n",
    "\n",
    "Fortunately, scikit learn has a built in function specifically for this called train_test_split.\n",
    "\n",
    "The parameters passed are your X and Y, then optionally test_size parameter, representing the proportion of the dataset to include in the test split. As well a train_size parameter. you can learn more about these parameters [here](http://scikit-learn.org/stable/modules/generated/sklearn.cross_validation.train_test_split.html)"
   ]
  },
  {
   "cell_type": "code",
   "execution_count": 19,
   "metadata": {},
   "outputs": [
    {
     "name": "stdout",
     "output_type": "stream",
     "text": [
      "(379, 2) (127, 2) (379,) (127,)\n",
      "[[ 6.24   1.   ]\n",
      " [ 5.88   1.   ]\n",
      " [ 5.565  1.   ]\n",
      " [ 6.461  1.   ]\n",
      " [ 6.43   1.   ]\n",
      " [ 6.389  1.   ]\n",
      " [ 5.968  1.   ]\n",
      " [ 5.794  1.   ]\n",
      " [ 6.63   1.   ]\n",
      " [ 5.888  1.   ]\n",
      " [ 4.906  1.   ]\n",
      " [ 6.127  1.   ]\n",
      " [ 5.961  1.   ]\n",
      " [ 5.277  1.   ]\n",
      " [ 6.103  1.   ]\n",
      " [ 7.61   1.   ]\n",
      " [ 5.602  1.   ]\n",
      " [ 5.966  1.   ]\n",
      " [ 6.23   1.   ]\n",
      " [ 6.167  1.   ]\n",
      " [ 5.     1.   ]\n",
      " [ 5.727  1.   ]\n",
      " [ 5.757  1.   ]\n",
      " [ 6.095  1.   ]\n",
      " [ 6.316  1.   ]\n",
      " [ 5.87   1.   ]\n",
      " [ 6.525  1.   ]\n",
      " [ 7.393  1.   ]\n",
      " [ 6.852  1.   ]\n",
      " [ 4.628  1.   ]\n",
      " [ 5.454  1.   ]\n",
      " [ 5.617  1.   ]\n",
      " [ 6.565  1.   ]\n",
      " [ 6.77   1.   ]\n",
      " [ 5.349  1.   ]\n",
      " [ 5.878  1.   ]\n",
      " [ 6.552  1.   ]\n",
      " [ 7.241  1.   ]\n",
      " [ 5.852  1.   ]\n",
      " [ 6.127  1.   ]\n",
      " [ 6.495  1.   ]\n",
      " [ 5.594  1.   ]\n",
      " [ 8.266  1.   ]\n",
      " [ 6.297  1.   ]\n",
      " [ 6.108  1.   ]\n",
      " [ 5.362  1.   ]\n",
      " [ 6.112  1.   ]\n",
      " [ 6.563  1.   ]\n",
      " [ 5.972  1.   ]\n",
      " [ 6.211  1.   ]\n",
      " [ 5.036  1.   ]\n",
      " [ 7.079  1.   ]\n",
      " [ 7.148  1.   ]\n",
      " [ 5.913  1.   ]\n",
      " [ 7.489  1.   ]\n",
      " [ 5.648  1.   ]\n",
      " [ 5.879  1.   ]\n",
      " [ 5.965  1.   ]\n",
      " [ 5.926  1.   ]\n",
      " [ 5.572  1.   ]\n",
      " [ 6.069  1.   ]\n",
      " [ 6.98   1.   ]\n",
      " [ 6.037  1.   ]\n",
      " [ 5.924  1.   ]\n",
      " [ 7.135  1.   ]\n",
      " [ 4.88   1.   ]\n",
      " [ 6.393  1.   ]\n",
      " [ 6.482  1.   ]\n",
      " [ 7.853  1.   ]\n",
      " [ 7.163  1.   ]\n",
      " [ 5.56   1.   ]\n",
      " [ 5.613  1.   ]\n",
      " [ 6.549  1.   ]\n",
      " [ 5.741  1.   ]\n",
      " [ 6.49   1.   ]\n",
      " [ 6.172  1.   ]\n",
      " [ 5.99   1.   ]\n",
      " [ 7.185  1.   ]\n",
      " [ 5.851  1.   ]\n",
      " [ 5.935  1.   ]\n",
      " [ 6.616  1.   ]\n",
      " [ 5.605  1.   ]\n",
      " [ 6.372  1.   ]\n",
      " [ 7.686  1.   ]\n",
      " [ 6.426  1.   ]\n",
      " [ 6.556  1.   ]\n",
      " [ 5.731  1.   ]\n",
      " [ 6.854  1.   ]\n",
      " [ 6.185  1.   ]\n",
      " [ 5.39   1.   ]\n",
      " [ 6.417  1.   ]\n",
      " [ 6.302  1.   ]\n",
      " [ 6.164  1.   ]\n",
      " [ 5.898  1.   ]\n",
      " [ 5.713  1.   ]\n",
      " [ 5.872  1.   ]\n",
      " [ 3.863  1.   ]\n",
      " [ 6.009  1.   ]\n",
      " [ 6.405  1.   ]\n",
      " [ 5.787  1.   ]\n",
      " [ 6.145  1.   ]\n",
      " [ 5.344  1.   ]\n",
      " [ 6.223  1.   ]\n",
      " [ 6.047  1.   ]\n",
      " [ 6.051  1.   ]\n",
      " [ 6.683  1.   ]\n",
      " [ 6.406  1.   ]\n",
      " [ 5.868  1.   ]\n",
      " [ 8.04   1.   ]\n",
      " [ 5.856  1.   ]\n",
      " [ 7.203  1.   ]\n",
      " [ 7.249  1.   ]\n",
      " [ 5.875  1.   ]\n",
      " [ 7.041  1.   ]\n",
      " [ 5.818  1.   ]\n",
      " [ 7.088  1.   ]\n",
      " [ 6.976  1.   ]\n",
      " [ 6.758  1.   ]\n",
      " [ 4.903  1.   ]\n",
      " [ 5.762  1.   ]\n",
      " [ 6.425  1.   ]\n",
      " [ 5.304  1.   ]\n",
      " [ 6.312  1.   ]\n",
      " [ 6.212  1.   ]\n",
      " [ 5.834  1.   ]\n",
      " [ 5.869  1.   ]\n",
      " [ 5.628  1.   ]\n",
      " [ 6.567  1.   ]\n",
      " [ 5.936  1.   ]\n",
      " [ 5.786  1.   ]\n",
      " [ 6.242  1.   ]\n",
      " [ 6.169  1.   ]\n",
      " [ 8.78   1.   ]\n",
      " [ 6.943  1.   ]\n",
      " [ 6.38   1.   ]\n",
      " [ 7.007  1.   ]\n",
      " [ 6.861  1.   ]\n",
      " [ 7.454  1.   ]\n",
      " [ 6.015  1.   ]\n",
      " [ 7.358  1.   ]\n",
      " [ 5.683  1.   ]\n",
      " [ 5.39   1.   ]\n",
      " [ 6.762  1.   ]\n",
      " [ 6.833  1.   ]\n",
      " [ 6.254  1.   ]\n",
      " [ 5.952  1.   ]\n",
      " [ 3.561  1.   ]\n",
      " [ 4.652  1.   ]\n",
      " [ 6.459  1.   ]\n",
      " [ 5.759  1.   ]\n",
      " [ 6.538  1.   ]\n",
      " [ 5.875  1.   ]\n",
      " [ 6.416  1.   ]\n",
      " [ 5.608  1.   ]\n",
      " [ 7.802  1.   ]\n",
      " [ 5.957  1.   ]\n",
      " [ 6.137  1.   ]\n",
      " [ 7.016  1.   ]\n",
      " [ 7.104  1.   ]\n",
      " [ 6.657  1.   ]\n",
      " [ 5.983  1.   ]\n",
      " [ 6.897  1.   ]\n",
      " [ 6.064  1.   ]\n",
      " [ 6.115  1.   ]\n",
      " [ 6.083  1.   ]\n",
      " [ 6.167  1.   ]\n",
      " [ 5.936  1.   ]\n",
      " [ 6.417  1.   ]\n",
      " [ 6.003  1.   ]\n",
      " [ 5.57   1.   ]\n",
      " [ 7.333  1.   ]\n",
      " [ 6.226  1.   ]\n",
      " [ 5.966  1.   ]\n",
      " [ 5.841  1.   ]\n",
      " [ 6.216  1.   ]\n",
      " [ 6.824  1.   ]\n",
      " [ 6.333  1.   ]\n",
      " [ 6.315  1.   ]\n",
      " [ 7.107  1.   ]\n",
      " [ 6.152  1.   ]\n",
      " [ 6.635  1.   ]\n",
      " [ 6.975  1.   ]\n",
      " [ 5.597  1.   ]\n",
      " [ 5.95   1.   ]\n",
      " [ 5.709  1.   ]\n",
      " [ 7.416  1.   ]\n",
      " [ 6.595  1.   ]\n",
      " [ 6.096  1.   ]\n",
      " [ 6.625  1.   ]\n",
      " [ 5.531  1.   ]\n",
      " [ 6.348  1.   ]\n",
      " [ 6.794  1.   ]\n",
      " [ 6.951  1.   ]\n",
      " [ 6.794  1.   ]\n",
      " [ 5.887  1.   ]\n",
      " [ 5.705  1.   ]\n",
      " [ 5.707  1.   ]\n",
      " [ 6.021  1.   ]\n",
      " [ 5.926  1.   ]\n",
      " [ 6.319  1.   ]\n",
      " [ 6.619  1.   ]\n",
      " [ 5.961  1.   ]\n",
      " [ 7.875  1.   ]\n",
      " [ 6.642  1.   ]\n",
      " [ 6.618  1.   ]\n",
      " [ 6.456  1.   ]\n",
      " [ 6.495  1.   ]\n",
      " [ 6.326  1.   ]\n",
      " [ 6.004  1.   ]\n",
      " [ 5.637  1.   ]\n",
      " [ 6.219  1.   ]\n",
      " [ 6.968  1.   ]\n",
      " [ 6.279  1.   ]\n",
      " [ 6.273  1.   ]\n",
      " [ 7.236  1.   ]\n",
      " [ 5.404  1.   ]\n",
      " [ 6.195  1.   ]\n",
      " [ 6.939  1.   ]\n",
      " [ 5.747  1.   ]\n",
      " [ 4.519  1.   ]\n",
      " [ 5.414  1.   ]\n",
      " [ 6.14   1.   ]\n",
      " [ 5.837  1.   ]\n",
      " [ 6.153  1.   ]\n",
      " [ 5.708  1.   ]\n",
      " [ 6.232  1.   ]\n",
      " [ 6.54   1.   ]\n",
      " [ 6.286  1.   ]\n",
      " [ 6.129  1.   ]\n",
      " [ 6.812  1.   ]\n",
      " [ 5.813  1.   ]\n",
      " [ 6.209  1.   ]\n",
      " [ 6.579  1.   ]\n",
      " [ 6.251  1.   ]\n",
      " [ 6.727  1.   ]\n",
      " [ 6.635  1.   ]\n",
      " [ 5.599  1.   ]\n",
      " [ 5.981  1.   ]\n",
      " [ 6.152  1.   ]\n",
      " [ 6.421  1.   ]\n",
      " [ 6.019  1.   ]\n",
      " [ 6.229  1.   ]\n",
      " [ 6.871  1.   ]\n",
      " [ 8.398  1.   ]\n",
      " [ 6.193  1.   ]\n",
      " [ 5.986  1.   ]\n",
      " [ 6.343  1.   ]\n",
      " [ 6.315  1.   ]\n",
      " [ 6.593  1.   ]\n",
      " [ 6.739  1.   ]\n",
      " [ 5.888  1.   ]\n",
      " [ 6.065  1.   ]\n",
      " [ 8.247  1.   ]\n",
      " [ 5.593  1.   ]\n",
      " [ 6.382  1.   ]\n",
      " [ 6.728  1.   ]\n",
      " [ 6.86   1.   ]\n",
      " [ 7.274  1.   ]\n",
      " [ 7.412  1.   ]\n",
      " [ 5.682  1.   ]\n",
      " [ 5.155  1.   ]\n",
      " [ 8.375  1.   ]\n",
      " [ 6.317  1.   ]\n",
      " [ 6.782  1.   ]\n",
      " [ 5.693  1.   ]\n",
      " [ 6.059  1.   ]\n",
      " [ 7.178  1.   ]\n",
      " [ 8.704  1.   ]\n",
      " [ 5.836  1.   ]\n",
      " [ 6.957  1.   ]\n",
      " [ 5.604  1.   ]\n",
      " [ 6.122  1.   ]\n",
      " [ 6.086  1.   ]\n",
      " [ 6.38   1.   ]\n",
      " [ 6.487  1.   ]\n",
      " [ 6.727  1.   ]\n",
      " [ 8.725  1.   ]\n",
      " [ 5.399  1.   ]\n",
      " [ 6.12   1.   ]\n",
      " [ 6.98   1.   ]\n",
      " [ 5.976  1.   ]\n",
      " [ 6.25   1.   ]\n",
      " [ 5.927  1.   ]\n",
      " [ 6.092  1.   ]\n",
      " [ 6.211  1.   ]\n",
      " [ 7.47   1.   ]\n",
      " [ 6.335  1.   ]\n",
      " [ 6.453  1.   ]\n",
      " [ 6.516  1.   ]\n",
      " [ 6.433  1.   ]\n",
      " [ 6.678  1.   ]\n",
      " [ 5.877  1.   ]\n",
      " [ 6.176  1.   ]\n",
      " [ 6.004  1.   ]\n",
      " [ 6.027  1.   ]\n",
      " [ 5.963  1.   ]\n",
      " [ 6.395  1.   ]\n",
      " [ 5.012  1.   ]\n",
      " [ 6.162  1.   ]\n",
      " [ 5.822  1.   ]\n",
      " [ 7.313  1.   ]\n",
      " [ 5.876  1.   ]\n",
      " [ 6.442  1.   ]\n",
      " [ 8.259  1.   ]\n",
      " [ 5.713  1.   ]\n",
      " [ 6.474  1.   ]\n",
      " [ 5.933  1.   ]\n",
      " [ 6.114  1.   ]\n",
      " [ 5.985  1.   ]\n",
      " [ 5.79   1.   ]\n",
      " [ 6.174  1.   ]\n",
      " [ 6.163  1.   ]\n",
      " [ 5.987  1.   ]\n",
      " [ 5.854  1.   ]\n",
      " [ 5.536  1.   ]\n",
      " [ 7.82   1.   ]\n",
      " [ 6.405  1.   ]\n",
      " [ 6.193  1.   ]\n",
      " [ 6.041  1.   ]\n",
      " [ 5.701  1.   ]\n",
      " [ 6.546  1.   ]\n",
      " [ 6.375  1.   ]\n",
      " [ 6.345  1.   ]\n",
      " [ 6.249  1.   ]\n",
      " [ 5.896  1.   ]\n",
      " [ 6.629  1.   ]\n",
      " [ 6.606  1.   ]\n",
      " [ 8.069  1.   ]\n",
      " [ 6.101  1.   ]\n",
      " [ 5.631  1.   ]\n",
      " [ 6.438  1.   ]\n",
      " [ 6.251  1.   ]\n",
      " [ 6.604  1.   ]\n",
      " [ 6.142  1.   ]\n",
      " [ 6.575  1.   ]\n",
      " [ 6.649  1.   ]\n",
      " [ 5.569  1.   ]\n",
      " [ 5.663  1.   ]\n",
      " [ 5.949  1.   ]\n",
      " [ 7.287  1.   ]\n",
      " [ 6.402  1.   ]\n",
      " [ 5.272  1.   ]\n",
      " [ 5.757  1.   ]\n",
      " [ 4.97   1.   ]\n",
      " [ 6.122  1.   ]\n",
      " [ 5.857  1.   ]\n",
      " [ 6.312  1.   ]\n",
      " [ 6.879  1.   ]\n",
      " [ 6.121  1.   ]\n",
      " [ 5.905  1.   ]\n",
      " [ 5.456  1.   ]\n",
      " [ 5.871  1.   ]\n",
      " [ 6.29   1.   ]\n",
      " [ 7.645  1.   ]\n",
      " [ 7.929  1.   ]\n",
      " [ 5.928  1.   ]\n",
      " [ 6.376  1.   ]\n",
      " [ 5.093  1.   ]\n",
      " [ 6.437  1.   ]\n",
      " [ 6.431  1.   ]\n",
      " [ 6.398  1.   ]\n",
      " [ 6.383  1.   ]\n",
      " [ 6.63   1.   ]\n",
      " [ 5.453  1.   ]\n",
      " [ 5.427  1.   ]\n",
      " [ 6.03   1.   ]\n",
      " [ 6.358  1.   ]\n",
      " [ 6.081  1.   ]\n",
      " [ 5.951  1.   ]\n",
      " [ 7.206  1.   ]\n",
      " [ 5.854  1.   ]\n",
      " [ 5.96   1.   ]\n",
      " [ 5.891  1.   ]\n",
      " [ 6.471  1.   ]\n",
      " [ 7.155  1.   ]\n",
      " [ 7.831  1.   ]\n",
      " [ 5.885  1.   ]\n",
      " [ 5.019  1.   ]\n",
      " [ 5.783  1.   ]]\n"
     ]
    }
   ],
   "source": [
    "import sklearn.model_selection\n",
    "# Grab the output and set as X and Y test and train data sets!\n",
    "X_train, X_test, Y_train, Y_test = sklearn.model_selection.train_test_split(X,boston_df.Price)\n",
    "\n",
    "# Print shapes of the training and testing data sets\n",
    "print(X_train.shape, X_test.shape, Y_train.shape, Y_test.shape)\n",
    "print(X_train)"
   ]
  },
  {
   "cell_type": "markdown",
   "metadata": {},
   "source": [
    "Now that we fixed this minor inconvenience of not having a train/test set, we can actually get started with the predictions!"
   ]
  },
  {
   "cell_type": "markdown",
   "metadata": {},
   "source": [
    "## The Prediction"
   ]
  },
  {
   "cell_type": "code",
   "execution_count": 20,
   "metadata": {},
   "outputs": [
    {
     "data": {
      "text/plain": [
       "LinearRegression(copy_X=True, fit_intercept=True, n_jobs=1, normalize=False)"
      ]
     },
     "execution_count": 20,
     "metadata": {},
     "output_type": "execute_result"
    }
   ],
   "source": [
    "# Create our regression object\n",
    "lreg = LinearRegression()\n",
    "\n",
    "# Once again do a linear regression, except only on the training sets this time\n",
    "lreg.fit(X_train,Y_train)"
   ]
  },
  {
   "cell_type": "code",
   "execution_count": 21,
   "metadata": {},
   "outputs": [],
   "source": [
    "# Predictions on training and testing sets\n",
    "pred_train = lreg.predict(X_train)\n",
    "pred_test = lreg.predict(X_test)"
   ]
  },
  {
   "cell_type": "code",
   "execution_count": 22,
   "metadata": {},
   "outputs": [
    {
     "name": "stdout",
     "output_type": "stream",
     "text": [
      "Fit a model X_train, and calculate MSE with Y_train: 45.53\n",
      "Fit a model X_train, and calculate MSE with X_test and Y_test: 38.06\n"
     ]
    }
   ],
   "source": [
    "from sklearn.metrics import mean_squared_error\n",
    "mse = mean_squared_error(r, y)\n",
    "\n",
    "print(\"Fit a model X_train, and calculate MSE with Y_train: {0:.2f}\".format(mean_squared_error(Y_train, pred_train)))\n",
    "    \n",
    "print(\"Fit a model X_train, and calculate MSE with X_test and Y_test: {0:.2f}\".format(mean_squared_error(Y_test, pred_test)))"
   ]
  },
  {
   "cell_type": "markdown",
   "metadata": {},
   "source": [
    "# K-Means Clustering"
   ]
  },
  {
   "cell_type": "markdown",
   "metadata": {},
   "source": [
    "K-means is a clustering algorithm that tries to partition a set of points into K sets (clusters) such that the points in each cluster tend to be near each other. It is unsupervised because the points have no external classification."
   ]
  },
  {
   "cell_type": "code",
   "execution_count": 22,
   "metadata": {},
   "outputs": [],
   "source": [
    "import matplotlib.pyplot as plt\n",
    "from sklearn import datasets\n",
    "from sklearn.cluster import KMeans\n",
    "import sklearn.metrics as sm\n",
    " \n",
    "import pandas as pd\n",
    "import numpy as np\n",
    " \n",
    "# Only needed if you want to display your plots inline if using Notebook\n",
    "# change inline to auto if you have Spyder installed\n",
    "%matplotlib inline"
   ]
  },
  {
   "cell_type": "markdown",
   "metadata": {},
   "source": [
    "Now we will use a familiar face again, the Iris dataset. Can you think of a reason why we might not want to take the boston dataset as an example for K-Means clustering?"
   ]
  },
  {
   "cell_type": "code",
   "execution_count": 24,
   "metadata": {},
   "outputs": [],
   "source": [
    "# import some data to play with\n",
    "iris = datasets.load_iris()"
   ]
  },
  {
   "cell_type": "markdown",
   "metadata": {},
   "source": [
    "I love Pandas, hence you shall come to love it too (and it simply makes some things just a lot easier)."
   ]
  },
  {
   "cell_type": "code",
   "execution_count": 25,
   "metadata": {},
   "outputs": [],
   "source": [
    "# Store the inputs as a Pandas Dataframe and set the column names\n",
    "x = pd.DataFrame(iris.data)\n",
    "x.columns = ['Sepal_Length','Sepal_Width','Petal_Length','Petal_Width']\n",
    " \n",
    "y = pd.DataFrame(iris.target)\n",
    "y.columns = ['Targets']"
   ]
  },
  {
   "cell_type": "markdown",
   "metadata": {},
   "source": [
    "Although we have seen this dataset before, it is always good to visualize the dataset before working with it. Hence we shall do so again. Similar to before, we will do this by using a scatter plot. We will also set it to use some colours so it is clearer what the official classes are."
   ]
  },
  {
   "cell_type": "code",
   "execution_count": 26,
   "metadata": {},
   "outputs": [
    {
     "data": {
      "text/plain": [
       "Text(0,0.5,'Petal Width')"
      ]
     },
     "execution_count": 26,
     "metadata": {},
     "output_type": "execute_result"
    },
    {
     "data": {
      "image/png": "[encoded data removed]",
      "text/plain": [
       "<matplotlib.figure.Figure at 0x7f7b6324f4e0>"
      ]
     },
     "metadata": {},
     "output_type": "display_data"
    }
   ],
   "source": [
    "# Set the size of the plot\n",
    "plt.figure(figsize=(7,7))\n",
    " \n",
    "# Create a colormap\n",
    "colormap = np.array(['red', 'lime', 'black'])\n",
    " \n",
    "# Plotting the petals\n",
    " \n",
    "plt.scatter(x.Petal_Length, x.Petal_Width, c=colormap[y.Targets], s=40)\n",
    "plt.title('Petal')\n",
    "plt.xlabel('Petal Length')\n",
    "plt.ylabel('Petal Width')"
   ]
  },
  {
   "cell_type": "markdown",
   "metadata": {},
   "source": [
    "### K-Means model\n",
    "\n",
    "Setting up the K-Means model is pretty simple with scikit-learn. The simplest approach really just needs one variable, namely the number of clusters.\n",
    "\n",
    "For an initial display, we create the model and specify the number of clusters the model should find (n_clusters=3) next we fit the model to the data."
   ]
  },
  {
   "cell_type": "code",
   "execution_count": 27,
   "metadata": {},
   "outputs": [
    {
     "data": {
      "text/plain": [
       "array([0, 0, 0, 0, 0, 0, 0, 0, 0, 0, 0, 0, 0, 0, 0, 0, 0, 0, 0, 0, 0, 0, 0,\n",
       "       0, 0, 0, 0, 0, 0, 0, 0, 0, 0, 0, 0, 0, 0, 0, 0, 0, 0, 0, 0, 0, 0, 0,\n",
       "       0, 0, 0, 0, 1, 1, 2, 1, 1, 1, 1, 1, 1, 1, 1, 1, 1, 1, 1, 1, 1, 1, 1,\n",
       "       1, 1, 1, 1, 1, 1, 1, 1, 2, 1, 1, 1, 1, 1, 1, 1, 1, 1, 1, 1, 1, 1, 1,\n",
       "       1, 1, 1, 1, 1, 1, 1, 1, 2, 1, 2, 2, 2, 2, 1, 2, 2, 2, 2, 2, 2, 1, 1,\n",
       "       2, 2, 2, 2, 1, 2, 1, 2, 1, 2, 2, 1, 1, 2, 2, 2, 2, 2, 1, 2, 2, 2, 2,\n",
       "       1, 2, 2, 2, 1, 2, 2, 2, 1, 2, 2, 1], dtype=int32)"
      ]
     },
     "execution_count": 27,
     "metadata": {},
     "output_type": "execute_result"
    }
   ],
   "source": [
    "# K Means Cluster\n",
    "model = KMeans(n_clusters=3)\n",
    "model.fit(x)\n",
    "\n",
    "# This is what KMeans thought\n",
    "model.labels_"
   ]
  },
  {
   "cell_type": "markdown",
   "metadata": {},
   "source": [
    "## Well... that sure tells us a lot... not. Let us try visualising once more!"
   ]
  },
  {
   "cell_type": "code",
   "execution_count": 34,
   "metadata": {},
   "outputs": [
    {
     "data": {
      "image/png": "[encoded data removed]",
      "text/plain": [
       "<matplotlib.figure.Figure at 0x7f7b63078518>"
      ]
     },
     "metadata": {},
     "output_type": "display_data"
    }
   ],
   "source": [
    "# View the results\n",
    "# Set the size of the plot\n",
    "plt.figure(figsize=(14,7))\n",
    " \n",
    "# Create a colormap\n",
    "colormap = np.array(['red', 'lime', 'black'])\n",
    " \n",
    "# Plot the Original Classifications\n",
    "plt.subplot(1, 2, 1)\n",
    "plt.scatter(x.Petal_Length, x.Petal_Width, c=colormap[y.Targets], s=40)\n",
    "plt.title('Real Classification')\n",
    " \n",
    "# Plot the Models Classifications\n",
    "plt.subplot(1, 2, 2)\n",
    "plt.scatter(x.Petal_Length, x.Petal_Width, c=colormap[model.labels_], s=40)\n",
    "plt.title('K Mean Classification')\n",
    "predY = model.labels_"
   ]
  },
  {
   "cell_type": "markdown",
   "metadata": {},
   "source": [
    "The order of colors might be messed up. The perfectionists that we are, we can not let this slide! Now because the approach is unsupervised, the nubmer assignment can be different every time. Hence the code below might have to be different for you to correct the colors."
   ]
  },
  {
   "cell_type": "code",
   "execution_count": 30,
   "metadata": {},
   "outputs": [
    {
     "name": "stdout",
     "output_type": "stream",
     "text": [
      "[0, 0, 0, 0, 0, 0, 0, 0, 0, 0, 0, 0, 0, 0, 0, 0, 0, 0, 0, 0, 0, 0, 0, 0, 0, 0, 0, 0, 0, 0, 0, 0, 0, 0, 0, 0, 0, 0, 0, 0, 0, 0, 0, 0, 0, 0, 0, 0, 0, 0, 1, 1, 1, 1, 1, 1, 1, 1, 1, 1, 1, 1, 1, 1, 1, 1, 1, 1, 1, 1, 1, 1, 1, 1, 1, 1, 1, 1, 1, 1, 1, 1, 1, 1, 1, 1, 1, 1, 1, 1, 1, 1, 1, 1, 1, 1, 1, 1, 1, 1, 2, 2, 2, 2, 2, 2, 2, 2, 2, 2, 2, 2, 2, 2, 2, 2, 2, 2, 2, 2, 2, 2, 2, 2, 2, 2, 2, 2, 2, 2, 2, 2, 2, 2, 2, 2, 2, 2, 2, 2, 2, 2, 2, 2, 2, 2, 2, 2, 2, 2]\n",
      "[0 0 0 0 0 0 0 0 0 0 0 0 0 0 0 0 0 0 0 0 0 0 0 0 0 0 0 0 0 0 0 0 0 0 0 0 0\n",
      " 0 0 0 0 0 0 0 0 0 0 0 0 0 1 1 2 1 1 1 1 1 1 1 1 1 1 1 1 1 1 1 1 1 1 1 1 1\n",
      " 1 1 1 2 1 1 1 1 1 1 1 1 1 1 1 1 1 1 1 1 1 1 1 1 1 1 2 1 2 2 2 2 1 2 2 2 2\n",
      " 2 2 1 1 2 2 2 2 1 2 1 2 1 2 2 1 1 2 2 2 2 2 1 2 2 2 2 1 2 2 2 1 2 2 2 1 2\n",
      " 2 1]\n",
      "[2 2 2 2 2 2 2 2 2 2 2 2 2 2 2 2 2 2 2 2 2 2 2 2 2 2 2 2 2 2 2 2 2 2 2 2 2\n",
      " 2 2 2 2 2 2 2 2 2 2 2 2 2 0 0 1 0 0 0 0 0 0 0 0 0 0 0 0 0 0 0 0 0 0 0 0 0\n",
      " 0 0 0 1 0 0 0 0 0 0 0 0 0 0 0 0 0 0 0 0 0 0 0 0 0 0 1 0 1 1 1 1 0 1 1 1 1\n",
      " 1 1 0 0 1 1 1 1 0 1 0 1 0 1 1 0 0 1 1 1 1 1 0 1 1 1 1 0 1 1 1 0 1 1 1 0 1\n",
      " 1 0]\n"
     ]
    }
   ],
   "source": [
    "# The fix, we convert all the 0s to 2s and 1s to 0s and 2s to 1s.\n",
    "predY = np.choose(model.labels_, [2, 0, 1]).astype(np.int64)\n",
    "print(list(y.Targets))\n",
    "print (model.labels_)\n",
    "print (predY)"
   ]
  },
  {
   "cell_type": "code",
   "execution_count": 31,
   "metadata": {},
   "outputs": [
    {
     "data": {
      "text/plain": [
       "Text(0.5,1,'K Mean Classification')"
      ]
     },
     "execution_count": 31,
     "metadata": {},
     "output_type": "execute_result"
    },
    {
     "data": {
      "image/png": "[encoded data removed]",
      "text/plain": [
       "<matplotlib.figure.Figure at 0x7f7b63175f28>"
      ]
     },
     "metadata": {},
     "output_type": "display_data"
    }
   ],
   "source": [
    "# View the results\n",
    "# Set the size of the plot\n",
    "plt.figure(figsize=(14,7))\n",
    " \n",
    "# Create a colormap\n",
    "colormap = np.array(['red', 'lime', 'black'])\n",
    "\n",
    "# Plot Orginal\n",
    "plt.subplot(1, 2, 1)\n",
    "plt.scatter(x.Petal_Length, x.Petal_Width, c=colormap[y.Targets], s=40)\n",
    "plt.title('Real Classification')\n",
    " \n",
    "# Plot Predicted with corrected values\n",
    "plt.subplot(1, 2, 2)\n",
    "plt.scatter(x.Petal_Length, x.Petal_Width, c=colormap[predY], s=40)\n",
    "plt.title('K Mean Classification')"
   ]
  },
  {
   "cell_type": "markdown",
   "metadata": {},
   "source": [
    "No we can see that the K Means classifier has identified one class correctly (red) but some blacks have been classed as greens and vice versa."
   ]
  },
  {
   "cell_type": "markdown",
   "metadata": {},
   "source": [
    "### Measuring Performance\n",
    "There are a number of ways in which we can measure a classifiers performance. Here we will calculate the accuracy and also the confusion matrix.\n",
    "\n",
    "We need to values y which is the true (original) values and predY which are the models values."
   ]
  },
  {
   "cell_type": "code",
   "execution_count": 35,
   "metadata": {},
   "outputs": [
    {
     "data": {
      "text/plain": [
       "0.89333333333333331"
      ]
     },
     "execution_count": 35,
     "metadata": {},
     "output_type": "execute_result"
    }
   ],
   "source": [
    "# Performance Metrics (All hail the built-ins!)\n",
    "sm.accuracy_score(y, predY)"
   ]
  },
  {
   "cell_type": "markdown",
   "metadata": {},
   "source": [
    "My result was 0.89, so we can say that the model has an accuracy of 89%. Seeing how the we worked with an unsupervised model, these certainly don't look like bad results! Although accuracy can be used in multi-class classification/clustering. We also often use the mean Average Precision instead (mAP, do note that `Average Precision` is a metric by itself, hence we can take the mean of it). This metrics works better with skewed data (e.g. with accuracy you can have the problem that your data consist of 90% of class 1s, your model just always predicts 1. Easy 90% accuracy. But your model is probably worthless)."
   ]
  },
  {
   "cell_type": "markdown",
   "metadata": {},
   "source": [
    "Another thing you can look at is the confusion matrix. This matrix can tell you which class has been misclassified as another class in detail.\n",
    "You can see which classes get mixed up, and hence might be messing up your results."
   ]
  },
  {
   "cell_type": "code",
   "execution_count": 36,
   "metadata": {},
   "outputs": [
    {
     "data": {
      "text/plain": [
       "array([[50,  0,  0],\n",
       "       [ 0, 48,  2],\n",
       "       [ 0, 14, 36]])"
      ]
     },
     "execution_count": 36,
     "metadata": {},
     "output_type": "execute_result"
    }
   ],
   "source": [
    "# Confusion Matrix\n",
    "sm.confusion_matrix(y, predY)"
   ]
  },
  {
   "cell_type": "markdown",
   "metadata": {},
   "source": [
    "We can derive the following things from this matrix:\n",
    "    \n",
    "* All objects that are of class 0, have also been classified as 0.\n",
    "* 48  objects that are of class 1, have been classified as 1. 2 of those objects have been classified as class 2.\n",
    "* 36 objects of class 2 were classified correctly. 14 objects of class 2 were classified as class 1.\n"
   ]
  },
  {
   "cell_type": "markdown",
   "metadata": {},
   "source": [
    "### Are we note forgetting something?\n",
    "So in the example above we just picked the number of clusters to be equal to 3. We came to this number by simply abusing the fact that we know the dataset. But sadly we are not all-knowing, and we might encounter datasets where we do not know the number of unique classes. Which begs the question, is there a way to determina this number if you do not know the dataset? (Hint: yes)"
   ]
  },
  {
   "cell_type": "code",
   "execution_count": 37,
   "metadata": {},
   "outputs": [],
   "source": [
    "# Let's grab our example again:\n",
    "iris = datasets.load_iris()\n",
    "# Store the inputs as a Pandas Dataframe and set the column names\n",
    "x = pd.DataFrame(iris.data)\n",
    "x.columns = ['Sepal_Length','Sepal_Width','Petal_Length','Petal_Width']\n",
    " \n",
    "y = pd.DataFrame(iris.target)\n",
    "y.columns = ['Targets']"
   ]
  },
  {
   "cell_type": "markdown",
   "metadata": {},
   "source": [
    "[Paraphrased from here](https://www.datascience.com/blog/k-means-clustering)\n",
    "\n",
    "To find the number of clusters in the data, we can run the K-means clustering algorithm for a range of K values and compare the results. In general, there is no method for determining exact value of K, but an accurate estimate can be obtained using the following simple technique.\n",
    "\n",
    "One of the metrics that is commonly used to compare results across different values of K is the mean distance between data points and their cluster centroid. Since increasing the number of clusters will always reduce the distance to data points, increasing K will always decrease this metric, to the extreme of reaching zero when K is the same as the number of data points. Thus, this metric cannot be used as the sole target. Instead, mean distance to the centroid as a function of K is plotted and the `elbow point`, where the rate of decrease sharply shifts, can be used to roughly determine K."
   ]
  },
  {
   "cell_type": "code",
   "execution_count": 38,
   "metadata": {},
   "outputs": [
    {
     "name": "stdout",
     "output_type": "stream",
     "text": [
      "KMeans(algorithm='auto', copy_x=True, init='k-means++', max_iter=300,\n",
      "    n_clusters=3, n_init=10, n_jobs=1, precompute_distances='auto',\n",
      "    random_state=None, tol=0.0001, verbose=0)\n",
      "\n"
     ]
    },
    {
     "data": {
      "text/plain": [
       "78.940841426146022"
      ]
     },
     "execution_count": 38,
     "metadata": {},
     "output_type": "execute_result"
    }
   ],
   "source": [
    "# K Means Cluster\n",
    "model = KMeans(n_clusters=3)\n",
    "model.fit(x)\n",
    "\n",
    "print(model)\n",
    "print()\n",
    "\n",
    "# http://scikit-learn.org/stable/modules/generated/sklearn.cluster.KMeans.html\n",
    "\n",
    "# This is what KMeans thought\n",
    "model.inertia_"
   ]
  },
  {
   "cell_type": "code",
   "execution_count": 39,
   "metadata": {},
   "outputs": [
    {
     "name": "stdout",
     "output_type": "stream",
     "text": [
      "[680.82439999999997, 152.36870647733906, 78.940841426146022, 57.317873214285711, 46.535582051282049, 38.930963049671746, 34.198464618714624, 29.879919754370562, 27.914323593073593]\n"
     ]
    }
   ],
   "source": [
    "inertias = []\n",
    "\n",
    "for i in range(1, 10):\n",
    "    model = KMeans(n_clusters=i)\n",
    "    model.fit(x)\n",
    "    inertias.append(model.inertia_)\n",
    "print(inertias)"
   ]
  },
  {
   "cell_type": "code",
   "execution_count": 40,
   "metadata": {},
   "outputs": [
    {
     "data": {
      "text/html": [
       "\n",
       "<div class=\"bk-root\">\n",
       "    <div class=\"bk-plotdiv\" id=\"f820f57f-e36e-41c4-87fd-d54ba854ede7\"></div>\n",
       "</div>"
      ]
     },
     "metadata": {},
     "output_type": "display_data"
    },
    {
     "data": {
      "application/javascript": [
       "(function(root) {\n",
       "  function embed_document(root) {\n",
       "    \n",
       "  var docs_json = {\"7831a294-ac10-4d19-9a1d-c8fa22ea4a7d\":{\"roots\":{\"references\":[{\"attributes\":{},\"id\":\"fc8e6c26-44cb-4dbe-bb48-fcc95d9801ca\",\"type\":\"BasicTicker\"},{\"attributes\":{},\"id\":\"817a61aa-2a09-4e9a-a2a8-74307b3a048f\",\"type\":\"BasicTicker\"},{\"attributes\":{\"axis_label\":\"Number of Clusters\",\"formatter\":{\"id\":\"0e023b17-7950-4145-859b-eed66877cc39\",\"type\":\"BasicTickFormatter\"},\"plot\":{\"id\":\"a9c19ec6-da96-4d28-b0b6-de22af3520c2\",\"subtype\":\"Figure\",\"type\":\"Plot\"},\"ticker\":{\"id\":\"817a61aa-2a09-4e9a-a2a8-74307b3a048f\",\"type\":\"BasicTicker\"}},\"id\":\"e28470ef-3a23-476b-bc52-27d6ce79deb9\",\"type\":\"LinearAxis\"},{\"attributes\":{\"dimension\":1,\"plot\":{\"id\":\"a9c19ec6-da96-4d28-b0b6-de22af3520c2\",\"subtype\":\"Figure\",\"type\":\"Plot\"},\"ticker\":{\"id\":\"fc8e6c26-44cb-4dbe-bb48-fcc95d9801ca\",\"type\":\"BasicTicker\"}},\"id\":\"7bb8cb23-1be9-4da8-9d04-cf3922989e77\",\"type\":\"Grid\"},{\"attributes\":{},\"id\":\"146e8897-6f94-4745-9a8f-92ada3feb5a8\",\"type\":\"Selection\"},{\"attributes\":{},\"id\":\"e228de03-50ca-4157-b735-603faed4654b\",\"type\":\"LinearScale\"},{\"attributes\":{},\"id\":\"3f164340-c0ee-4a86-9c05-aff319c0c8e7\",\"type\":\"WheelZoomTool\"},{\"attributes\":{\"active_drag\":\"auto\",\"active_inspect\":\"auto\",\"active_scroll\":\"auto\",\"active_tap\":\"auto\",\"tools\":[{\"id\":\"38212547-c729-4df8-b548-34739b380561\",\"type\":\"PanTool\"},{\"id\":\"3f164340-c0ee-4a86-9c05-aff319c0c8e7\",\"type\":\"WheelZoomTool\"},{\"id\":\"5411a0cd-03e7-401c-8aa1-ef73bd0b1211\",\"type\":\"BoxZoomTool\"},{\"id\":\"66e95e2c-fa90-4292-9813-60651109b6d6\",\"type\":\"SaveTool\"},{\"id\":\"238075a5-241b-4431-bcb2-7e6d74406ba3\",\"type\":\"ResetTool\"},{\"id\":\"5235bbd9-4124-4815-a53d-d83408e6c178\",\"type\":\"HelpTool\"}]},\"id\":\"5db5a0cf-f1a0-41dc-9b85-2c2b62fd74ff\",\"type\":\"Toolbar\"},{\"attributes\":{\"callback\":null},\"id\":\"f7f78c2e-2469-4143-9ed9-8a9187007e2f\",\"type\":\"DataRange1d\"},{\"attributes\":{},\"id\":\"238075a5-241b-4431-bcb2-7e6d74406ba3\",\"type\":\"ResetTool\"},{\"attributes\":{\"below\":[{\"id\":\"e28470ef-3a23-476b-bc52-27d6ce79deb9\",\"type\":\"LinearAxis\"}],\"left\":[{\"id\":\"950210e0-dcab-4637-92c1-b3ce9f06d7cb\",\"type\":\"LinearAxis\"}],\"plot_height\":250,\"plot_width\":400,\"renderers\":[{\"id\":\"e28470ef-3a23-476b-bc52-27d6ce79deb9\",\"type\":\"LinearAxis\"},{\"id\":\"611f6ccb-49a0-41a6-af8c-ef2f447546a7\",\"type\":\"Grid\"},{\"id\":\"950210e0-dcab-4637-92c1-b3ce9f06d7cb\",\"type\":\"LinearAxis\"},{\"id\":\"7bb8cb23-1be9-4da8-9d04-cf3922989e77\",\"type\":\"Grid\"},{\"id\":\"38133b5c-6b2e-4679-969e-7518e407ea1d\",\"type\":\"BoxAnnotation\"},{\"id\":\"2ab05f31-d3e7-4eca-9b7b-2d6f694963c2\",\"type\":\"GlyphRenderer\"}],\"title\":{\"id\":\"ef0f5ad7-95b8-4317-8ee4-3d8f31c09b8a\",\"type\":\"Title\"},\"toolbar\":{\"id\":\"5db5a0cf-f1a0-41dc-9b85-2c2b62fd74ff\",\"type\":\"Toolbar\"},\"x_range\":{\"id\":\"f7f78c2e-2469-4143-9ed9-8a9187007e2f\",\"type\":\"DataRange1d\"},\"x_scale\":{\"id\":\"e228de03-50ca-4157-b735-603faed4654b\",\"type\":\"LinearScale\"},\"y_range\":{\"id\":\"5f1c2abb-0bf2-412d-ac87-71f683e521b0\",\"type\":\"DataRange1d\"},\"y_scale\":{\"id\":\"5f3b89b9-b0ff-4688-8eda-73331282a01b\",\"type\":\"LinearScale\"}},\"id\":\"a9c19ec6-da96-4d28-b0b6-de22af3520c2\",\"subtype\":\"Figure\",\"type\":\"Plot\"},{\"attributes\":{\"data_source\":{\"id\":\"611b0d49-46e7-4dbf-9fc3-2ac8c1f8b3b7\",\"type\":\"ColumnDataSource\"},\"glyph\":{\"id\":\"0de02b6e-5135-4919-8b6c-a4e5d834d161\",\"type\":\"Line\"},\"hover_glyph\":null,\"muted_glyph\":null,\"nonselection_glyph\":{\"id\":\"ec3f8f06-0b04-4a83-aae3-d5a546f86c7c\",\"type\":\"Line\"},\"selection_glyph\":null,\"view\":{\"id\":\"60610e70-04fd-4e86-a25f-3fe1cc162713\",\"type\":\"CDSView\"}},\"id\":\"2ab05f31-d3e7-4eca-9b7b-2d6f694963c2\",\"type\":\"GlyphRenderer\"},{\"attributes\":{\"line_color\":\"#1f77b4\",\"x\":{\"field\":\"x\"},\"y\":{\"field\":\"y\"}},\"id\":\"0de02b6e-5135-4919-8b6c-a4e5d834d161\",\"type\":\"Line\"},{\"attributes\":{\"plot\":{\"id\":\"a9c19ec6-da96-4d28-b0b6-de22af3520c2\",\"subtype\":\"Figure\",\"type\":\"Plot\"},\"ticker\":{\"id\":\"817a61aa-2a09-4e9a-a2a8-74307b3a048f\",\"type\":\"BasicTicker\"}},\"id\":\"611f6ccb-49a0-41a6-af8c-ef2f447546a7\",\"type\":\"Grid\"},{\"attributes\":{\"bottom_units\":\"screen\",\"fill_alpha\":{\"value\":0.5},\"fill_color\":{\"value\":\"lightgrey\"},\"left_units\":\"screen\",\"level\":\"overlay\",\"line_alpha\":{\"value\":1.0},\"line_color\":{\"value\":\"black\"},\"line_dash\":[4,4],\"line_width\":{\"value\":2},\"plot\":null,\"render_mode\":\"css\",\"right_units\":\"screen\",\"top_units\":\"screen\"},\"id\":\"38133b5c-6b2e-4679-969e-7518e407ea1d\",\"type\":\"BoxAnnotation\"},{\"attributes\":{},\"id\":\"bee7c28a-db7e-4bde-84ce-a32358797f74\",\"type\":\"UnionRenderers\"},{\"attributes\":{},\"id\":\"5235bbd9-4124-4815-a53d-d83408e6c178\",\"type\":\"HelpTool\"},{\"attributes\":{\"overlay\":{\"id\":\"38133b5c-6b2e-4679-969e-7518e407ea1d\",\"type\":\"BoxAnnotation\"}},\"id\":\"5411a0cd-03e7-401c-8aa1-ef73bd0b1211\",\"type\":\"BoxZoomTool\"},{\"attributes\":{\"plot\":null,\"text\":\"\"},\"id\":\"ef0f5ad7-95b8-4317-8ee4-3d8f31c09b8a\",\"type\":\"Title\"},{\"attributes\":{},\"id\":\"7d360fc8-1420-4340-96bc-ec670ed8cbc1\",\"type\":\"BasicTickFormatter\"},{\"attributes\":{\"callback\":null,\"data\":{\"x\":[1,2,3,4,5,6,7,8,9],\"y\":[680.8244,152.36870647733906,78.94084142614602,57.31787321428571,46.53558205128205,38.930963049671746,34.198464618714624,29.87991975437056,27.914323593073593]},\"selected\":{\"id\":\"146e8897-6f94-4745-9a8f-92ada3feb5a8\",\"type\":\"Selection\"},\"selection_policy\":{\"id\":\"bee7c28a-db7e-4bde-84ce-a32358797f74\",\"type\":\"UnionRenderers\"}},\"id\":\"611b0d49-46e7-4dbf-9fc3-2ac8c1f8b3b7\",\"type\":\"ColumnDataSource\"},{\"attributes\":{\"source\":{\"id\":\"611b0d49-46e7-4dbf-9fc3-2ac8c1f8b3b7\",\"type\":\"ColumnDataSource\"}},\"id\":\"60610e70-04fd-4e86-a25f-3fe1cc162713\",\"type\":\"CDSView\"},{\"attributes\":{},\"id\":\"38212547-c729-4df8-b548-34739b380561\",\"type\":\"PanTool\"},{\"attributes\":{},\"id\":\"0e023b17-7950-4145-859b-eed66877cc39\",\"type\":\"BasicTickFormatter\"},{\"attributes\":{\"callback\":null},\"id\":\"5f1c2abb-0bf2-412d-ac87-71f683e521b0\",\"type\":\"DataRange1d\"},{\"attributes\":{},\"id\":\"5f3b89b9-b0ff-4688-8eda-73331282a01b\",\"type\":\"LinearScale\"},{\"attributes\":{\"axis_label\":\"Inertia\",\"formatter\":{\"id\":\"7d360fc8-1420-4340-96bc-ec670ed8cbc1\",\"type\":\"BasicTickFormatter\"},\"plot\":{\"id\":\"a9c19ec6-da96-4d28-b0b6-de22af3520c2\",\"subtype\":\"Figure\",\"type\":\"Plot\"},\"ticker\":{\"id\":\"fc8e6c26-44cb-4dbe-bb48-fcc95d9801ca\",\"type\":\"BasicTicker\"}},\"id\":\"950210e0-dcab-4637-92c1-b3ce9f06d7cb\",\"type\":\"LinearAxis\"},{\"attributes\":{\"line_alpha\":0.1,\"line_color\":\"#1f77b4\",\"x\":{\"field\":\"x\"},\"y\":{\"field\":\"y\"}},\"id\":\"ec3f8f06-0b04-4a83-aae3-d5a546f86c7c\",\"type\":\"Line\"},{\"attributes\":{},\"id\":\"66e95e2c-fa90-4292-9813-60651109b6d6\",\"type\":\"SaveTool\"}],\"root_ids\":[\"a9c19ec6-da96-4d28-b0b6-de22af3520c2\"]},\"title\":\"Bokeh Application\",\"version\":\"0.12.16\"}};\n",
       "  var render_items = [{\"docid\":\"7831a294-ac10-4d19-9a1d-c8fa22ea4a7d\",\"elementid\":\"f820f57f-e36e-41c4-87fd-d54ba854ede7\",\"modelid\":\"a9c19ec6-da96-4d28-b0b6-de22af3520c2\"}];\n",
       "  root.Bokeh.embed.embed_items_notebook(docs_json, render_items);\n",
       "\n",
       "  }\n",
       "  if (root.Bokeh !== undefined) {\n",
       "    embed_document(root);\n",
       "  } else {\n",
       "    var attempts = 0;\n",
       "    var timer = setInterval(function(root) {\n",
       "      if (root.Bokeh !== undefined) {\n",
       "        embed_document(root);\n",
       "        clearInterval(timer);\n",
       "      }\n",
       "      attempts++;\n",
       "      if (attempts > 100) {\n",
       "        console.log(\"Bokeh: ERROR: Unable to run BokehJS code because BokehJS library is missing\")\n",
       "        clearInterval(timer);\n",
       "      }\n",
       "    }, 10, root)\n",
       "  }\n",
       "})(window);"
      ],
      "application/vnd.bokehjs_exec.v0+json": ""
     },
     "metadata": {
      "application/vnd.bokehjs_exec.v0+json": {
       "id": "a9c19ec6-da96-4d28-b0b6-de22af3520c2"
      }
     },
     "output_type": "display_data"
    }
   ],
   "source": [
    "f = figure(plot_width=400, plot_height=250)\n",
    "\n",
    "# Create the line\n",
    "x = boston_df[\"RM\"]\n",
    "f.line(range(1, 10), inertias)\n",
    "\n",
    "## Add some axis information\n",
    "f.xaxis.axis_label = 'Number of Clusters'\n",
    "f.yaxis.axis_label = 'Inertia'\n",
    "\n",
    "show(f)"
   ]
  },
  {
   "cell_type": "markdown",
   "metadata": {},
   "source": [
    "So well, hopefully you see why we refer to a an `elbow point`. We look for a change in direction between inertia values.\n",
    "Here we see a distinct change at both 2 and 3 clusters. Normally you wouldh ave tried both, to see which fits best. But remember.. if you have knowledge of a dataset, you can choose to cheat. Just document to your reader why you chose a specific value. We do not like `Magic numbers` (values that appear out of thin air)."
   ]
  }
 ],
 "metadata": {
  "kernelspec": {
   "display_name": "Python 3",
   "language": "python",
   "name": "python3"
  },
  "language_info": {
   "codemirror_mode": {
    "name": "ipython",
    "version": 3
   },
   "file_extension": ".py",
   "mimetype": "text/x-python",
   "name": "python",
   "nbconvert_exporter": "python",
   "pygments_lexer": "ipython3",
   "version": "3.6.3"
  }
 },
 "nbformat": 4,
 "nbformat_minor": 2
}
